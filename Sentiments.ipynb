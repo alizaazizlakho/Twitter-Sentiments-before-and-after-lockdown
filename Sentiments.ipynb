{
  "nbformat": 4,
  "nbformat_minor": 0,
  "metadata": {
    "colab": {
      "name": "Sentiments.ipynb",
      "provenance": [],
      "collapsed_sections": [],
      "toc_visible": true
    },
    "kernelspec": {
      "name": "python3",
      "display_name": "Python 3"
    }
  },
  "cells": [
    {
      "cell_type": "code",
      "metadata": {
        "id": "X2BcqlV6f2wL",
        "colab": {
          "base_uri": "https://localhost:8080/",
          "height": 1000
        },
        "outputId": "47170586-38b2-4b43-b833-66e1f922bee8"
      },
      "source": [
        "!pip install --user -r requirements.txt"
      ],
      "execution_count": 6,
      "outputs": [
        {
          "output_type": "stream",
          "text": [
            "Collecting optimuspyspark\n",
            "\u001b[?25l  Downloading https://files.pythonhosted.org/packages/80/1d/24ab8c3b22ace1b812b9928ac8279b1066595777edfbd75d53787b1bc4da/optimuspyspark-2.2.32-py3-none-any.whl (65.1MB)\n",
            "\u001b[K     |████████████████████████████████| 65.1MB 60kB/s \n",
            "\u001b[?25hCollecting aiohttp\n",
            "\u001b[?25l  Downloading https://files.pythonhosted.org/packages/ad/e6/d4b6235d776c9b33f853e603efede5aac5a34f71ca9d3877adb30492eb4e/aiohttp-3.7.3-cp36-cp36m-manylinux2014_x86_64.whl (1.3MB)\n",
            "\u001b[K     |████████████████████████████████| 1.3MB 36.6MB/s \n",
            "\u001b[?25hCollecting aiodns\n",
            "  Downloading https://files.pythonhosted.org/packages/da/01/8f2d49b441573fd2478833bdba91cf0b853b4c750a1fbb9e98de1b94bb22/aiodns-2.0.0-py2.py3-none-any.whl\n",
            "Requirement already satisfied: beautifulsoup4 in /usr/local/lib/python3.6/dist-packages (from -r requirements.txt (line 4)) (4.6.3)\n",
            "Collecting cchardet\n",
            "\u001b[?25l  Downloading https://files.pythonhosted.org/packages/a0/e5/a0b9edd8664ea3b0d3270c451ebbf86655ed9fc4c3e4c45b9afae9c2e382/cchardet-2.1.7-cp36-cp36m-manylinux2010_x86_64.whl (263kB)\n",
            "\u001b[K     |████████████████████████████████| 266kB 34.2MB/s \n",
            "\u001b[?25hCollecting elasticsearch\n",
            "\u001b[?25l  Downloading https://files.pythonhosted.org/packages/86/74/054342aa07121f7c82e30ae63e3f257a793a69ddc11c5065449252dcd8af/elasticsearch-7.10.1-py2.py3-none-any.whl (322kB)\n",
            "\u001b[K     |████████████████████████████████| 327kB 54.0MB/s \n",
            "\u001b[?25hRequirement already satisfied: pysocks in /usr/local/lib/python3.6/dist-packages (from -r requirements.txt (line 7)) (1.7.1)\n",
            "Requirement already satisfied: pandas>=0.23.0 in /usr/local/lib/python3.6/dist-packages (from -r requirements.txt (line 8)) (1.1.5)\n",
            "Collecting aiohttp_socks\n",
            "  Downloading https://files.pythonhosted.org/packages/14/11/67750d2d6ba48eae602392b55513441058a2a004e5271276df03d3ed6393/aiohttp_socks-0.5.5-py3-none-any.whl\n",
            "Collecting schedule\n",
            "  Downloading https://files.pythonhosted.org/packages/57/22/3a709462eb02412bd1145f6e53604f36bba191e3e4e397bea4a718fec38c/schedule-0.6.0-py2.py3-none-any.whl\n",
            "Requirement already satisfied: geopy in /usr/local/lib/python3.6/dist-packages (from -r requirements.txt (line 11)) (1.17.0)\n",
            "Requirement already satisfied: nest_asyncio in /usr/local/lib/python3.6/dist-packages (from -r requirements.txt (line 12)) (1.4.3)\n",
            "Requirement already satisfied: TextBlob in /usr/local/lib/python3.6/dist-packages (from -r requirements.txt (line 13)) (0.15.3)\n",
            "Requirement already satisfied: wordcloud in /usr/local/lib/python3.6/dist-packages (from -r requirements.txt (line 14)) (1.5.0)\n",
            "Collecting findspark==1.3.0\n",
            "  Downloading https://files.pythonhosted.org/packages/b1/c8/e6e1f6a303ae5122dc28d131b5a67c5eb87cbf8f7ac5b9f87764ea1b1e1e/findspark-1.3.0-py2.py3-none-any.whl\n",
            "Collecting imgkit==1.0.1\n",
            "  Downloading https://files.pythonhosted.org/packages/e5/f1/d03e16756ee4c6b89d24ae596b180e23c7a54a997a8b8ed611eb9ce3cf12/imgkit-1.0.1.tar.gz\n",
            "Collecting ordered-set==3.1.1\n",
            "  Downloading https://files.pythonhosted.org/packages/a3/b7/d4d69641cbe707a45c23b190f2d717466ba5accc4c70b5f7a8a450387895/ordered-set-3.1.1.tar.gz\n",
            "Collecting numpy==1.17.2\n",
            "\u001b[?25l  Downloading https://files.pythonhosted.org/packages/e5/e6/c3fdc53aed9fa19d6ff3abf97dfad768ae3afce1b7431f7500000816bda5/numpy-1.17.2-cp36-cp36m-manylinux1_x86_64.whl (20.4MB)\n",
            "\u001b[K     |████████████████████████████████| 20.4MB 1.8MB/s \n",
            "\u001b[?25hCollecting deprecated==1.2.5\n",
            "  Downloading https://files.pythonhosted.org/packages/9f/7a/003fa432f1e45625626549726c2fbb7a29baa764e9d1fdb2323a5d779f8a/Deprecated-1.2.5-py2.py3-none-any.whl\n",
            "Collecting singleton-decorator==1.0.0\n",
            "  Downloading https://files.pythonhosted.org/packages/33/98/a8b5c919bee1152a9a1afd82014431f8db5882699754de50d1b3aba4d136/singleton-decorator-1.0.0.tar.gz\n",
            "Collecting requests==2.20.0\n",
            "\u001b[?25l  Downloading https://files.pythonhosted.org/packages/f1/ca/10332a30cb25b627192b4ea272c351bce3ca1091e541245cccbace6051d8/requests-2.20.0-py2.py3-none-any.whl (60kB)\n",
            "\u001b[K     |████████████████████████████████| 61kB 6.1MB/s \n",
            "\u001b[?25hCollecting pyarrow==0.13.0\n",
            "\u001b[?25l  Downloading https://files.pythonhosted.org/packages/ad/25/094b122d828d24b58202712a74e661e36cd551ca62d331e388ff68bae91d/pyarrow-0.13.0-cp36-cp36m-manylinux1_x86_64.whl (48.5MB)\n",
            "\u001b[K     |████████████████████████████████| 48.5MB 123kB/s \n",
            "\u001b[?25hCollecting matplotlib==3.0.3\n",
            "\u001b[?25l  Downloading https://files.pythonhosted.org/packages/e9/69/f5e05f578585ed9935247be3788b374f90701296a70c8871bcd6d21edb00/matplotlib-3.0.3-cp36-cp36m-manylinux1_x86_64.whl (13.0MB)\n",
            "\u001b[K     |████████████████████████████████| 13.0MB 43.3MB/s \n",
            "\u001b[?25hCollecting backoff==1.10.0\n",
            "  Downloading https://files.pythonhosted.org/packages/f0/32/c5dd4f4b0746e9ec05ace2a5045c1fc375ae67ee94355344ad6c7005fd87/backoff-1.10.0-py2.py3-none-any.whl\n",
            "Collecting tqdm==4.28.1\n",
            "\u001b[?25l  Downloading https://files.pythonhosted.org/packages/91/55/8cb23a97301b177e9c8e3226dba45bb454411de2cbd25746763267f226c2/tqdm-4.28.1-py2.py3-none-any.whl (45kB)\n",
            "\u001b[K     |████████████████████████████████| 51kB 5.0MB/s \n",
            "\u001b[?25hCollecting Jinja2==2.10.1\n",
            "\u001b[?25l  Downloading https://files.pythonhosted.org/packages/1d/e7/fd8b501e7a6dfe492a433deb7b9d833d39ca74916fa8bc63dd1a4947a671/Jinja2-2.10.1-py2.py3-none-any.whl (124kB)\n",
            "\u001b[K     |████████████████████████████████| 133kB 44.3MB/s \n",
            "\u001b[?25hCollecting pyspark==2.4.1\n",
            "\u001b[?25l  Downloading https://files.pythonhosted.org/packages/f2/64/a1df4440483df47381bbbf6a03119ef66515cf2e1a766d9369811575454b/pyspark-2.4.1.tar.gz (215.7MB)\n",
            "\u001b[K     |████████████████████████████████| 215.7MB 67kB/s \n",
            "\u001b[?25hCollecting nltk==3.4.5\n",
            "\u001b[?25l  Downloading https://files.pythonhosted.org/packages/f6/1d/d925cfb4f324ede997f6d47bea4d9babba51b49e87a767c170b77005889d/nltk-3.4.5.zip (1.5MB)\n",
            "\u001b[K     |████████████████████████████████| 1.5MB 27.5MB/s \n",
            "\u001b[?25hCollecting ratelimit==2.2.1\n",
            "  Downloading https://files.pythonhosted.org/packages/ab/38/ff60c8fc9e002d50d48822cc5095deb8ebbc5f91a6b8fdd9731c87a147c9/ratelimit-2.2.1.tar.gz\n",
            "Collecting packaging==19.0\n",
            "  Downloading https://files.pythonhosted.org/packages/91/32/58bc30e646e55eab8b21abf89e353f59c0cc02c417e42929f4a9546e1b1d/packaging-19.0-py2.py3-none-any.whl\n",
            "Collecting kombu==4.6.1\n",
            "\u001b[?25l  Downloading https://files.pythonhosted.org/packages/5c/a4/1ae4a599112f5ea63a7535200a77ab5b4692b9c1e4ca1b7080a6a3cf85c1/kombu-4.6.1-py2.py3-none-any.whl (182kB)\n",
            "\u001b[K     |████████████████████████████████| 184kB 21.1MB/s \n",
            "\u001b[?25hCollecting psutil==5.7.2\n",
            "\u001b[?25l  Downloading https://files.pythonhosted.org/packages/aa/3e/d18f2c04cf2b528e18515999b0c8e698c136db78f62df34eee89cee205f1/psutil-5.7.2.tar.gz (460kB)\n",
            "\u001b[K     |████████████████████████████████| 460kB 47.5MB/s \n",
            "\u001b[?25hCollecting multipledispatch==0.6.0\n",
            "  Downloading https://files.pythonhosted.org/packages/89/79/429ecef45fd5e4504f7474d4c3c3c4668c267be3370e4c2fd33e61506833/multipledispatch-0.6.0-py3-none-any.whl\n",
            "Collecting h2o-pysparkling-2.4==2.4.10\n",
            "\u001b[?25l  Downloading https://files.pythonhosted.org/packages/13/f5/400c1232720c444e56a0e997aafb8932e6e1384e228191a5bd410b657512/h2o_pysparkling_2.4-2.4.10.tar.gz (82.0MB)\n",
            "\u001b[K     |████████████████████████████████| 82.0MB 83kB/s \n",
            "\u001b[?25hCollecting flask==1.0.2\n",
            "\u001b[?25l  Downloading https://files.pythonhosted.org/packages/7f/e7/08578774ed4536d3242b14dacb4696386634607af824ea997202cd0edb4b/Flask-1.0.2-py2.py3-none-any.whl (91kB)\n",
            "\u001b[K     |████████████████████████████████| 92kB 7.9MB/s \n",
            "\u001b[?25hCollecting simplejson==3.16.0\n",
            "\u001b[?25l  Downloading https://files.pythonhosted.org/packages/e3/24/c35fb1c1c315fc0fffe61ea00d3f88e85469004713dab488dee4f35b0aff/simplejson-3.16.0.tar.gz (81kB)\n",
            "\u001b[K     |████████████████████████████████| 81kB 7.3MB/s \n",
            "\u001b[?25hCollecting keras==2.2.4\n",
            "\u001b[?25l  Downloading https://files.pythonhosted.org/packages/5e/10/aa32dad071ce52b5502266b5c659451cfd6ffcbf14e6c8c4f16c0ff5aaab/Keras-2.2.4-py2.py3-none-any.whl (312kB)\n",
            "\u001b[K     |████████████████████████████████| 317kB 37.2MB/s \n",
            "\u001b[?25hCollecting fastnumbers==2.2.1\n",
            "\u001b[?25l  Downloading https://files.pythonhosted.org/packages/f9/85/907a9adee5b08af3d8529b845a9ab41d9a1ece94b114424a11811fc8ae08/fastnumbers-2.2.1-cp36-cp36m-manylinux1_x86_64.whl (55kB)\n",
            "\u001b[K     |████████████████████████████████| 61kB 5.2MB/s \n",
            "\u001b[?25hRequirement already satisfied: humanize==0.5.1 in /usr/local/lib/python3.6/dist-packages (from optimuspyspark->-r requirements.txt (line 1)) (0.5.1)\n",
            "Collecting glom==19.10.0\n",
            "\u001b[?25l  Downloading https://files.pythonhosted.org/packages/c5/e2/f41ebac95f5fb8125883fd9f4ae8116b0f5815afd98d72dbe5734f590ee4/glom-19.10.0.tar.gz (146kB)\n",
            "\u001b[K     |████████████████████████████████| 153kB 46.9MB/s \n",
            "\u001b[?25hCollecting pymongo==3.9.0\n",
            "\u001b[?25l  Downloading https://files.pythonhosted.org/packages/6d/27/f30b90f40054948b32df04a8e6355946874d084ac73755986b28d3003578/pymongo-3.9.0-cp36-cp36m-manylinux1_x86_64.whl (446kB)\n",
            "\u001b[K     |████████████████████████████████| 450kB 47.5MB/s \n",
            "\u001b[?25hCollecting cryptography==2.7\n",
            "\u001b[?25l  Downloading https://files.pythonhosted.org/packages/97/18/c6557f63a6abde34707196fb2cad1c6dc0dbff25a200d5044922496668a4/cryptography-2.7-cp34-abi3-manylinux1_x86_64.whl (2.3MB)\n",
            "\u001b[K     |████████████████████████████████| 2.3MB 31.4MB/s \n",
            "\u001b[?25hCollecting tensorflow==1.13.1\n",
            "\u001b[?25l  Downloading https://files.pythonhosted.org/packages/77/63/a9fa76de8dffe7455304c4ed635be4aa9c0bacef6e0633d87d5f54530c5c/tensorflow-1.13.1-cp36-cp36m-manylinux1_x86_64.whl (92.5MB)\n",
            "\u001b[K     |████████████████████████████████| 92.5MB 46kB/s \n",
            "\u001b[?25hCollecting pypika==0.32.0\n",
            "\u001b[?25l  Downloading https://files.pythonhosted.org/packages/2c/95/4bde5976dc1fbf6d1f0cac894127f6e345e941a6f58efa5116497363e082/PyPika-0.32.0.tar.gz (42kB)\n",
            "\u001b[K     |████████████████████████████████| 51kB 4.7MB/s \n",
            "\u001b[?25hCollecting seaborn==0.9.0\n",
            "\u001b[?25l  Downloading https://files.pythonhosted.org/packages/a8/76/220ba4420459d9c4c9c9587c6ce607bf56c25b3d3d2de62056efe482dadc/seaborn-0.9.0-py3-none-any.whl (208kB)\n",
            "\u001b[K     |████████████████████████████████| 215kB 38.0MB/s \n",
            "\u001b[?25hCollecting deepdiff==4.0.6\n",
            "\u001b[?25l  Downloading https://files.pythonhosted.org/packages/f8/5c/a577c0279c36694c218988ff2e85c63b3d3b3b002034cd7f9dd361688570/deepdiff-4.0.6-py3-none-any.whl (47kB)\n",
            "\u001b[K     |████████████████████████████████| 51kB 5.4MB/s \n",
            "\u001b[?25hRequirement already satisfied: pygments>=2.2.0 in /usr/local/lib/python3.6/dist-packages (from optimuspyspark->-r requirements.txt (line 1)) (2.6.1)\n",
            "Collecting ipython==7.5.0\n",
            "\u001b[?25l  Downloading https://files.pythonhosted.org/packages/a9/2e/41dce4ed129057e05a555a7f9629aa2d5f81fdcd4d16568bc24b75a1d2c9/ipython-7.5.0-py3-none-any.whl (770kB)\n",
            "\u001b[K     |████████████████████████████████| 778kB 46.6MB/s \n",
            "\u001b[?25hCollecting statsmodels==0.10.1\n",
            "\u001b[?25l  Downloading https://files.pythonhosted.org/packages/60/d6/e9859e68e7d6c916fdff7d8e0958a7f5813485c52fc20d061273eaaddb0c/statsmodels-0.10.1-cp36-cp36m-manylinux1_x86_64.whl (8.1MB)\n",
            "\u001b[K     |████████████████████████████████| 8.1MB 35.5MB/s \n",
            "\u001b[?25hCollecting setuptools==41.6.0\n",
            "\u001b[?25l  Downloading https://files.pythonhosted.org/packages/d9/de/554b6310ac87c5b921bc45634b07b11394fe63bc4cb5176f5240addf18ab/setuptools-41.6.0-py2.py3-none-any.whl (582kB)\n",
            "\u001b[K     |████████████████████████████████| 583kB 35.3MB/s \n",
            "\u001b[?25hRequirement already satisfied: chardet<4.0,>=2.0 in /usr/local/lib/python3.6/dist-packages (from aiohttp->-r requirements.txt (line 2)) (3.0.4)\n",
            "Collecting async-timeout<4.0,>=3.0\n",
            "  Downloading https://files.pythonhosted.org/packages/e1/1e/5a4441be21b0726c4464f3f23c8b19628372f606755a9d2e46c187e65ec4/async_timeout-3.0.1-py3-none-any.whl\n",
            "Collecting yarl<2.0,>=1.0\n",
            "\u001b[?25l  Downloading https://files.pythonhosted.org/packages/da/08/52b26b44bce7b818b410aee37c5e424c9ea420c557bca97dc2adac29b151/yarl-1.6.3-cp36-cp36m-manylinux2014_x86_64.whl (293kB)\n",
            "\u001b[K     |████████████████████████████████| 296kB 33.4MB/s \n",
            "\u001b[?25hRequirement already satisfied: attrs>=17.3.0 in /usr/local/lib/python3.6/dist-packages (from aiohttp->-r requirements.txt (line 2)) (20.3.0)\n",
            "Collecting multidict<7.0,>=4.5\n",
            "\u001b[?25l  Downloading https://files.pythonhosted.org/packages/a1/35/b22524d6b9cacfb4c5eff413a069bbc17c6ea628e54da5c6c989998ced5f/multidict-5.1.0-cp36-cp36m-manylinux2014_x86_64.whl (141kB)\n",
            "\u001b[K     |████████████████████████████████| 143kB 47.0MB/s \n",
            "\u001b[?25hRequirement already satisfied: typing-extensions>=3.6.5 in /usr/local/lib/python3.6/dist-packages (from aiohttp->-r requirements.txt (line 2)) (3.7.4.3)\n",
            "Collecting idna-ssl>=1.0; python_version < \"3.7\"\n",
            "  Downloading https://files.pythonhosted.org/packages/46/03/07c4894aae38b0de52b52586b24bf189bb83e4ddabfe2e2c8f2419eec6f4/idna-ssl-1.1.0.tar.gz\n",
            "Collecting pycares>=3.0.0\n",
            "\u001b[?25l  Downloading https://files.pythonhosted.org/packages/43/2d/7f4984a23f6e99cf6a8b20ddc59308efb209fe81e79c97af65e9b30eefae/pycares-3.1.1-cp36-cp36m-manylinux2010_x86_64.whl (228kB)\n",
            "\u001b[K     |████████████████████████████████| 235kB 47.7MB/s \n",
            "\u001b[?25hCollecting typing; python_version < \"3.7\"\n",
            "\u001b[?25l  Downloading https://files.pythonhosted.org/packages/05/d9/6eebe19d46bd05360c9a9aae822e67a80f9242aabbfc58b641b957546607/typing-3.7.4.3.tar.gz (78kB)\n",
            "\u001b[K     |████████████████████████████████| 81kB 7.9MB/s \n",
            "\u001b[?25hRequirement already satisfied: certifi in /usr/local/lib/python3.6/dist-packages (from elasticsearch->-r requirements.txt (line 6)) (2020.12.5)\n",
            "Requirement already satisfied: urllib3<2,>=1.21.1 in /usr/local/lib/python3.6/dist-packages (from elasticsearch->-r requirements.txt (line 6)) (1.24.3)\n",
            "Requirement already satisfied: python-dateutil>=2.7.3 in /usr/local/lib/python3.6/dist-packages (from pandas>=0.23.0->-r requirements.txt (line 8)) (2.8.1)\n",
            "Requirement already satisfied: pytz>=2017.2 in /usr/local/lib/python3.6/dist-packages (from pandas>=0.23.0->-r requirements.txt (line 8)) (2018.9)\n",
            "Collecting python-socks[asyncio]>=1.0.1\n",
            "  Downloading https://files.pythonhosted.org/packages/99/f1/be24d47c81ad946ec382db87d72d8bd81e67e7ef1f84ce8c10a9863042bf/python_socks-1.2.0-py3-none-any.whl\n",
            "Requirement already satisfied: geographiclib<2,>=1.49 in /usr/local/lib/python3.6/dist-packages (from geopy->-r requirements.txt (line 11)) (1.50)\n",
            "Requirement already satisfied: pillow in /usr/local/lib/python3.6/dist-packages (from wordcloud->-r requirements.txt (line 14)) (7.0.0)\n",
            "Requirement already satisfied: wrapt<2,>=1 in /usr/local/lib/python3.6/dist-packages (from deprecated==1.2.5->optimuspyspark->-r requirements.txt (line 1)) (1.12.1)\n",
            "Collecting idna<2.8,>=2.5\n",
            "\u001b[?25l  Downloading https://files.pythonhosted.org/packages/4b/2a/0276479a4b3caeb8a8c1af2f8e4355746a97fab05a372e4a2c6a6b876165/idna-2.7-py2.py3-none-any.whl (58kB)\n",
            "\u001b[K     |████████████████████████████████| 61kB 6.3MB/s \n",
            "\u001b[?25hRequirement already satisfied: six>=1.0.0 in /usr/local/lib/python3.6/dist-packages (from pyarrow==0.13.0->optimuspyspark->-r requirements.txt (line 1)) (1.15.0)\n",
            "Requirement already satisfied: pyparsing!=2.0.4,!=2.1.2,!=2.1.6,>=2.0.1 in /usr/local/lib/python3.6/dist-packages (from matplotlib==3.0.3->optimuspyspark->-r requirements.txt (line 1)) (2.4.7)\n",
            "Requirement already satisfied: cycler>=0.10 in /usr/local/lib/python3.6/dist-packages (from matplotlib==3.0.3->optimuspyspark->-r requirements.txt (line 1)) (0.10.0)\n",
            "Requirement already satisfied: kiwisolver>=1.0.1 in /usr/local/lib/python3.6/dist-packages (from matplotlib==3.0.3->optimuspyspark->-r requirements.txt (line 1)) (1.3.1)\n",
            "Requirement already satisfied: MarkupSafe>=0.23 in /usr/local/lib/python3.6/dist-packages (from Jinja2==2.10.1->optimuspyspark->-r requirements.txt (line 1)) (1.1.1)\n",
            "Collecting py4j==0.10.7\n",
            "\u001b[?25l  Downloading https://files.pythonhosted.org/packages/e3/53/c737818eb9a7dc32a7cd4f1396e787bd94200c3997c72c1dbe028587bd76/py4j-0.10.7-py2.py3-none-any.whl (197kB)\n",
            "\u001b[K     |████████████████████████████████| 204kB 46.4MB/s \n",
            "\u001b[?25hCollecting amqp<3.0,>=2.5.0\n",
            "\u001b[?25l  Downloading https://files.pythonhosted.org/packages/bc/90/bb5ce93521772f083cb2d7a413bb82eda5afc62b4192adb7ea4c7b4858b9/amqp-2.6.1-py2.py3-none-any.whl (48kB)\n",
            "\u001b[K     |████████████████████████████████| 51kB 4.3MB/s \n",
            "\u001b[?25hRequirement already satisfied: tabulate in /usr/local/lib/python3.6/dist-packages (from h2o-pysparkling-2.4==2.4.10->optimuspyspark->-r requirements.txt (line 1)) (0.8.7)\n",
            "Requirement already satisfied: future in /usr/local/lib/python3.6/dist-packages (from h2o-pysparkling-2.4==2.4.10->optimuspyspark->-r requirements.txt (line 1)) (0.16.0)\n",
            "Collecting colorama>=0.3.8\n",
            "  Downloading https://files.pythonhosted.org/packages/44/98/5b86278fbbf250d239ae0ecb724f8572af1c91f4a11edf4d36a206189440/colorama-0.4.4-py2.py3-none-any.whl\n",
            "Requirement already satisfied: Werkzeug>=0.14 in /usr/local/lib/python3.6/dist-packages (from flask==1.0.2->optimuspyspark->-r requirements.txt (line 1)) (1.0.1)\n",
            "Requirement already satisfied: click>=5.1 in /usr/local/lib/python3.6/dist-packages (from flask==1.0.2->optimuspyspark->-r requirements.txt (line 1)) (7.1.2)\n",
            "Requirement already satisfied: itsdangerous>=0.24 in /usr/local/lib/python3.6/dist-packages (from flask==1.0.2->optimuspyspark->-r requirements.txt (line 1)) (1.1.0)\n",
            "Collecting keras-applications>=1.0.6\n",
            "\u001b[?25l  Downloading https://files.pythonhosted.org/packages/71/e3/19762fdfc62877ae9102edf6342d71b28fbfd9dea3d2f96a882ce099b03f/Keras_Applications-1.0.8-py3-none-any.whl (50kB)\n",
            "\u001b[K     |████████████████████████████████| 51kB 5.6MB/s \n",
            "\u001b[?25hRequirement already satisfied: h5py in /usr/local/lib/python3.6/dist-packages (from keras==2.2.4->optimuspyspark->-r requirements.txt (line 1)) (2.10.0)\n",
            "Requirement already satisfied: pyyaml in /usr/local/lib/python3.6/dist-packages (from keras==2.2.4->optimuspyspark->-r requirements.txt (line 1)) (3.13)\n",
            "Requirement already satisfied: keras-preprocessing>=1.0.5 in /usr/local/lib/python3.6/dist-packages (from keras==2.2.4->optimuspyspark->-r requirements.txt (line 1)) (1.1.2)\n",
            "Requirement already satisfied: scipy>=0.14 in /usr/local/lib/python3.6/dist-packages (from keras==2.2.4->optimuspyspark->-r requirements.txt (line 1)) (1.4.1)\n",
            "Collecting boltons>=19.3.0\n",
            "\u001b[?25l  Downloading https://files.pythonhosted.org/packages/71/e1/e7979a4a6d4b296b5935e926549fff540f7670ddaf09bbf137e2b022c039/boltons-20.2.1-py2.py3-none-any.whl (170kB)\n",
            "\u001b[K     |████████████████████████████████| 174kB 37.8MB/s \n",
            "\u001b[?25hCollecting face\n",
            "\u001b[?25l  Downloading https://files.pythonhosted.org/packages/ae/ab/2b18c4815f3db1e04bce325271fefda55d0893738ea84e3a655218944b03/face-20.1.1.tar.gz (46kB)\n",
            "\u001b[K     |████████████████████████████████| 51kB 5.5MB/s \n",
            "\u001b[?25hCollecting asn1crypto>=0.21.0\n",
            "\u001b[?25l  Downloading https://files.pythonhosted.org/packages/b5/a8/56be92dcd4a5bf1998705a9b4028249fe7c9a035b955fe93b6a3e5b829f8/asn1crypto-1.4.0-py2.py3-none-any.whl (104kB)\n",
            "\u001b[K     |████████████████████████████████| 112kB 52.8MB/s \n",
            "\u001b[?25hRequirement already satisfied: cffi!=1.11.3,>=1.8 in /usr/local/lib/python3.6/dist-packages (from cryptography==2.7->optimuspyspark->-r requirements.txt (line 1)) (1.14.4)\n",
            "Requirement already satisfied: termcolor>=1.1.0 in /usr/local/lib/python3.6/dist-packages (from tensorflow==1.13.1->optimuspyspark->-r requirements.txt (line 1)) (1.1.0)\n",
            "Collecting tensorflow-estimator<1.14.0rc0,>=1.13.0\n",
            "\u001b[?25l  Downloading https://files.pythonhosted.org/packages/bb/48/13f49fc3fa0fdf916aa1419013bb8f2ad09674c275b4046d5ee669a46873/tensorflow_estimator-1.13.0-py2.py3-none-any.whl (367kB)\n",
            "\u001b[K     |████████████████████████████████| 368kB 55.9MB/s \n",
            "\u001b[?25hRequirement already satisfied: absl-py>=0.1.6 in /usr/local/lib/python3.6/dist-packages (from tensorflow==1.13.1->optimuspyspark->-r requirements.txt (line 1)) (0.10.0)\n",
            "Requirement already satisfied: protobuf>=3.6.1 in /usr/local/lib/python3.6/dist-packages (from tensorflow==1.13.1->optimuspyspark->-r requirements.txt (line 1)) (3.12.4)\n",
            "Requirement already satisfied: astor>=0.6.0 in /usr/local/lib/python3.6/dist-packages (from tensorflow==1.13.1->optimuspyspark->-r requirements.txt (line 1)) (0.8.1)\n",
            "Collecting tensorboard<1.14.0,>=1.13.0\n",
            "\u001b[?25l  Downloading https://files.pythonhosted.org/packages/0f/39/bdd75b08a6fba41f098b6cb091b9e8c7a80e1b4d679a581a0ccd17b10373/tensorboard-1.13.1-py3-none-any.whl (3.2MB)\n",
            "\u001b[K     |████████████████████████████████| 3.2MB 44.2MB/s \n",
            "\u001b[?25hRequirement already satisfied: grpcio>=1.8.6 in /usr/local/lib/python3.6/dist-packages (from tensorflow==1.13.1->optimuspyspark->-r requirements.txt (line 1)) (1.32.0)\n",
            "Requirement already satisfied: wheel>=0.26 in /usr/local/lib/python3.6/dist-packages (from tensorflow==1.13.1->optimuspyspark->-r requirements.txt (line 1)) (0.36.2)\n",
            "Requirement already satisfied: gast>=0.2.0 in /usr/local/lib/python3.6/dist-packages (from tensorflow==1.13.1->optimuspyspark->-r requirements.txt (line 1)) (0.3.3)\n",
            "Collecting jsonpickle>=1.0\n",
            "  Downloading https://files.pythonhosted.org/packages/7d/09/600132ea6cd4f816cc8ae6a8cfe4f85d9f898f169756dbfc176037a3a2f2/jsonpickle-1.5.0-py2.py3-none-any.whl\n",
            "Requirement already satisfied: pexpect; sys_platform != \"win32\" in /usr/local/lib/python3.6/dist-packages (from ipython==7.5.0->optimuspyspark->-r requirements.txt (line 1)) (4.8.0)\n",
            "Requirement already satisfied: pickleshare in /usr/local/lib/python3.6/dist-packages (from ipython==7.5.0->optimuspyspark->-r requirements.txt (line 1)) (0.7.5)\n",
            "Requirement already satisfied: decorator in /usr/local/lib/python3.6/dist-packages (from ipython==7.5.0->optimuspyspark->-r requirements.txt (line 1)) (4.4.2)\n",
            "Requirement already satisfied: jedi>=0.10 in /usr/local/lib/python3.6/dist-packages (from ipython==7.5.0->optimuspyspark->-r requirements.txt (line 1)) (0.18.0)\n",
            "Requirement already satisfied: backcall in /usr/local/lib/python3.6/dist-packages (from ipython==7.5.0->optimuspyspark->-r requirements.txt (line 1)) (0.2.0)\n",
            "Requirement already satisfied: traitlets>=4.2 in /usr/local/lib/python3.6/dist-packages (from ipython==7.5.0->optimuspyspark->-r requirements.txt (line 1)) (4.3.3)\n",
            "Collecting prompt-toolkit<2.1.0,>=2.0.0\n",
            "\u001b[?25l  Downloading https://files.pythonhosted.org/packages/87/61/2dfea88583d5454e3a64f9308a686071d58d59a55db638268a6413e1eb6d/prompt_toolkit-2.0.10-py3-none-any.whl (340kB)\n",
            "\u001b[K     |████████████████████████████████| 348kB 46.7MB/s \n",
            "\u001b[?25hRequirement already satisfied: patsy>=0.4.0 in /usr/local/lib/python3.6/dist-packages (from statsmodels==0.10.1->optimuspyspark->-r requirements.txt (line 1)) (0.5.1)\n",
            "Collecting vine<5.0.0a1,>=1.1.3\n",
            "  Downloading https://files.pythonhosted.org/packages/7f/60/82c03047396126c8331ceb64da1dc52d4f1317209f32e8fe286d0c07365a/vine-1.3.0-py2.py3-none-any.whl\n",
            "Requirement already satisfied: pycparser in /usr/local/lib/python3.6/dist-packages (from cffi!=1.11.3,>=1.8->cryptography==2.7->optimuspyspark->-r requirements.txt (line 1)) (2.20)\n",
            "Collecting mock>=2.0.0\n",
            "  Downloading https://files.pythonhosted.org/packages/5c/03/b7e605db4a57c0f6fba744b11ef3ddf4ddebcada35022927a2b5fc623fdf/mock-4.0.3-py3-none-any.whl\n",
            "Requirement already satisfied: markdown>=2.6.8 in /usr/local/lib/python3.6/dist-packages (from tensorboard<1.14.0,>=1.13.0->tensorflow==1.13.1->optimuspyspark->-r requirements.txt (line 1)) (3.3.3)\n",
            "Requirement already satisfied: importlib-metadata; python_version < \"3.8\" in /usr/local/lib/python3.6/dist-packages (from jsonpickle>=1.0->deepdiff==4.0.6->optimuspyspark->-r requirements.txt (line 1)) (3.3.0)\n",
            "Requirement already satisfied: ptyprocess>=0.5 in /usr/local/lib/python3.6/dist-packages (from pexpect; sys_platform != \"win32\"->ipython==7.5.0->optimuspyspark->-r requirements.txt (line 1)) (0.7.0)\n",
            "Requirement already satisfied: parso<0.9.0,>=0.8.0 in /usr/local/lib/python3.6/dist-packages (from jedi>=0.10->ipython==7.5.0->optimuspyspark->-r requirements.txt (line 1)) (0.8.1)\n",
            "Requirement already satisfied: ipython-genutils in /usr/local/lib/python3.6/dist-packages (from traitlets>=4.2->ipython==7.5.0->optimuspyspark->-r requirements.txt (line 1)) (0.2.0)\n",
            "Requirement already satisfied: wcwidth in /usr/local/lib/python3.6/dist-packages (from prompt-toolkit<2.1.0,>=2.0.0->ipython==7.5.0->optimuspyspark->-r requirements.txt (line 1)) (0.2.5)\n",
            "Requirement already satisfied: zipp>=0.5 in /usr/local/lib/python3.6/dist-packages (from importlib-metadata; python_version < \"3.8\"->jsonpickle>=1.0->deepdiff==4.0.6->optimuspyspark->-r requirements.txt (line 1)) (3.4.0)\n",
            "Building wheels for collected packages: imgkit, ordered-set, singleton-decorator, pyspark, nltk, ratelimit, psutil, h2o-pysparkling-2.4, simplejson, glom, pypika, idna-ssl, typing, face\n",
            "  Building wheel for imgkit (setup.py) ... \u001b[?25l\u001b[?25hdone\n",
            "  Created wheel for imgkit: filename=imgkit-1.0.1-cp36-none-any.whl size=6587 sha256=b6d15e6c578d6ec4ec4c1694a0831328327394491ddc1ce76c6650dc9c575663\n",
            "  Stored in directory: /root/.cache/pip/wheels/a9/c0/97/27fd05c0ebb9fbb689a9fa2fe36cf8e9ada756f4a84a3d3454\n",
            "  Building wheel for ordered-set (setup.py) ... \u001b[?25l\u001b[?25hdone\n",
            "  Created wheel for ordered-set: filename=ordered_set-3.1.1-py2.py3-none-any.whl size=7812 sha256=10e3b246083cdbb7c0a91b6616ce0e2e70df1ec2bc3f74e8c936a13cea57d8d8\n",
            "  Stored in directory: /root/.cache/pip/wheels/dd/70/f1/0a4953bd6d06e7dbffe8ef0197b558eaecb21fa6b043b50d73\n",
            "  Building wheel for singleton-decorator (setup.py) ... \u001b[?25l\u001b[?25hdone\n",
            "  Created wheel for singleton-decorator: filename=singleton_decorator-1.0.0-cp36-none-any.whl size=3124 sha256=39b5de545c8b51c3e5a4b84bdb6a3ed81ef32c92c032375faf6401d2f877cdbe\n",
            "  Stored in directory: /root/.cache/pip/wheels/ce/43/87/9c4d65e727c32931aca54674ccf4f204e664306fbb507bcbd2\n",
            "  Building wheel for pyspark (setup.py) ... \u001b[?25l\u001b[?25hdone\n",
            "  Created wheel for pyspark: filename=pyspark-2.4.1-py2.py3-none-any.whl size=216054604 sha256=1d1806d0b476dcde64432c85bea63d00b41eec3e1e5a400549deac47667b3d00\n",
            "  Stored in directory: /root/.cache/pip/wheels/47/9b/57/7984bf19763749a13eece44c3174adb6ae4bc95b920375ff50\n",
            "  Building wheel for nltk (setup.py) ... \u001b[?25l\u001b[?25hdone\n",
            "  Created wheel for nltk: filename=nltk-3.4.5-cp36-none-any.whl size=1449907 sha256=fded75a7e56e4b9af2a77aca6092ac03f1378275a7dc85f9568bb1d56ead7198\n",
            "  Stored in directory: /root/.cache/pip/wheels/96/86/f6/68ab24c23f207c0077381a5e3904b2815136b879538a24b483\n",
            "  Building wheel for ratelimit (setup.py) ... \u001b[?25l\u001b[?25hdone\n",
            "  Created wheel for ratelimit: filename=ratelimit-2.2.1-cp36-none-any.whl size=5893 sha256=13d4fe056e5455cb35934ffae62d4228fab5f6aca7fb0b7a3c80a0bda77f7c08\n",
            "  Stored in directory: /root/.cache/pip/wheels/05/d9/82/3c6044cf1a54aab9151612458446d9b17a38416869e1b1d9b8\n",
            "  Building wheel for psutil (setup.py) ... \u001b[?25l\u001b[?25hdone\n",
            "  Created wheel for psutil: filename=psutil-5.7.2-cp36-cp36m-linux_x86_64.whl size=279865 sha256=9a264132b2bbad27eca41376c9b28726fb5674757db8b7da3a2051e41bdc091b\n",
            "  Stored in directory: /root/.cache/pip/wheels/39/a0/f5/c4fa280463e29aea07797acb5312358fefb067c1f4f98e11b1\n",
            "  Building wheel for h2o-pysparkling-2.4 (setup.py) ... \u001b[?25l\u001b[?25hdone\n",
            "  Created wheel for h2o-pysparkling-2.4: filename=h2o_pysparkling_2.4-2.4.10-py2.py3-none-any.whl size=82017493 sha256=8aed1369cdd15bca8232c5ce65d3205bef859e3754dd3f3ffa4f6897ae668f79\n",
            "  Stored in directory: /root/.cache/pip/wheels/40/a9/11/99d4bda173f1fef47f48f3371edd90ec8b8222ec03a738f190\n",
            "  Building wheel for simplejson (setup.py) ... \u001b[?25l\u001b[?25hdone\n",
            "  Created wheel for simplejson: filename=simplejson-3.16.0-cp36-cp36m-linux_x86_64.whl size=114020 sha256=ec9368c51efe02e2f2da2e2654984fccbbaca7e6f020573994c372129140ae97\n",
            "  Stored in directory: /root/.cache/pip/wheels/5d/1a/1e/0350bb3df3e74215cd91325344cc86c2c691f5306eb4d22c77\n",
            "  Building wheel for glom (setup.py) ... \u001b[?25l\u001b[?25hdone\n",
            "  Created wheel for glom: filename=glom-19.10.0-cp36-none-any.whl size=61722 sha256=78e8af16fee5dbe0841ae93294eda6f198eff52ab6edd536c65b5ba1f86ebfd9\n",
            "  Stored in directory: /root/.cache/pip/wheels/6d/97/57/eb5b5a3c37e77bf5643a86db0a3bac80993ae3c5b70e1cc934\n",
            "  Building wheel for pypika (setup.py) ... \u001b[?25l\u001b[?25hdone\n",
            "  Created wheel for pypika: filename=PyPika-0.32.0-py2.py3-none-any.whl size=32744 sha256=105c459b83983c0fc261040ddb4fccbfd59972bb4bb4fd0fbbd6202b0e559681\n",
            "  Stored in directory: /root/.cache/pip/wheels/5d/1c/3d/377b3c7efa620b6b3d22fe61a8b59782d23137efcac0d0e268\n",
            "  Building wheel for idna-ssl (setup.py) ... \u001b[?25l\u001b[?25hdone\n",
            "  Created wheel for idna-ssl: filename=idna_ssl-1.1.0-cp36-none-any.whl size=3163 sha256=13eda6ce06436634b2c634fb77216662dfcbe1cbd4d79d506bd04e6eeb29b4a4\n",
            "  Stored in directory: /root/.cache/pip/wheels/d3/00/b3/32d613e19e08a739751dd6bf998cfed277728f8b2127ad4eb7\n",
            "  Building wheel for typing (setup.py) ... \u001b[?25l\u001b[?25hdone\n",
            "  Created wheel for typing: filename=typing-3.7.4.3-cp36-none-any.whl size=26310 sha256=7bc5c6f0816b2b13cf0fd6a72824a5bc0cc19e6c92923f115e83c54654b08340\n",
            "  Stored in directory: /root/.cache/pip/wheels/2d/04/41/8e1836e79581989c22eebac3f4e70aaac9af07b0908da173be\n",
            "  Building wheel for face (setup.py) ... \u001b[?25l\u001b[?25hdone\n",
            "  Created wheel for face: filename=face-20.1.1-cp36-none-any.whl size=51079 sha256=855d8d5a6ee80c33d0e859602c8542dc9d8b5a647c6b1039824c0e8622504980\n",
            "  Stored in directory: /root/.cache/pip/wheels/4b/3c/80/b247eb8848bb1ee6cafc32cc03670ad3e9e8825086873cc830\n",
            "Successfully built imgkit ordered-set singleton-decorator pyspark nltk ratelimit psutil h2o-pysparkling-2.4 simplejson glom pypika idna-ssl typing face\n",
            "\u001b[31mERROR: spacy 2.2.4 has requirement tqdm<5.0.0,>=4.38.0, but you'll have tqdm 4.28.1 which is incompatible.\u001b[0m\n",
            "\u001b[31mERROR: plotnine 0.6.0 has requirement matplotlib>=3.1.1, but you'll have matplotlib 3.0.3 which is incompatible.\u001b[0m\n",
            "\u001b[31mERROR: mizani 0.6.0 has requirement matplotlib>=3.1.1, but you'll have matplotlib 3.0.3 which is incompatible.\u001b[0m\n",
            "\u001b[31mERROR: jupyter-console 5.2.0 has requirement prompt-toolkit<2.0.0,>=1.0.0, but you'll have prompt-toolkit 2.0.10 which is incompatible.\u001b[0m\n",
            "\u001b[31mERROR: google-colab 1.0.0 has requirement ipython~=5.5.0, but you'll have ipython 7.5.0 which is incompatible.\u001b[0m\n",
            "\u001b[31mERROR: google-colab 1.0.0 has requirement requests~=2.23.0, but you'll have requests 2.20.0 which is incompatible.\u001b[0m\n",
            "\u001b[31mERROR: fbprophet 0.7.1 has requirement tqdm>=4.36.1, but you'll have tqdm 4.28.1 which is incompatible.\u001b[0m\n",
            "\u001b[31mERROR: datascience 0.10.6 has requirement folium==0.2.1, but you'll have folium 0.8.3 which is incompatible.\u001b[0m\n",
            "\u001b[31mERROR: albumentations 0.1.12 has requirement imgaug<0.2.7,>=0.2.5, but you'll have imgaug 0.2.9 which is incompatible.\u001b[0m\n",
            "\u001b[31mERROR: h2o-pysparkling-2-4 2.4.10 has requirement pyspark<=2.4.0,>=2.4.0, but you'll have pyspark 2.4.1 which is incompatible.\u001b[0m\n",
            "\u001b[31mERROR: optimuspyspark 2.2.32 has requirement pandas==0.24.2, but you'll have pandas 1.1.5 which is incompatible.\u001b[0m\n",
            "Installing collected packages: findspark, imgkit, ordered-set, numpy, deprecated, singleton-decorator, idna, requests, pyarrow, matplotlib, backoff, tqdm, Jinja2, py4j, pyspark, nltk, ratelimit, packaging, vine, amqp, kombu, psutil, multipledispatch, colorama, h2o-pysparkling-2.4, flask, simplejson, keras-applications, keras, fastnumbers, boltons, face, glom, pymongo, asn1crypto, cryptography, mock, tensorflow-estimator, tensorboard, tensorflow, pypika, seaborn, jsonpickle, deepdiff, setuptools, prompt-toolkit, ipython, statsmodels, optimuspyspark, async-timeout, multidict, yarl, idna-ssl, aiohttp, pycares, typing, aiodns, cchardet, elasticsearch, python-socks, aiohttp-socks, schedule\n",
            "\u001b[33m  WARNING: The scripts f2py, f2py3 and f2py3.6 are installed in '/root/.local/bin' which is not on PATH.\n",
            "  Consider adding this directory to PATH or, if you prefer to suppress this warning, use --no-warn-script-location.\u001b[0m\n",
            "\u001b[33m  WARNING: The script plasma_store is installed in '/root/.local/bin' which is not on PATH.\n",
            "  Consider adding this directory to PATH or, if you prefer to suppress this warning, use --no-warn-script-location.\u001b[0m\n",
            "\u001b[33m  WARNING: The script tqdm is installed in '/root/.local/bin' which is not on PATH.\n",
            "  Consider adding this directory to PATH or, if you prefer to suppress this warning, use --no-warn-script-location.\u001b[0m\n",
            "\u001b[33m  WARNING: The script flask is installed in '/root/.local/bin' which is not on PATH.\n",
            "  Consider adding this directory to PATH or, if you prefer to suppress this warning, use --no-warn-script-location.\u001b[0m\n",
            "\u001b[33m  WARNING: The script glom is installed in '/root/.local/bin' which is not on PATH.\n",
            "  Consider adding this directory to PATH or, if you prefer to suppress this warning, use --no-warn-script-location.\u001b[0m\n",
            "\u001b[33m  WARNING: The script tensorboard is installed in '/root/.local/bin' which is not on PATH.\n",
            "  Consider adding this directory to PATH or, if you prefer to suppress this warning, use --no-warn-script-location.\u001b[0m\n",
            "\u001b[33m  WARNING: The scripts freeze_graph, saved_model_cli, tensorboard, tf_upgrade_v2, tflite_convert, toco and toco_from_protos are installed in '/root/.local/bin' which is not on PATH.\n",
            "  Consider adding this directory to PATH or, if you prefer to suppress this warning, use --no-warn-script-location.\u001b[0m\n",
            "\u001b[33m  WARNING: The scripts easy_install and easy_install-3.6 are installed in '/root/.local/bin' which is not on PATH.\n",
            "  Consider adding this directory to PATH or, if you prefer to suppress this warning, use --no-warn-script-location.\u001b[0m\n",
            "\u001b[33m  WARNING: The scripts iptest, iptest3, ipython and ipython3 are installed in '/root/.local/bin' which is not on PATH.\n",
            "  Consider adding this directory to PATH or, if you prefer to suppress this warning, use --no-warn-script-location.\u001b[0m\n",
            "Successfully installed Jinja2-2.10.1 aiodns-2.0.0 aiohttp-3.7.3 aiohttp-socks-0.5.5 amqp-2.6.1 asn1crypto-1.4.0 async-timeout-3.0.1 backoff-1.10.0 boltons-20.2.1 cchardet-2.1.7 colorama-0.4.4 cryptography-2.7 deepdiff-4.0.6 deprecated-1.2.5 elasticsearch-7.10.1 face-20.1.1 fastnumbers-2.2.1 findspark-1.3.0 flask-1.0.2 glom-19.10.0 h2o-pysparkling-2.4-2.4.10 idna-2.7 idna-ssl-1.1.0 imgkit-1.0.1 ipython-7.5.0 jsonpickle-1.5.0 keras-2.2.4 keras-applications-1.0.8 kombu-4.6.1 matplotlib-3.0.3 mock-4.0.3 multidict-5.1.0 multipledispatch-0.6.0 nltk-3.4.5 numpy-1.17.2 optimuspyspark-2.2.32 ordered-set-3.1.1 packaging-19.0 prompt-toolkit-2.0.10 psutil-5.7.2 py4j-0.10.7 pyarrow-0.13.0 pycares-3.1.1 pymongo-3.9.0 pypika-0.32.0 pyspark-2.4.1 python-socks-1.2.0 ratelimit-2.2.1 requests-2.20.0 schedule-0.6.0 seaborn-0.9.0 setuptools-41.6.0 simplejson-3.16.0 singleton-decorator-1.0.0 statsmodels-0.10.1 tensorboard-1.13.1 tensorflow-1.13.1 tensorflow-estimator-1.13.0 tqdm-4.28.1 typing-3.7.4.3 vine-1.3.0 yarl-1.6.3\n"
          ],
          "name": "stdout"
        },
        {
          "output_type": "display_data",
          "data": {
            "application/vnd.colab-display-data+json": {
              "pip_warning": {
                "packages": [
                  "IPython",
                  "matplotlib",
                  "mpl_toolkits",
                  "numpy",
                  "pkg_resources",
                  "prompt_toolkit",
                  "typing"
                ]
              }
            }
          },
          "metadata": {
            "tags": []
          }
        }
      ]
    },
    {
      "cell_type": "code",
      "metadata": {
        "colab": {
          "base_uri": "https://localhost:8080/"
        },
        "id": "oCzCV01Nh7BX",
        "outputId": "53992016-d5bf-4c13-9ac1-c45498de420d"
      },
      "source": [
        "!pip install --upgrade --user -e git+https://github.com/twintproject/twint.git@origin/master#egg=twint"
      ],
      "execution_count": 1,
      "outputs": [
        {
          "output_type": "stream",
          "text": [
            "Obtaining twint from git+https://github.com/twintproject/twint.git@origin/master#egg=twint\n",
            "  Cloning https://github.com/twintproject/twint.git (to revision origin/master) to ./src/twint\n",
            "  Running command git clone -q https://github.com/twintproject/twint.git /content/src/twint\n",
            "\u001b[33m  WARNING: Did not find branch or tag 'origin/master', assuming revision or ref.\u001b[0m\n",
            "  Running command git checkout -q origin/master\n",
            "Requirement already satisfied, skipping upgrade: aiohttp in /root/.local/lib/python3.6/site-packages (from twint) (3.7.3)\n",
            "Requirement already satisfied, skipping upgrade: aiodns in /root/.local/lib/python3.6/site-packages (from twint) (2.0.0)\n",
            "Requirement already satisfied, skipping upgrade: beautifulsoup4 in /usr/local/lib/python3.6/dist-packages (from twint) (4.6.3)\n",
            "Requirement already satisfied, skipping upgrade: cchardet in /root/.local/lib/python3.6/site-packages (from twint) (2.1.7)\n",
            "Requirement already satisfied, skipping upgrade: dataclasses in /usr/local/lib/python3.6/dist-packages (from twint) (0.8)\n",
            "Requirement already satisfied, skipping upgrade: elasticsearch in /root/.local/lib/python3.6/site-packages (from twint) (7.10.1)\n",
            "Requirement already satisfied, skipping upgrade: pysocks in /usr/local/lib/python3.6/dist-packages (from twint) (1.7.1)\n",
            "Requirement already satisfied, skipping upgrade: pandas in /usr/local/lib/python3.6/dist-packages (from twint) (1.1.5)\n",
            "Requirement already satisfied, skipping upgrade: aiohttp_socks in /root/.local/lib/python3.6/site-packages (from twint) (0.5.5)\n",
            "Requirement already satisfied, skipping upgrade: schedule in /root/.local/lib/python3.6/site-packages (from twint) (0.6.0)\n",
            "Requirement already satisfied, skipping upgrade: geopy in /usr/local/lib/python3.6/dist-packages (from twint) (1.17.0)\n",
            "Collecting fake-useragent\n",
            "  Downloading https://files.pythonhosted.org/packages/d1/79/af647635d6968e2deb57a208d309f6069d31cb138066d7e821e575112a80/fake-useragent-0.1.11.tar.gz\n",
            "Collecting googletransx\n",
            "  Downloading https://files.pythonhosted.org/packages/27/e1/77cd530afec7944d40c5bdd260bcc111be4012b045c82d4e3ffec90b2a42/googletransx-2.4.2.tar.gz\n",
            "Requirement already satisfied, skipping upgrade: multidict<7.0,>=4.5 in /root/.local/lib/python3.6/site-packages (from aiohttp->twint) (5.1.0)\n",
            "Requirement already satisfied, skipping upgrade: idna-ssl>=1.0; python_version < \"3.7\" in /root/.local/lib/python3.6/site-packages (from aiohttp->twint) (1.1.0)\n",
            "Requirement already satisfied, skipping upgrade: async-timeout<4.0,>=3.0 in /root/.local/lib/python3.6/site-packages (from aiohttp->twint) (3.0.1)\n",
            "Requirement already satisfied, skipping upgrade: attrs>=17.3.0 in /usr/local/lib/python3.6/dist-packages (from aiohttp->twint) (20.3.0)\n",
            "Requirement already satisfied, skipping upgrade: typing-extensions>=3.6.5 in /usr/local/lib/python3.6/dist-packages (from aiohttp->twint) (3.7.4.3)\n",
            "Requirement already satisfied, skipping upgrade: yarl<2.0,>=1.0 in /root/.local/lib/python3.6/site-packages (from aiohttp->twint) (1.6.3)\n",
            "Requirement already satisfied, skipping upgrade: chardet<4.0,>=2.0 in /usr/local/lib/python3.6/dist-packages (from aiohttp->twint) (3.0.4)\n",
            "Requirement already satisfied, skipping upgrade: typing; python_version < \"3.7\" in /root/.local/lib/python3.6/site-packages (from aiodns->twint) (3.7.4.3)\n",
            "Requirement already satisfied, skipping upgrade: pycares>=3.0.0 in /root/.local/lib/python3.6/site-packages (from aiodns->twint) (3.1.1)\n",
            "Requirement already satisfied, skipping upgrade: certifi in /usr/local/lib/python3.6/dist-packages (from elasticsearch->twint) (2020.12.5)\n",
            "Requirement already satisfied, skipping upgrade: urllib3<2,>=1.21.1 in /usr/local/lib/python3.6/dist-packages (from elasticsearch->twint) (1.24.3)\n",
            "Requirement already satisfied, skipping upgrade: numpy>=1.15.4 in /root/.local/lib/python3.6/site-packages (from pandas->twint) (1.17.2)\n",
            "Requirement already satisfied, skipping upgrade: python-dateutil>=2.7.3 in /usr/local/lib/python3.6/dist-packages (from pandas->twint) (2.8.1)\n",
            "Requirement already satisfied, skipping upgrade: pytz>=2017.2 in /usr/local/lib/python3.6/dist-packages (from pandas->twint) (2018.9)\n",
            "Requirement already satisfied, skipping upgrade: python-socks[asyncio]>=1.0.1 in /root/.local/lib/python3.6/site-packages (from aiohttp_socks->twint) (1.2.0)\n",
            "Requirement already satisfied, skipping upgrade: geographiclib<2,>=1.49 in /usr/local/lib/python3.6/dist-packages (from geopy->twint) (1.50)\n",
            "Requirement already satisfied, skipping upgrade: requests in /root/.local/lib/python3.6/site-packages (from googletransx->twint) (2.20.0)\n",
            "Requirement already satisfied, skipping upgrade: idna>=2.0 in /root/.local/lib/python3.6/site-packages (from idna-ssl>=1.0; python_version < \"3.7\"->aiohttp->twint) (2.7)\n",
            "Requirement already satisfied, skipping upgrade: cffi>=1.5.0 in /usr/local/lib/python3.6/dist-packages (from pycares>=3.0.0->aiodns->twint) (1.14.4)\n",
            "Requirement already satisfied, skipping upgrade: six>=1.5 in /usr/local/lib/python3.6/dist-packages (from python-dateutil>=2.7.3->pandas->twint) (1.15.0)\n",
            "Requirement already satisfied, skipping upgrade: pycparser in /usr/local/lib/python3.6/dist-packages (from cffi>=1.5.0->pycares>=3.0.0->aiodns->twint) (2.20)\n",
            "Building wheels for collected packages: fake-useragent, googletransx\n",
            "  Building wheel for fake-useragent (setup.py) ... \u001b[?25l\u001b[?25hdone\n",
            "  Created wheel for fake-useragent: filename=fake_useragent-0.1.11-cp36-none-any.whl size=13485 sha256=ad2045d6c2139c3908786e3f9925986ce73963d37c0c492ca90e0a33c1820dd9\n",
            "  Stored in directory: /root/.cache/pip/wheels/5e/63/09/d1dc15179f175357d3f5c00cbffbac37f9e8690d80545143ff\n",
            "  Building wheel for googletransx (setup.py) ... \u001b[?25l\u001b[?25hdone\n",
            "  Created wheel for googletransx: filename=googletransx-2.4.2-cp36-none-any.whl size=15971 sha256=38ace0a91af7dead76c07353ee5efea011c6201fe14147dbcb3520ada710e15c\n",
            "  Stored in directory: /root/.cache/pip/wheels/04/63/5f/75e7e94eb62517946116a783e4cd8970c4789c990bbc732616\n",
            "Successfully built fake-useragent googletransx\n",
            "Installing collected packages: fake-useragent, googletransx, twint\n",
            "  Running setup.py develop for twint\n",
            "Successfully installed fake-useragent-0.1.11 googletransx-2.4.2 twint\n"
          ],
          "name": "stdout"
        }
      ]
    },
    {
      "cell_type": "code",
      "metadata": {
        "id": "2Ynugnh3iJxj"
      },
      "source": [
        "!mv src/twint .\n",
        "!rm -r src"
      ],
      "execution_count": 2,
      "outputs": []
    },
    {
      "cell_type": "code",
      "metadata": {
        "id": "YTPOuuHYiOSJ"
      },
      "source": [
        "%load_ext autoreload\n",
        "%autoreload 2\n",
        "import sys\n",
        "sys.path.append(\"twint/\")"
      ],
      "execution_count": 3,
      "outputs": []
    },
    {
      "cell_type": "code",
      "metadata": {
        "id": "4OoyUkTYiRXq"
      },
      "source": [
        "import twint"
      ],
      "execution_count": 4,
      "outputs": []
    },
    {
      "cell_type": "code",
      "metadata": {
        "colab": {
          "base_uri": "https://localhost:8080/"
        },
        "id": "oWiHunLmiUaP",
        "outputId": "25459710-a1e7-4d7b-a6e7-1cfa15e29ab1"
      },
      "source": [
        "from optimus import Optimus\n",
        "op = Optimus()"
      ],
      "execution_count": 5,
      "outputs": [
        {
          "output_type": "stream",
          "text": [
            "/content\n"
          ],
          "name": "stdout"
        },
        {
          "output_type": "stream",
          "text": [
            "/root/.local/lib/python3.6/site-packages/statsmodels/tools/_testing.py:19: FutureWarning: pandas.util.testing is deprecated. Use the functions in the public API at pandas.testing instead.\n",
            "  import pandas.util.testing as tm\n"
          ],
          "name": "stderr"
        }
      ]
    },
    {
      "cell_type": "code",
      "metadata": {
        "id": "oEWWlFTdie6M"
      },
      "source": [
        "# Solve compatibility issues with notebooks and RunTime errors.\n",
        "import nest_asyncio\n",
        "nest_asyncio.apply()"
      ],
      "execution_count": 6,
      "outputs": []
    },
    {
      "cell_type": "code",
      "metadata": {
        "id": "asapr-jqt_LH"
      },
      "source": [
        "import string"
      ],
      "execution_count": 7,
      "outputs": []
    },
    {
      "cell_type": "code",
      "metadata": {
        "id": "DNZ5uCQxwfn6"
      },
      "source": [
        "from textblob import TextBlob\n",
        "from IPython.display import Markdown, display"
      ],
      "execution_count": 8,
      "outputs": []
    },
    {
      "cell_type": "code",
      "metadata": {
        "id": "gbMOHWZJ3lQe"
      },
      "source": [
        "import seaborn as sns"
      ],
      "execution_count": 9,
      "outputs": []
    },
    {
      "cell_type": "code",
      "metadata": {
        "id": "3gchEcnByumE"
      },
      "source": [
        "def search_before(search):\n",
        "  c = twint.Config()\n",
        "  c.Search = search\n",
        "# Custom output format\n",
        "  c.Format = \"{username} | {tweet}\"\n",
        "  c.Until = '2019-12-31'\n",
        "  c.Since = '2019-12-01'\n",
        "  c.Lang=\"en\"\n",
        "  c.Limit = 1\n",
        "  c.Pandas = True\n",
        "\n",
        "  twint.run.Search(c)\n",
        "  Tweets_df = twint.storage.panda.Tweets_df\n",
        "  Tweets_before = Tweets_df[['date', 'tweet', 'user_id', 'username']]\n",
        "\n",
        "  for char in string.punctuation:\n",
        "    Tweets_before['tweet'] = Tweets_before['tweet'].str.replace(char, '')\n",
        "  \n",
        "  tweets2 = Tweets_before['tweet'].tolist()\n",
        "\n",
        "  lst = []\n",
        "  for tweet in tweets2:\n",
        "    analysis = TextBlob(tweet)\n",
        "    if analysis.sentiment[0]>0:\n",
        "        lst.append(1)\n",
        "    elif analysis.sentiment[0]<0:\n",
        "        lst.append(-1)\n",
        "    else:\n",
        "        lst.append(0)\n",
        "  \n",
        "  Tweets_before[\"Sentiments\"] = lst\n",
        "  return sns.distplot(Tweets_before['Sentiments'])\n"
      ],
      "execution_count": 13,
      "outputs": []
    },
    {
      "cell_type": "code",
      "metadata": {
        "colab": {
          "base_uri": "https://localhost:8080/",
          "height": 1000
        },
        "id": "2XawspJE0xVc",
        "outputId": "7904a94f-581b-4101-bdf8-22a0542f1c65"
      },
      "source": [
        "search_before('feeling')"
      ],
      "execution_count": 14,
      "outputs": [
        {
          "output_type": "stream",
          "text": [
            "youkillmyangel | it feels so strange to know i started the decade being obsessed with one direction and feeling at home while investing my time on those babies\n",
            "BogOtter | Got an absolutely incredible present today from Moogletart honoring Snapples, who we lost in 2019, and welcoming Fizzgig. Feeling very grateful for the amazing people in my life.   My reaction:   https://t.co/SxTqYJyNmg  https://t.co/g67DISDYHH\n",
            "PortalTracklist | @ohliv_ia What a Feeling podia ser a junção de gerações! A pegada Fleetwood Mac podia chamar atenção dos mais velhos e mesmo assim nada. Coloca injustiçado nisso!\n",
            "besoindecou | I’m feeling ignorant today\n",
            "LarryLNichols | If you're feeling like The LORD has abandoned you, please take time to honestly evaluate how much time you're spending alone w/ HIM in quiet, undisturbed, HEART to HEART PRAYER &amp; daily reading HIS WORD; The Bible. In our relationships w/ GOD &amp; JESUS - it isn't THEM who walk away!\n",
            "purnya2 | @RadDoodCoolTude stay still and consume that'll make you sick but at least you'll gain weight  Here I am moving and skipping meals feeling sick but losing weight\n",
            "nateh8syou | I’m feeling a ton better. I think I’m gonna set up and stream tonight around 10pm EST. Regular stream schedule will be posted soon\n",
            "fitnesgothqueen | I hate feeling like this i hate feeling love. I hate that its your face i wake up to. I hate it that i can remember your voice, your hands and warmth. I just want my memories to be wiped and my heart to stop..\n",
            "rosalez_anthony | Ang sarap sa feeling pag sinasabayan ka ng jowa mo maglaro ng ml💖\n",
            "KaraaMariee22 | Overwhelmed with a feeling of gratitude as I reflect on the 2019 season. So ready for 2020 and the start of a new decade. More growth to come..  #OnePride 🦁💙 📸 @MikeFerdinande @ Ford Field  https://t.co/LfyxLea5Z0\n",
            "SCREAMIN_Agyeei | Ugh I hate when a dude act so clingy and I’ve already told them I’m not feeling them. So cringe.\n",
            "fatfunkyfruit | I have a good feeling of what's in store for my future\n",
            "toxicshelly | I'm not feeling anything lately! Nothing sounds fun or worthwhile.\n",
            "FairmontEmpress | After the holidays, we all need some time to relax and be able head into the New Year feeling recharged. ⁣ ⁣ Our Suites and Specialty Rooms are just the place to do so. ⁣  ⁣Book your suite escape here👉  https://t.co/p8ijJTNyXI  📷: @samhorine ⁣ #fairmonthotels #suitelife  https://t.co/IiCvbeWDMG\n",
            "RerinKin | @YuaXIII lol! i remember that from Inuyasha and Ookami i'm feeling VERY old now!\n",
            "Trisarahjtops | Feeling left out because everyone in my new town has all these traditional family names and nobody even tries to pronounce my cursed unspeakable name bestowed upon me by a powerful witch\n",
            "Hbishiki | @okitanoniisan i was vagetweeting all of you !! Can't believe you had the audacity of answering!! heh thank you i really appreciate 🥺🥺🥺💕 i was feeling a bit down about my art lately but seeing y'all say such nice things about it unprompted made me go 😳😳❣\n",
            "18_wheeeler | If you want to tell me anything before 2020, do it before 145 PM tomorrow. FSU plays at 2 and I have a feeling they're going to let me down one more time this decade.\n",
            "fastlanezax1 | Don’t put yo feeling in nothing u can’t control. Get a bankroll &amp; keep it goin fuck that other shit\n",
            "cecimtz_ | Ese feeling cuando piensas en alguien y al minuto te manda mensaje 👌\n",
            "xXxMiSsYxXx1 | @kurtfearnley I have torn feeling towards the fireworks display in Sydney Of course we could all complain about the money that's spent to put on the show ,but Also we shouldn't surrender , feeling positive that money will be raised for Aid in Sydney's biggest money spinner\n",
            "seancarlson | 2.) In Tallinn, @LittleZeus gave marzipan another shot and concluded that the next time she's not feeling well, she'll simply follow historical precedent and devour a dose or two. (@bondandthomas)  https://t.co/TzjwOdxGze\n",
            "dmck1957 | @kinsellawarren Mmm. Not only the gravely ill. People who feel overwhelmed with life's circumstances just want to \"get thru\" the holidays. Be kind to each other, and reach out for help if feeling overwhelmed.\n",
            "NewLooneyTune | Sometimes I’ve been feeling anxious that my heart feels like it’s about to pop out my chest. My body starts shaking and I have no control over my own mindset\n",
            "allardkarev | and I'm a shadow of a ghost It's feeling as if somebody has taken host babe, I don't wanna make a scene but I get self-destructive and it's driving you away It's driving you away piece by piece @nemesisvajseli\n",
            "WA_Bomber | Attempted ice skating at the Rockerfella rink and avoided breaking my ankles. Still feeling sore though.  https://t.co/xl7ZLKHHNJ\n",
            "real_cntrvrsy | @randyportillo60 Stop feeling sorry for yourself already, let’s get money\n",
            "Ri_Wee | my mom is on the phone with his mom and she's super aware of how fucked up he is in the head and apparently there's even more to it that i had no fucking clue about ?? oh god the shit i overheard them talking about has me FEELING ACTUAL DREAD\n",
            "groovy_nights | Eagles - Peaceful easy feeling  https://t.co/7FWr0U1IY5 via @YouTube\n",
            "fenifur | @TanyaAGT Funnily enough I had a drop of tea tree in too! Thyme is meant to be good for strep A though. I’m currently in too much pain to talk or swallow even after 4 each of nurofen and panadol, so am drooling into tissues and praying I wake up feeling better 😆\n",
            "prezidentialwun | Feeling like a drink tonight. Damn this festive season.\n",
            "agrimwarlock | @RiseAgainArthur ❝That doesn’t seem silly.❞ he answers, because he understands that feeling, he does. He’s not sure he can look at Gaius’ workbench again, or see his old room. ❝I’m a little bit frightened, too. I don’t know what’s changed, and what hasn’t.❞\n",
            "pensnpapes | Buying low quality food is really the most unsatisfying feeling\n",
            "_biancariber | I’m really feeling it 😞\n",
            "SerahRW | I’m so tired of not feeling good\n",
            "TH0RQUAN | Feeling sad? Watched season 3 of Teen Wolf.\n",
            "MISSNAYE0N | @hi_pikaseul Good morning. How are we feeling? 🙈\n",
            "alex_ratzlaff_ | MY SNAP MEMORIES STARTED OFF BY SAYING IT WAS A YEAR OF FEELING FRESH AND PROCEEDED TO SHOW ME THE SNAP I SAVED OF MY SHOULDER MAKING WEIRD POPPING NOISES TO SHOW MY TRAINER\n",
            "odultfiction | @shardminds if you're feeling like that, then you need to watch paterson  https://t.co/8If6gOg6z3\n",
            "sarawlsh | Feeling 50% anxious and 50% excited for next year. Time will tell which way the scales tip.\n",
            "thewallwife | @starsandstripes God Bless! They’ll bring a feeling of closeness to fam. I asked my Dad, who served during Korean War, that I had found his dog tags, &amp; could I keep them? We had beagles for hunting all my life. He thought I meant THEIR dog tags😂. Mom had kept tags from Army, &amp; he didn’t know!🙏\n",
            "martinfreemvn | i'd be lying if i said my trip to london didn't bring me some of the happiest moments of my 2019. sometimes i wonder what's the whole point of stanning anyone, and then i just remember. this feeling you get when you finally meet someone you've loved for years, it's irreplaceable\n",
            "alaina_morgan | It’s a beautiful feeling falling in love with your s/o all over again after you have children together\n",
            "SocialistPeach | I love how she dancing, got me feeling for you You say that you love me, I don't know if it's true When I go to sleep all I ever see is you\n",
            "akibastranger | @SheaSerrano Left an accounting job that I'd held onto for 4 years even though it was ruining my mental health. Found an opening at another office down the street &amp; got hired 3 days later. Now I'm making more money and working less hours. Feeling a lot more in control of my life.\n",
            "SavonBartley | I'm not really feeling Twitter night mode.\n",
            "DoniaSamy97 | جبر الخواطر و الكلمه الطيبه لو مكانتش بتفرق مكنش ربنا خلاها صدقه💜😍 — feeling thankful\n",
            "Craezify | Ngl getting left on read is such a bad feeling or opened on snap😓\n",
            "jessyzwief | How you feeling @sethwrrn\n",
            "CoolHandLukette | Not just a familiar feeling of disappointment, but Redbox Bowl disappointment. #Illini\n",
            "ChrissyA_92 | Ah I’m already feeling stressed about cooking next year’s Christmas dinner  https://t.co/1eidNCeByB\n",
            "colossalnoah | @_4L3X1 Oh I had a feeling this was the nature of our relationship! I don't care much about music right now!\n",
            "MahmoudMSamy | All I'm feeling that I was only a heavy load and since I have been dropped you are set free.\n",
            "felixille | @skziest double knot, grrr and sometime n/s and question, depends on the the way i’m feeling though\n",
            "ivyleaguee_ | Have a feeling that I’m gonna regret this\n",
            "jeniferhuynhx | @Meow_Maxine How I’m feeling rn girl :(\n",
            "fran_guari | AHAJAJAJAJAJJAAJAJJAAJA HOOKED ON A FEELING\n",
            "MrsRotnjetski | @legallybae I’m feeling like they need to be $19.95\n",
            "dami_eatables | @therealsam046 What can we do?As I am now,I'm not feeling sleepy😢\n",
            "risse1314 | Yung feeling na may ginagawa si mama tapos itinigil niya talaga nung narinig niyang SB19🤣💙  #SB19onUnangHirit #PUSHAwardsATIN @SB19Official\n",
            "mark_wootten | I’ve made so much progress this year towards a similar goal. 2020 - feeling I’m at the point where I might just allow this to happen!\n",
            "_plathanos | I probably shouldn’t be drinking while feeling like this but here I am\n",
            "badger_proud | @MollyJongFast Feeling powerful against your victims is a hallmark of a sexual predator. It checks out with Trump*.\n",
            "DuceDoTheMost | I hate feeling like this\n",
            "LovelyQ___ | Hate this nasty ass nauseous feeling\n",
            "whoscoachree | There’s some artist/songs that I can listen to the vocals of and feel that same feeling I got when I first heard their song. That’s how powerful their artistry is.\n",
            "AvaGG | Feeling super tired. Gonna take tonight off and stream early tomorrow for New Years 😃\n",
            "juliana_uki | ✨Favorite books I read in 2019: • Heavy: An American Memoir by @KieseLaymon  • Magical Negro by @morganapple  • Pleasure Activism: The Politics of Feeling Good by @adriennemaree  • The Chronology of Water by @LidiaYuknavitch  • How We Fight For Our Lives by @theferocity\n",
            "MutantMusings | @Ryn0ceros It was a minor issue tbh but I got the feeling it was just for levity. Had a few other minor issues as well but overall I really like this story.\n",
            "brownboywriting | How I’m feeling after creating all the characters I think I’ll need for my next book #amwriting #WritingCommunity  https://t.co/fvXPjcbKs3\n",
            "Morbidly_Morgan | I am feeling this look.  https://t.co/zYqElKoN81\n",
            "CrescentMoral | @WolfQueenNOLA “Of course I will be, sure. Are you feeling alright?”      Jackson places his hand upon her side gently.\n",
            "CutieeeKenzie | Whats this weird pit feeling in my stomach? Sadness? Anger? Emptiness?  Im not sure-\n",
            "jztol | ang lamig pota feeling baguio k ghorl\n",
            "AyannaDraine | This wine has me feeling amazing\n",
            "AxePars | Heat -6 1H (3U)   More coming I’m feeling a good week ahead\n",
            "THEQUACKZZ | @gabby_0720 Try eating oatmeal. It should help. And ajos to get you feeling better, faster.\n",
            "fookinglarries | Feeling nostalgic this 30th  https://t.co/Rd9Hpsvj8s\n",
            "Showoriii | @ilukasart That's a really relatable and extremely disappointing feeling\n",
            "lipsandhipss | @TheFeminine2pac Or she like the feeling\n",
            "trello630 | Woke up today feeling like $hit\n",
            "KaizoukuIchiji | Last day of the year. Just feeling grateful for everyone. Wishing another \"full of blessing\" year this 2020 😁\n",
            "PraveendiwachDr | Thanks for giving words to the feeling of every thinking Indian!! Good night everyone 🙏🙏🙏\n",
            "Alexbthefool25 | I have only had fluids and some crackers today to eat. If I wasn’t feeling under the weather, I would totally be primed and ready to bottom 🍑\n",
            "barryjacksonent | I work 60 to 70 hours a week so I’m not feeling to sorry about someone working two jobs. If you make working at McDonalds your goal in life then you did set a very high goal. The great socialist welfare project started almost 60 yrs ago has worked\n",
            "FAERIEKCALS | really not feeling like i have an ed rn, it's not like i want to but at the same time i'd love to-\n",
            "MirahLovess | I know I won’t make my goal because I’m feeling depressed and can’t get out of bed but any offline tips or video purchases help me out.   https://t.co/weFfl2bi9I\n",
            "jcvaldezosj | “When God is in ur heart, it’s the most fulfilling life you can ever live. Walk in His ways &amp; God will abundantly bless &amp; reward you. Put God in your heart &amp; experience true happiness. This is the most fulfilling feeling ever. We know that God causes everything to work together.”\n",
            "ArthesiaMusic | @DJAndyMoor I'm feeling lucky for it! Also different and interesting musical periods\n",
            "ponananthvs | Woke up this morning feeling fine\n",
            "Dajias_World | I be feeling so violated😂\n",
            "stick2yourpuns | FEELING ALL THE LOVE I SWEAR THAT ITS IN THE AIR\n",
            "1DGirI4ever1 | IF U ARE FEELING BAD RN REMEMBER THAT HARRY'S FIRST REAL CRUSH IS  LOUIS TOMLINSON                    LOUIS TOMLINSON\n",
            "ogabsalazar | @victorsiviero_ em uma década em que tivemos músicas como Happy, Sugar e Can’t Stop the Feeling, eu me nego a ler que High Hopes é superestimada...\n",
            "babyjaythamovie | When I clean my room and take a good ass shower.... I be feeling too good when I get in the bed in my clean ass room\n",
            "_fatjones_ | There’s literally no worse feeling than realising that what you’re doing for work actually carries zero purpose, achieving nothing, doing some medial task day after day. Such a fucking waste for most of us to pile all of our energy &amp; best years into something so meaningless 😩\n",
            "thuggiieee | Really don’t like feeling like this...\n",
            "lisapinkfloyd | @TCUWhiteTrash how r u feeling\n",
            "Fuusaki_K | I'm feeling become single parent.\n",
            "sarah3compa | Hate feeling this way\n"
          ],
          "name": "stdout"
        },
        {
          "output_type": "stream",
          "text": [
            "\n",
            "A value is trying to be set on a copy of a slice from a DataFrame.\n",
            "Try using .loc[row_indexer,col_indexer] = value instead\n",
            "\n",
            "See the caveats in the documentation: https://pandas.pydata.org/pandas-docs/stable/user_guide/indexing.html#returning-a-view-versus-a-copy\n",
            "\n",
            "A value is trying to be set on a copy of a slice from a DataFrame.\n",
            "Try using .loc[row_indexer,col_indexer] = value instead\n",
            "\n",
            "See the caveats in the documentation: https://pandas.pydata.org/pandas-docs/stable/user_guide/indexing.html#returning-a-view-versus-a-copy\n"
          ],
          "name": "stderr"
        },
        {
          "output_type": "execute_result",
          "data": {
            "text/plain": [
              "<matplotlib.axes._subplots.AxesSubplot at 0x7f99be37e160>"
            ]
          },
          "metadata": {
            "tags": []
          },
          "execution_count": 14
        },
        {
          "output_type": "display_data",
          "data": {
            "image/png": "[encoded data removed]",
            "text/plain": [
              "<Figure size 432x288 with 1 Axes>"
            ]
          },
          "metadata": {
            "tags": [],
            "needs_background": "light"
          }
        }
      ]
    },
    {
      "cell_type": "code",
      "metadata": {
        "id": "HzzNCcf51YEj"
      },
      "source": [
        "def search_after(search):\n",
        "  d = twint.Config()\n",
        "  d.Search = search\n",
        "# Custom output format\n",
        "  d.Format = \"{username} | {tweet}\"\n",
        "  d.Until = '2020-03-31'\n",
        "  d.Since = '2020-03-01'\n",
        "  d.Lang=\"en\"\n",
        "  d.Limit = 1\n",
        "  d.Pandas = True\n",
        "\n",
        "  twint.run.Search(d)\n",
        "\n",
        "  Tweets_df = twint.storage.panda.Tweets_df\n",
        "  Tweets_after = Tweets_df[['date', 'tweet', 'user_id', 'username']]\n",
        "\n",
        "  for char in string.punctuation:\n",
        "    Tweets_after['tweet'] = Tweets_after['tweet'].str.replace(char, '')\n",
        "  \n",
        "  tweets3 = Tweets_after['tweet'].tolist()\n",
        "\n",
        "  lst = []\n",
        "  for tweet in tweets3:\n",
        "    analysis = TextBlob(tweet)\n",
        "    if analysis.sentiment[0]>0:\n",
        "        lst.append(1)\n",
        "    elif analysis.sentiment[0]<0:\n",
        "        lst.append(-1)\n",
        "    else:\n",
        "        lst.append(0)\n",
        "  \n",
        "  Tweets_after[\"Sentiments\"] = lst\n",
        "\n",
        "  return sns.distplot(Tweets_after['Sentiments'])"
      ],
      "execution_count": 19,
      "outputs": []
    },
    {
      "cell_type": "code",
      "metadata": {
        "colab": {
          "base_uri": "https://localhost:8080/",
          "height": 1000
        },
        "id": "Pi-VrSXD1kyV",
        "outputId": "0f18eeab-63cf-4ae0-fdd9-e675e90cac10"
      },
      "source": [
        "search_after('feeling')"
      ],
      "execution_count": 20,
      "outputs": [
        {
          "output_type": "stream",
          "text": [
            "cxweak | feeling: small\n",
            "Sephrit | With my computer gone I’ve had a lot of free time and I’m getting the feeling I haven’t had since high school or it could be sEaSoNaL dEpReSsIoN\n",
            "MonsterEnergyP5 | @FBI @FBIChicago @sophie_swaney @GovBillLee  this girl is getting into people hearts and harassing and will not stop in eads Tennessee feeling out stone county\n",
            "ThemDems | @Teesa_Michele I wish it made me feel better. Unfortunately, it only leaves me feeling defeated. You can’t fix stupid. 💔  https://t.co/TvGQvEvhsF\n",
            "TylerOrbits | I’m not feeling blockberry at all with this bullcrap give my girls some freedom damn!!! THEY FINALLY WON A MUSIC SHOW for gods sake   #LOONASNSFREEDOM\n",
            "NOLABelle83 | @eyelinerandrose Are you feeling better?\n",
            "nateslate | @ThatEricAlper More Than A Feeling - Boston\n",
            "JosephPMathews | @daniscoville I definitely sent the feeling wheel to the 8 we used to talk about\n",
            "Shiverwarp | @chipzel \"The most\" is so hard to answer. The first movie that came to my mind for evocative and beautiful though was \"Sunshine\". Beautiful scenes of spaceflight and really conjures that feeling of wonder at our solar system and universe. Just ignore the thriller portion.\n",
            "GabbiiNicole | Feeling rebellious. Might step outside in a minute.\n",
            "FoxCahn | That feeling when your live stream gets hijacked by white supremacists.  https://t.co/3MaagHAt0T\n",
            "keepinupwcarson | I be feeling like I’m getting better   Then everything be hitting all at once\n",
            "hbwniallh | ffjlefk my Indonesian fellas how are we feeling? 🤪  https://t.co/r1P1Pc21oO\n",
            "sadtortillachip | Feeling accomplished today :-)\n",
            "HabaneroTaylor | Sooo day one of doing 50 push-ups a day and it was bad (wasn’t really feeling good today had a headache that would be there for a couple hours then leave but didn’t want to miss push-ups today) (there is no video it was too long but just know I can’t feel my arms)\n",
            "ThiccFighter | @Fury_Harem Wiggling his soft and bubbly ass with a bright smile upon the lips   \"Not feeling it today i assume ~?\"\n",
            "StephyJaye | I have a feeling I’m going to be getting a crash course in ICU. I want to work ICU but I didn’t want it to happen like this 😩\n",
            "NiklasRingling | @essaere I know that feeling 😕😢\n",
            "redskyie | @A2Rue1 @TreClaire @AaronMarx @AITA_reddit Oh they did, I would've started flipping tables if they'd said no. Have a feeling the Dr got in trouble but can't be sure\n",
            "lostmythicality | @Co_Mill Also a Gemini, also feeling every ounce of this tweet.\n",
            "RunJOC | @CarlWidger @coachpactdotcom Your not feeling sorry for yourself now Carl are you 😂\n",
            "imgonnasayitnow | @JesseTex27 YES. he was like “I have a feeling EVERYBODY wants me to live here” I hate him he’s so smug\n",
            "SEOKIPEDIA | feeling like shit !\n",
            "LaurieLAGS | @kingsrush I am not interested at all. Feeling like an outcast, lol!\n",
            "i_finesseDaCat | I be feeling like I need you\n",
            "BoiWegg | @essaere ive been feeling like that for the past 2 weeks\n",
            "langggx_ | fasho if you feeling spicy\n",
            "mrwn_mkr | Les mecs, votre style de meuf ? Commencez même pas à me dire le feeling\n",
            "kpw06 | I feel a feeling I never thought I'd feel..almost envious of #missmelaniemartin if she did choke out #AaronCarter? I just so wish I could do that!! 🤣\n",
            "KovariThomas | Dear Jewess! That's a name very near &amp; dear to my heart. So I sympathize with your feeling of insecurity. But, whether it's an actual lockdown or a voluntary stay-at-home guideline, it should be welcomed. This country will NOT be subject to quarantine under this president.\n",
            "Juliana_Stone | I was feeling kind of down but then I just got an email from a reader and well, my heart is full.  https://t.co/4qLm5XEtLx\n",
            "JameyGoodman | @leewilcox34 It hurts... I can't imagine what you guys are feeling. I wish they would have waited to pull the trigger.\n",
            "FracturedTiger | @thewaterhero   He didn't know who'd captured him this time, but he'd been locked away again, his wings clipped every time the feathers grew back.  Hawks hated this, hated feeling so weak and vulnerable.  As the door to his cell opened, he released a feral hiss, fluffing up what-\n",
            "beast_ftn | I am now a brand ambassador for the healthiest and most effective health/fitness supplements around (in my opinion) I started taking some of these a couple months ago and I have been feeling very re-dedicated to getting back into the best shape of my life!  https://t.co/vdFAuQaAJR\n",
            "11kelleyk | @HoarseWisperer I have a wicked toothache and am moments away from feeling sorry for myself.\n",
            "mattystouts | @GailSimone I asked DM for a sketch and BB chimed in he was an artist too and drew himself as a little stick figure skateboarder. It was such a genuine, fun interaction I walked away feeling like a part of an actual community and not just a fan. (2/2)  #BestConMemory\n",
            "Dontwor62680797 | @DontWorryBoutB I know the feeling.\n",
            "C38_Southwest | @soccer_rabbi I watched the first episode the day it dropped out of curiosity. The second episode today to see how I was feeling. It’s a spectacle and voyeurish. I don’t see myself continuing on with it.\n",
            "YvonneReverente | sarap sa feeling ng 8hrs ang tulog 😊\n",
            "LoganGoodner7 | Really feeling for the dude from that episode of @QueerEye whose entire personality was he liked Burning Man. I bet the Rona is hitting him pretty hard.\n",
            "Jordan76098037 | @savagebruv_ @Estivel @Styx666Official I never said anything about right and wrong. Nice strawman, pitty its in the wrong field. As I pointed out the events of America vs Indians is already done and gone. We have to deal with reality rather than being offended that history exists and feeling so hard about it.\n",
            "sEnsuEshEnobu | @Zenrotto Whats your method for grinding to keep from feeling burnt out on the game and what would your top 3 team comps be as of now(your top 3 sync pair combos)?\n",
            "msJenkinss_ | house clean &amp; dinner started.. best feeling ever 🥰\n",
            "cherrychullie | @FlyingNelli alex bro are you feeling okay\n",
            "dbox23 | @PondoKnowsBest Sorry brother, hope she gets to feeling better.\n",
            "DanielEscoz | I've been playing Oxygen Not Included a lot these past weeks and it just keeps giving.  I have the feeling I'm close to being \"done\" with it, but at the same time I haven't explored half the game, or played outside the initial map, so I guess it'll last a bit longer.\n",
            "LightAsiiDJ | Cancer- Your area of growth will be about the uniqueness inside of you. Being a homebody used to be your thing now everyone is getting in on this. You're feeling frustrated and ready to stand out. You're going to find your strength and a way to be creative this week. Have fun.\n",
            "mungooz | @CornellWBrooks Anyone get the feeling that Dumold J Trump would be unable to talk if his hands were amputated?\n",
            "Alley_Cat_BSG | Wow @ZoeysPlaylist really got me feeling feels in the first 5 minutes. Okay.\n",
            "JulieQueenPetty | Feeling accomplished...95% done with my renovated room turned into my home studio!\n",
            "SesiAnderson | All jokes aside this is honestly so sad. I can just see a little black girl watching these and feeling so discouraged especially since it’s on tik tok... a kids app 🤦🏾‍♀️\n",
            "Only1Alhuncho | Boy I just woke up feeling like a king again 🤴🏾\n",
            "namukook | the trampoline in the backyard at night lookin at the stars and the moon and hearing the crickets and frogs and seeing the fireflies and just feeling like things were rlly good and calm... it’s rlly 🌌🌄 these emojis it’s such a pretty song i love it soooo much\n",
            "girlrevrunning | @HoarseWisperer I am the pastor of a very small &amp; progressive church &amp; I am angry &amp; frustrated at those who make a mockery of Christianity. I don’t know their god. Thankfully I can still go out for runs and that helps! Also, my sermon yesterday was giving permission to feel what we are feeling.\n",
            "raycemccool | The ultimate feeling of power is when the homies start the next round of hide and seek because your spot is too good and they can’t find you\n",
            "GRChoppo | @ShameenYakubu @IssaBernardKMG @Mufaa6 Becaue guys are supposed to be masculine and not have feeling according to this new generation\n",
            "biboofficial | @applyingforjob i'm extremely feeling it\n",
            "JennieXtine | I’m feeling inspired but I also don’t know what to do!  I miss @MichaelSocolow class 😩\n",
            "KayDaddy | I loveeeeee using witch hazel after washing my face with face wash. Best feeling ever 😌\n",
            "edeneternaI | crisis averted but was lowkey feeling the raicoat so  https://t.co/48qwyryB6K\n",
            "_emmiefosterx | @naomieniola How I’m feeling\n",
            "grush_linda | @lipsoneric Hoping he starts feeling better soon!\n",
            "KaiAnn2769 | So looking forward to the debut of this new K-Pop group tomorrow that I've been hearing about. Have a really good feeling about them. @BTS_twt  https://t.co/R17GAVI9UB\n",
            "laurencribbs | No worse feeling\n",
            "il73lil | Feeling so bad\n",
            "EricEdw91696598 | @EddieGriffinCom Do you get the feeling he did not get the kids out himself because he was wearing PJ bottoms\n",
            "Stephen92669269 | @OxfordDiplomat So glad that you are feeling better and recovering 😊\n",
            "BotSinging | It's an uphill climb, and I'm feeling sorry But I know it will come to you. #BotSinging\n",
            "winston53660 | @BeyondBlonde3 Rallies?  I'd say more like a circus without feeling.  https://t.co/TdWHKbAXeX\n",
            "trixie0476 | @cormallon I am sorry you are feeling this way.  I am used to social distancing, but it does even get to me sometimes.   If you have any games our projects that you need people for Friday night through Sunday... let me know.  I am sure that is a lot of family time, or is that all the time.\n",
            "Gustavo73240438 | I have been feeling sick for over a year, I am about to loose it\n",
            "RoryMSpence | @ameliabayler It is. And it's feeling more and more relatable for me and my flatmate.\n",
            "allentien | \"Those who think base the world on thought, those who feel, on feeling. You find truth and error in both\". #CarlJung : #SharedFacts #BrainFunction #EmotionLogic #HumanReasoning #PersonalNetworks #CollectiveBehavior #MediaPrinciples\n",
            "guidethisway | In such a strange mood today, and yall I'm feeling the exhaustion of having lived 22 years and feeling directionless. I'm sure it's nothing to do with anxiety and everything with just needing to vent and get my thoughts unscrambled.\n",
            "d3s3rtgypsy | @RealPrimit1v3 That sounds COVID-y. But I’m glad you’re feeling somewhat better.\n",
            "stephsmith | Watching a doc about Hysteria feeling like I’m 15 again.  https://t.co/bMnmSZHy2U\n",
            "jj4edwards | I don’t know what bad bunny be saying but I be feeling it 😂😂😂\n",
            "Loki_Lady | Restaurant worker: Am feeling sick but you give no #paidsickleave. @applebees, @IHOP and @DennysDiner: No worries, business as usual. Customers can’t even tell you may have #coronavirus.    https://t.co/Z3qnHlo8kD\n",
            "birdsrbpurgoise | @ScorchinVixen Mostly good. But i rewatched some Chernobyl clips so now I have an inescapable haunting feeling in my gut.\n",
            "spakoabdurazaq | Lol @50cent  Nigeria president feeling like Curtis Jackson after testing negative for covid 19\n",
            "Foreverlaisha__ | Como olvidar ese feeling  https://t.co/QdxLJeEVlU\n",
            "wAxDaBBing | court systems literally try to break family’s apart... i hate my current situation rn and i just want shit to be better again.. tired of this sinking feeling in my heart...\n",
            "hunmiz | @damollaa__ You are not feeling well\n",
            "sipzandthingz | There is something very wrong with my right arm. I’m slowly losing feeling in that arm\n",
            "JonDArsen | @kushaanshah @jeanmly Wow, I always felt like someone who should be able to naturally work in a cage, given how many times we stole the locals Starbucks wifi for phonebanks. But every time I ever tried I could never shake the feeling that i felt like I was loitering.\n",
            "MauroDi92747671 | @Se7enityy @CivilisedParrot @batsbatsbatsX @maddiestrella How offensive my feeling have been hurt xD\n",
            "KintsugiTiger | @TheBlankBanker A keen eye would surely notice a faint trace of something...but as he is now he would be hard pressed to notice it...unfortunately.  \"Yes, I believe from now on that would be the best option...perhaps at most a handshake.\"  A shallow breath escaped him, at last feeling--\n",
            "EmilioIAlarcon1 | Kids do not realize #COVID19 self- isolation is preparing them for the trip to #Mars!  Btw my throat is feeling funny and I had to use my inhaler twice today! Self-isolated for the next 14 days... #AcademicChatter  https://t.co/nKE7Ft93Yj\n",
            "colin_goodayle | @tatianycoeuvre Hope you’re feeling better.😷🍇\n",
            "T4EIL4ND | ok i started feeling nervous,,,\n",
            "mookzymooks | IM FEELING BETTER AND I LOVE OIHINA!!!!\n",
            "talestoenrage | @carlinspace So one silver lining to whatever comes next: I think this episode shows that Jeri Ryan is a good actor, since I think she does a pretty good job replicating the Doctor without feeling like a parody or stiff.\n",
            "Donnannation | Being a philosopher is an interesting mix of feeling completely crazy and totally justified at the same time\n",
            "smokinhotbabe2 | Haiku For the Day: what were you thinking?, everything you know is wrong, I'm feeling lucky\n",
            "aphrodescent | @regentias yeah, i get that feeling.  ...wait, what.\n",
            "freeasamason | @NaaAmpomaa Feeling better?\n",
            "trinitysmatrix_ | Wick stans how we feeling?  https://t.co/fTx99xaPbv\n",
            "p_l_white | @UnreadDatum I was far away on 9/11, but I do remember taking my lunch break on the sea wall and looking up at the eerily empty sky. Yes, similar feeling.\n",
            "Naeelouu | honestly the best lesson i ever learned, came from the worst feeling ive ever felt !\n",
            "bbecksworld | e.e. cummings has me feeling some type of way  https://t.co/Mpe1jQY0KQ\n"
          ],
          "name": "stdout"
        },
        {
          "output_type": "stream",
          "text": [
            "\n",
            "A value is trying to be set on a copy of a slice from a DataFrame.\n",
            "Try using .loc[row_indexer,col_indexer] = value instead\n",
            "\n",
            "See the caveats in the documentation: https://pandas.pydata.org/pandas-docs/stable/user_guide/indexing.html#returning-a-view-versus-a-copy\n",
            "\n",
            "A value is trying to be set on a copy of a slice from a DataFrame.\n",
            "Try using .loc[row_indexer,col_indexer] = value instead\n",
            "\n",
            "See the caveats in the documentation: https://pandas.pydata.org/pandas-docs/stable/user_guide/indexing.html#returning-a-view-versus-a-copy\n"
          ],
          "name": "stderr"
        },
        {
          "output_type": "execute_result",
          "data": {
            "text/plain": [
              "<matplotlib.axes._subplots.AxesSubplot at 0x7f99be326b70>"
            ]
          },
          "metadata": {
            "tags": []
          },
          "execution_count": 20
        },
        {
          "output_type": "display_data",
          "data": {
            "image/png": "[encoded data removed]",
            "text/plain": [
              "<Figure size 432x288 with 1 Axes>"
            ]
          },
          "metadata": {
            "tags": [],
            "needs_background": "light"
          }
        }
      ]
    },
    {
      "cell_type": "code",
      "metadata": {
        "id": "TT55i5hL2D-C"
      },
      "source": [
        "# IGNORE THE CODE AFTER THIS POINT\n",
        "# IGNORE THE CODE AFTER THIS POINT\n",
        "# IGNORE THE CODE AFTER THIS POINT\n",
        "# IGNORE THE CODE AFTER THIS POINT\n",
        "# IGNORE THE CODE AFTER THIS POINT\n",
        "#\n",
        "#\n",
        "#\n",
        "#\n",
        "#\n",
        "#\n",
        "#\n",
        "#\n",
        "#\n",
        "#\n",
        "#\n",
        "#\n",
        "#\n",
        "#\n",
        "#\n",
        "#\n",
        "#\n",
        "#\n",
        "#\n",
        "#\n",
        "#\n",
        "#\n",
        "#\n",
        "#\n",
        "#\n",
        "#\n",
        "#\n",
        "#\n",
        "#\n",
        "#\n",
        "#\n",
        "#\n",
        "#\n",
        "#\n",
        "#\n",
        "#\n",
        "#"
      ],
      "execution_count": 24,
      "outputs": []
    },
    {
      "cell_type": "code",
      "metadata": {
        "id": "neUSmiNsiZyQ"
      },
      "source": [
        "# # Set up TWINT config\n",
        "# c = twint.Config()"
      ],
      "execution_count": null,
      "outputs": []
    },
    {
      "cell_type": "code",
      "metadata": {
        "id": "3rI8t0iRiha0"
      },
      "source": [
        "# c.Search = \"feeling OR live\"\n",
        "# # Custom output format\n",
        "# c.Format = \"{username} | {tweet}\"\n",
        "# c.Until = '2019-12-31'\n",
        "# c.Since = '2019-12-01'\n",
        "# c.Lang=\"en\"\n",
        "# c.Limit = 1\n",
        "# c.Pandas = True"
      ],
      "execution_count": null,
      "outputs": []
    },
    {
      "cell_type": "code",
      "metadata": {
        "id": "t0WJjy2ajSV0"
      },
      "source": [
        "# twint.run.Search(c)"
      ],
      "execution_count": 25,
      "outputs": []
    },
    {
      "cell_type": "code",
      "metadata": {
        "id": "-L-bj052oXbU"
      },
      "source": [
        "# Tweets_df = twint.storage.panda.Tweets_df"
      ],
      "execution_count": null,
      "outputs": []
    },
    {
      "cell_type": "code",
      "metadata": {
        "id": "ua9fuTvgq4gV"
      },
      "source": [
        "# Tweets_df.head()"
      ],
      "execution_count": 26,
      "outputs": []
    },
    {
      "cell_type": "code",
      "metadata": {
        "id": "DppwfGJHrDtP"
      },
      "source": [
        "# Tweets_before = Tweets_df[['date', 'tweet', 'user_id', 'username']]"
      ],
      "execution_count": null,
      "outputs": []
    },
    {
      "cell_type": "code",
      "metadata": {
        "id": "LuMNbqQwsNhe"
      },
      "source": [
        "# Tweets_before.head()"
      ],
      "execution_count": 27,
      "outputs": []
    },
    {
      "cell_type": "code",
      "metadata": {
        "id": "Yy6pG0T9sRMx"
      },
      "source": [
        "# Tweets_before.shape"
      ],
      "execution_count": 28,
      "outputs": []
    },
    {
      "cell_type": "code",
      "metadata": {
        "id": "VclcmGGIt5Ca"
      },
      "source": [
        "# Tweets_df.shape"
      ],
      "execution_count": 29,
      "outputs": []
    },
    {
      "cell_type": "code",
      "metadata": {
        "id": "_hq7MznIvNAz"
      },
      "source": [
        "# for char in string.punctuation:\n",
        "#     Tweets_before['tweet'] = Tweets_before['tweet'].str.replace(char, '')\n"
      ],
      "execution_count": 30,
      "outputs": []
    },
    {
      "cell_type": "code",
      "metadata": {
        "id": "xc6ybzSBvwKb"
      },
      "source": [
        "# Tweets_before"
      ],
      "execution_count": 31,
      "outputs": []
    },
    {
      "cell_type": "code",
      "metadata": {
        "id": "gL6IXpBmv0_L"
      },
      "source": [
        "# tweets2 = Tweets_before['tweet'].tolist()"
      ],
      "execution_count": 32,
      "outputs": []
    },
    {
      "cell_type": "code",
      "metadata": {
        "id": "uemOXF2CwWSf"
      },
      "source": [
        "# tweets2[:2]"
      ],
      "execution_count": 33,
      "outputs": []
    },
    {
      "cell_type": "code",
      "metadata": {
        "id": "g0_CQQU2wkG6"
      },
      "source": [
        "# # Pretty printing the result\n",
        "# def printmd(string, color=None):\n",
        "#     colorstr = \"<span style='color:{}'>{}</span>\".format(color, string)\n",
        "#     display(Markdown(colorstr))\n",
        "\n",
        "# for tweet in tweets2:\n",
        "#     print(tweet)\n",
        "#     analysis = TextBlob(tweet)\n",
        "#     print(analysis.sentiment)\n",
        "#     if analysis.sentiment[0]>0:\n",
        "#         printmd('Positive', color=\"green\")\n",
        "#     elif analysis.sentiment[0]<0:\n",
        "#         printmd('Negative', color=\"red\")\n",
        "#     else:\n",
        "#         printmd(\"No result\", color=\"grey\")\n",
        "#         print(\"\")"
      ],
      "execution_count": 34,
      "outputs": []
    },
    {
      "cell_type": "code",
      "metadata": {
        "id": "iqPvE3-WyO2V"
      },
      "source": [
        "# lst = []\n",
        "# for tweet in tweets2:\n",
        "#     analysis = TextBlob(tweet)\n",
        "#     if analysis.sentiment[0]>0:\n",
        "#         lst.append(1)\n",
        "#     elif analysis.sentiment[0]<0:\n",
        "#         lst.append(-1)\n",
        "#     else:\n",
        "#         lst.append(0)"
      ],
      "execution_count": null,
      "outputs": []
    },
    {
      "cell_type": "code",
      "metadata": {
        "id": "Faf6QZm7zX3f"
      },
      "source": [
        "# lst[:5]"
      ],
      "execution_count": 35,
      "outputs": []
    },
    {
      "cell_type": "code",
      "metadata": {
        "id": "ZyRGK5t_z6Vs"
      },
      "source": [
        "# Tweets_before[\"Sentiments\"] = lst"
      ],
      "execution_count": 36,
      "outputs": []
    },
    {
      "cell_type": "code",
      "metadata": {
        "id": "mWejyUtr0Lkr"
      },
      "source": [
        "# Tweets_before.head()"
      ],
      "execution_count": 37,
      "outputs": []
    },
    {
      "cell_type": "code",
      "metadata": {
        "id": "Y73B0Khz0cev"
      },
      "source": [
        "# Tweets_before.to_csv('A.csv')"
      ],
      "execution_count": null,
      "outputs": []
    },
    {
      "cell_type": "code",
      "metadata": {
        "id": "bJdHTtYY0-rN"
      },
      "source": [
        "# d = twint.Config()"
      ],
      "execution_count": null,
      "outputs": []
    },
    {
      "cell_type": "code",
      "metadata": {
        "id": "xckRXzkm1Efn"
      },
      "source": [
        "# d.Search = \"feeling OR live\"\n",
        "# # Custom output format\n",
        "# d.Format = \"{username} | {tweet}\"\n",
        "# d.Until = '2020-03-31'\n",
        "# d.Since = '2020-03-01'\n",
        "# d.Lang=\"en\"\n",
        "# d.Limit = 1\n",
        "# d.Pandas = True"
      ],
      "execution_count": null,
      "outputs": []
    },
    {
      "cell_type": "code",
      "metadata": {
        "id": "GnNd17I11Yki"
      },
      "source": [
        "# twint.run.Search(d)"
      ],
      "execution_count": 38,
      "outputs": []
    },
    {
      "cell_type": "code",
      "metadata": {
        "id": "Nt-6eceF1hcQ"
      },
      "source": [
        "# Tweets_df = twint.storage.panda.Tweets_df"
      ],
      "execution_count": null,
      "outputs": []
    },
    {
      "cell_type": "code",
      "metadata": {
        "id": "4NUgDtcC1l2r"
      },
      "source": [
        "# Tweets_after = Tweets_df[['date', 'tweet', 'user_id', 'username']]"
      ],
      "execution_count": null,
      "outputs": []
    },
    {
      "cell_type": "code",
      "metadata": {
        "id": "VY683izv1smG"
      },
      "source": [
        "# Tweets_after.head()"
      ],
      "execution_count": 39,
      "outputs": []
    },
    {
      "cell_type": "code",
      "metadata": {
        "id": "O81WHJNk1wES"
      },
      "source": [
        "# for char in string.punctuation:\n",
        "#     Tweets_after['tweet'] = Tweets_after['tweet'].str.replace(char, '')"
      ],
      "execution_count": 40,
      "outputs": []
    },
    {
      "cell_type": "code",
      "metadata": {
        "id": "GxqUh50u2AHv"
      },
      "source": [
        "# tweets3 = Tweets_after['tweet'].tolist()"
      ],
      "execution_count": null,
      "outputs": []
    },
    {
      "cell_type": "code",
      "metadata": {
        "id": "KNpZTaZE2H3S"
      },
      "source": [
        "# lst2 = []\n",
        "# for tweet in tweets3:\n",
        "#     analysis = TextBlob(tweet)\n",
        "#     if analysis.sentiment[0]>0:\n",
        "#         lst2.append(1)\n",
        "#     elif analysis.sentiment[0]<0:\n",
        "#         lst2.append(-1)\n",
        "#     else:\n",
        "#         lst2.append(0)"
      ],
      "execution_count": null,
      "outputs": []
    },
    {
      "cell_type": "code",
      "metadata": {
        "id": "LLwVcdyB2Nfe"
      },
      "source": [
        "# lst2[:5]"
      ],
      "execution_count": 41,
      "outputs": []
    },
    {
      "cell_type": "code",
      "metadata": {
        "id": "9JmDtCfU2XVu"
      },
      "source": [
        "# Tweets_after[\"Sentiments\"] = lst2"
      ],
      "execution_count": 42,
      "outputs": []
    },
    {
      "cell_type": "code",
      "metadata": {
        "id": "0mi50VCq2ZkU"
      },
      "source": [
        "# Tweets_after.head()"
      ],
      "execution_count": 43,
      "outputs": []
    },
    {
      "cell_type": "code",
      "metadata": {
        "id": "LZCFhWlA2gft"
      },
      "source": [
        "# Tweets_after.to_csv('C.csv')"
      ],
      "execution_count": null,
      "outputs": []
    },
    {
      "cell_type": "code",
      "metadata": {
        "id": "8cKnyd9x3xk3"
      },
      "source": [
        "# sns.distplot(Tweets_after['Sentiments'])\n"
      ],
      "execution_count": 44,
      "outputs": []
    },
    {
      "cell_type": "code",
      "metadata": {
        "id": "oeLnm5wC37J8"
      },
      "source": [
        "# sns.distplot(Tweets_before['Sentiments'])"
      ],
      "execution_count": 45,
      "outputs": []
    }
  ]
}