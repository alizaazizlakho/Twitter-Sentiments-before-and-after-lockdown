{
  "nbformat": 4,
  "nbformat_minor": 0,
  "metadata": {
    "colab": {
      "name": "Untitled0.ipynb",
      "provenance": [],
      "collapsed_sections": [],
      "toc_visible": true
    },
    "kernelspec": {
      "name": "python3",
      "display_name": "Python 3"
    }
  },
  "cells": [
    {
      "cell_type": "code",
      "metadata": {
        "id": "X2BcqlV6f2wL",
        "colab": {
          "base_uri": "https://localhost:8080/"
        },
        "outputId": "2cc6d326-57c5-4a02-b62f-5032bfb14e63"
      },
      "source": [
        "!pip install --user -r requirements.txt"
      ],
      "execution_count": 12,
      "outputs": [
        {
          "output_type": "stream",
          "text": [
            "Requirement already satisfied: optimuspyspark in /root/.local/lib/python3.6/site-packages (from -r requirements.txt (line 1)) (2.2.32)\n",
            "Requirement already satisfied: aiohttp in /root/.local/lib/python3.6/site-packages (from -r requirements.txt (line 2)) (3.7.3)\n",
            "Requirement already satisfied: aiodns in /root/.local/lib/python3.6/site-packages (from -r requirements.txt (line 3)) (2.0.0)\n",
            "Requirement already satisfied: beautifulsoup4 in /usr/local/lib/python3.6/dist-packages (from -r requirements.txt (line 4)) (4.6.3)\n",
            "Requirement already satisfied: cchardet in /root/.local/lib/python3.6/site-packages (from -r requirements.txt (line 5)) (2.1.7)\n",
            "Requirement already satisfied: elasticsearch in /root/.local/lib/python3.6/site-packages (from -r requirements.txt (line 6)) (7.10.1)\n",
            "Requirement already satisfied: pysocks in /usr/local/lib/python3.6/dist-packages (from -r requirements.txt (line 7)) (1.7.1)\n",
            "Requirement already satisfied: pandas>=0.23.0 in /usr/local/lib/python3.6/dist-packages (from -r requirements.txt (line 8)) (1.1.5)\n",
            "Requirement already satisfied: aiohttp_socks in /root/.local/lib/python3.6/site-packages (from -r requirements.txt (line 9)) (0.5.5)\n",
            "Requirement already satisfied: schedule in /root/.local/lib/python3.6/site-packages (from -r requirements.txt (line 10)) (0.6.0)\n",
            "Requirement already satisfied: geopy in /usr/local/lib/python3.6/dist-packages (from -r requirements.txt (line 11)) (1.17.0)\n",
            "Requirement already satisfied: nest_asyncio in /usr/local/lib/python3.6/dist-packages (from -r requirements.txt (line 12)) (1.4.3)\n",
            "Requirement already satisfied: TextBlob in /usr/local/lib/python3.6/dist-packages (from -r requirements.txt (line 13)) (0.15.3)\n",
            "Requirement already satisfied: wordcloud in /usr/local/lib/python3.6/dist-packages (from -r requirements.txt (line 14)) (1.5.0)\n",
            "Requirement already satisfied: seaborn==0.9.0 in /root/.local/lib/python3.6/site-packages (from optimuspyspark->-r requirements.txt (line 1)) (0.9.0)\n",
            "Requirement already satisfied: flask==1.0.2 in /root/.local/lib/python3.6/site-packages (from optimuspyspark->-r requirements.txt (line 1)) (1.0.2)\n",
            "Requirement already satisfied: pymongo==3.9.0 in /root/.local/lib/python3.6/site-packages (from optimuspyspark->-r requirements.txt (line 1)) (3.9.0)\n",
            "Requirement already satisfied: deepdiff==4.0.6 in /root/.local/lib/python3.6/site-packages (from optimuspyspark->-r requirements.txt (line 1)) (4.0.6)\n",
            "Requirement already satisfied: nltk==3.4.5 in /root/.local/lib/python3.6/site-packages (from optimuspyspark->-r requirements.txt (line 1)) (3.4.5)\n",
            "Requirement already satisfied: requests==2.20.0 in /root/.local/lib/python3.6/site-packages (from optimuspyspark->-r requirements.txt (line 1)) (2.20.0)\n",
            "Requirement already satisfied: kombu==4.6.1 in /root/.local/lib/python3.6/site-packages (from optimuspyspark->-r requirements.txt (line 1)) (4.6.1)\n",
            "Requirement already satisfied: imgkit==1.0.1 in /root/.local/lib/python3.6/site-packages (from optimuspyspark->-r requirements.txt (line 1)) (1.0.1)\n",
            "Requirement already satisfied: pypika==0.32.0 in /root/.local/lib/python3.6/site-packages (from optimuspyspark->-r requirements.txt (line 1)) (0.32.0)\n",
            "Requirement already satisfied: h2o-pysparkling-2.4==2.4.10 in /root/.local/lib/python3.6/site-packages (from optimuspyspark->-r requirements.txt (line 1)) (2.4.10)\n",
            "Requirement already satisfied: ipython==7.5.0 in /root/.local/lib/python3.6/site-packages (from optimuspyspark->-r requirements.txt (line 1)) (7.5.0)\n",
            "Requirement already satisfied: tqdm==4.28.1 in /root/.local/lib/python3.6/site-packages (from optimuspyspark->-r requirements.txt (line 1)) (4.28.1)\n",
            "Requirement already satisfied: multipledispatch==0.6.0 in /root/.local/lib/python3.6/site-packages (from optimuspyspark->-r requirements.txt (line 1)) (0.6.0)\n",
            "Requirement already satisfied: glom==19.10.0 in /root/.local/lib/python3.6/site-packages (from optimuspyspark->-r requirements.txt (line 1)) (19.10.0)\n",
            "Requirement already satisfied: simplejson==3.16.0 in /root/.local/lib/python3.6/site-packages (from optimuspyspark->-r requirements.txt (line 1)) (3.16.0)\n",
            "Requirement already satisfied: ratelimit==2.2.1 in /root/.local/lib/python3.6/site-packages (from optimuspyspark->-r requirements.txt (line 1)) (2.2.1)\n",
            "Requirement already satisfied: Jinja2==2.10.1 in /root/.local/lib/python3.6/site-packages (from optimuspyspark->-r requirements.txt (line 1)) (2.10.1)\n",
            "Requirement already satisfied: packaging==19.0 in /root/.local/lib/python3.6/site-packages (from optimuspyspark->-r requirements.txt (line 1)) (19.0)\n",
            "Requirement already satisfied: cryptography==2.7 in /root/.local/lib/python3.6/site-packages (from optimuspyspark->-r requirements.txt (line 1)) (2.7)\n",
            "Requirement already satisfied: fastnumbers==2.2.1 in /root/.local/lib/python3.6/site-packages (from optimuspyspark->-r requirements.txt (line 1)) (2.2.1)\n",
            "Requirement already satisfied: tensorflow==1.13.1 in /root/.local/lib/python3.6/site-packages (from optimuspyspark->-r requirements.txt (line 1)) (1.13.1)\n",
            "Requirement already satisfied: setuptools==41.6.0 in /root/.local/lib/python3.6/site-packages (from optimuspyspark->-r requirements.txt (line 1)) (41.6.0)\n",
            "Requirement already satisfied: psutil==5.7.2 in /root/.local/lib/python3.6/site-packages (from optimuspyspark->-r requirements.txt (line 1)) (5.7.2)\n",
            "Requirement already satisfied: numpy==1.17.2 in /root/.local/lib/python3.6/site-packages (from optimuspyspark->-r requirements.txt (line 1)) (1.17.2)\n",
            "Requirement already satisfied: pygments>=2.2.0 in /usr/local/lib/python3.6/dist-packages (from optimuspyspark->-r requirements.txt (line 1)) (2.6.1)\n",
            "Requirement already satisfied: pyspark==2.4.1 in /root/.local/lib/python3.6/site-packages (from optimuspyspark->-r requirements.txt (line 1)) (2.4.1)\n",
            "Requirement already satisfied: pyarrow==0.13.0 in /root/.local/lib/python3.6/site-packages (from optimuspyspark->-r requirements.txt (line 1)) (0.13.0)\n",
            "Requirement already satisfied: findspark==1.3.0 in /root/.local/lib/python3.6/site-packages (from optimuspyspark->-r requirements.txt (line 1)) (1.3.0)\n",
            "Requirement already satisfied: backoff==1.10.0 in /root/.local/lib/python3.6/site-packages (from optimuspyspark->-r requirements.txt (line 1)) (1.10.0)\n",
            "Requirement already satisfied: deprecated==1.2.5 in /root/.local/lib/python3.6/site-packages (from optimuspyspark->-r requirements.txt (line 1)) (1.2.5)\n",
            "Requirement already satisfied: keras==2.2.4 in /root/.local/lib/python3.6/site-packages (from optimuspyspark->-r requirements.txt (line 1)) (2.2.4)\n",
            "Requirement already satisfied: matplotlib==3.0.3 in /root/.local/lib/python3.6/site-packages (from optimuspyspark->-r requirements.txt (line 1)) (3.0.3)\n",
            "Requirement already satisfied: singleton-decorator==1.0.0 in /root/.local/lib/python3.6/site-packages (from optimuspyspark->-r requirements.txt (line 1)) (1.0.0)\n",
            "Requirement already satisfied: ordered-set==3.1.1 in /root/.local/lib/python3.6/site-packages (from optimuspyspark->-r requirements.txt (line 1)) (3.1.1)\n",
            "Requirement already satisfied: statsmodels==0.10.1 in /root/.local/lib/python3.6/site-packages (from optimuspyspark->-r requirements.txt (line 1)) (0.10.1)\n",
            "Requirement already satisfied: humanize==0.5.1 in /usr/local/lib/python3.6/dist-packages (from optimuspyspark->-r requirements.txt (line 1)) (0.5.1)\n",
            "Requirement already satisfied: attrs>=17.3.0 in /usr/local/lib/python3.6/dist-packages (from aiohttp->-r requirements.txt (line 2)) (20.3.0)\n",
            "Requirement already satisfied: multidict<7.0,>=4.5 in /root/.local/lib/python3.6/site-packages (from aiohttp->-r requirements.txt (line 2)) (5.1.0)\n",
            "Requirement already satisfied: typing-extensions>=3.6.5 in /usr/local/lib/python3.6/dist-packages (from aiohttp->-r requirements.txt (line 2)) (3.7.4.3)\n",
            "Requirement already satisfied: async-timeout<4.0,>=3.0 in /root/.local/lib/python3.6/site-packages (from aiohttp->-r requirements.txt (line 2)) (3.0.1)\n",
            "Requirement already satisfied: chardet<4.0,>=2.0 in /usr/local/lib/python3.6/dist-packages (from aiohttp->-r requirements.txt (line 2)) (3.0.4)\n",
            "Requirement already satisfied: yarl<2.0,>=1.0 in /root/.local/lib/python3.6/site-packages (from aiohttp->-r requirements.txt (line 2)) (1.6.3)\n",
            "Requirement already satisfied: idna-ssl>=1.0; python_version < \"3.7\" in /root/.local/lib/python3.6/site-packages (from aiohttp->-r requirements.txt (line 2)) (1.1.0)\n",
            "Requirement already satisfied: pycares>=3.0.0 in /root/.local/lib/python3.6/site-packages (from aiodns->-r requirements.txt (line 3)) (3.1.1)\n",
            "Requirement already satisfied: typing; python_version < \"3.7\" in /root/.local/lib/python3.6/site-packages (from aiodns->-r requirements.txt (line 3)) (3.7.4.3)\n",
            "Requirement already satisfied: urllib3<2,>=1.21.1 in /usr/local/lib/python3.6/dist-packages (from elasticsearch->-r requirements.txt (line 6)) (1.24.3)\n",
            "Requirement already satisfied: certifi in /usr/local/lib/python3.6/dist-packages (from elasticsearch->-r requirements.txt (line 6)) (2020.12.5)\n",
            "Requirement already satisfied: python-dateutil>=2.7.3 in /usr/local/lib/python3.6/dist-packages (from pandas>=0.23.0->-r requirements.txt (line 8)) (2.8.1)\n",
            "Requirement already satisfied: pytz>=2017.2 in /usr/local/lib/python3.6/dist-packages (from pandas>=0.23.0->-r requirements.txt (line 8)) (2018.9)\n",
            "Requirement already satisfied: python-socks[asyncio]>=1.0.1 in /root/.local/lib/python3.6/site-packages (from aiohttp_socks->-r requirements.txt (line 9)) (1.2.0)\n",
            "Requirement already satisfied: geographiclib<2,>=1.49 in /usr/local/lib/python3.6/dist-packages (from geopy->-r requirements.txt (line 11)) (1.50)\n",
            "Requirement already satisfied: pillow in /usr/local/lib/python3.6/dist-packages (from wordcloud->-r requirements.txt (line 14)) (7.0.0)\n",
            "Requirement already satisfied: scipy>=0.14.0 in /usr/local/lib/python3.6/dist-packages (from seaborn==0.9.0->optimuspyspark->-r requirements.txt (line 1)) (1.4.1)\n",
            "Requirement already satisfied: click>=5.1 in /usr/local/lib/python3.6/dist-packages (from flask==1.0.2->optimuspyspark->-r requirements.txt (line 1)) (7.1.2)\n",
            "Requirement already satisfied: itsdangerous>=0.24 in /usr/local/lib/python3.6/dist-packages (from flask==1.0.2->optimuspyspark->-r requirements.txt (line 1)) (1.1.0)\n",
            "Requirement already satisfied: Werkzeug>=0.14 in /usr/local/lib/python3.6/dist-packages (from flask==1.0.2->optimuspyspark->-r requirements.txt (line 1)) (1.0.1)\n",
            "Requirement already satisfied: jsonpickle>=1.0 in /root/.local/lib/python3.6/site-packages (from deepdiff==4.0.6->optimuspyspark->-r requirements.txt (line 1)) (1.5.0)\n",
            "Requirement already satisfied: six in /usr/local/lib/python3.6/dist-packages (from nltk==3.4.5->optimuspyspark->-r requirements.txt (line 1)) (1.15.0)\n",
            "Requirement already satisfied: idna<2.8,>=2.5 in /root/.local/lib/python3.6/site-packages (from requests==2.20.0->optimuspyspark->-r requirements.txt (line 1)) (2.7)\n",
            "Requirement already satisfied: amqp<3.0,>=2.5.0 in /root/.local/lib/python3.6/site-packages (from kombu==4.6.1->optimuspyspark->-r requirements.txt (line 1)) (2.6.1)\n",
            "Requirement already satisfied: colorama>=0.3.8 in /root/.local/lib/python3.6/site-packages (from h2o-pysparkling-2.4==2.4.10->optimuspyspark->-r requirements.txt (line 1)) (0.4.4)\n",
            "Requirement already satisfied: future in /usr/local/lib/python3.6/dist-packages (from h2o-pysparkling-2.4==2.4.10->optimuspyspark->-r requirements.txt (line 1)) (0.16.0)\n",
            "Requirement already satisfied: tabulate in /usr/local/lib/python3.6/dist-packages (from h2o-pysparkling-2.4==2.4.10->optimuspyspark->-r requirements.txt (line 1)) (0.8.7)\n",
            "Requirement already satisfied: prompt-toolkit<2.1.0,>=2.0.0 in /root/.local/lib/python3.6/site-packages (from ipython==7.5.0->optimuspyspark->-r requirements.txt (line 1)) (2.0.10)\n",
            "Requirement already satisfied: backcall in /usr/local/lib/python3.6/dist-packages (from ipython==7.5.0->optimuspyspark->-r requirements.txt (line 1)) (0.2.0)\n",
            "Requirement already satisfied: pickleshare in /usr/local/lib/python3.6/dist-packages (from ipython==7.5.0->optimuspyspark->-r requirements.txt (line 1)) (0.7.5)\n",
            "Requirement already satisfied: jedi>=0.10 in /usr/local/lib/python3.6/dist-packages (from ipython==7.5.0->optimuspyspark->-r requirements.txt (line 1)) (0.18.0)\n",
            "Requirement already satisfied: pexpect; sys_platform != \"win32\" in /usr/local/lib/python3.6/dist-packages (from ipython==7.5.0->optimuspyspark->-r requirements.txt (line 1)) (4.8.0)\n",
            "Requirement already satisfied: decorator in /usr/local/lib/python3.6/dist-packages (from ipython==7.5.0->optimuspyspark->-r requirements.txt (line 1)) (4.4.2)\n",
            "Requirement already satisfied: traitlets>=4.2 in /usr/local/lib/python3.6/dist-packages (from ipython==7.5.0->optimuspyspark->-r requirements.txt (line 1)) (4.3.3)\n",
            "Requirement already satisfied: face in /root/.local/lib/python3.6/site-packages (from glom==19.10.0->optimuspyspark->-r requirements.txt (line 1)) (20.1.1)\n",
            "Requirement already satisfied: boltons>=19.3.0 in /root/.local/lib/python3.6/site-packages (from glom==19.10.0->optimuspyspark->-r requirements.txt (line 1)) (20.2.1)\n",
            "Requirement already satisfied: MarkupSafe>=0.23 in /usr/local/lib/python3.6/dist-packages (from Jinja2==2.10.1->optimuspyspark->-r requirements.txt (line 1)) (1.1.1)\n",
            "Requirement already satisfied: pyparsing>=2.0.2 in /usr/local/lib/python3.6/dist-packages (from packaging==19.0->optimuspyspark->-r requirements.txt (line 1)) (2.4.7)\n",
            "Requirement already satisfied: cffi!=1.11.3,>=1.8 in /usr/local/lib/python3.6/dist-packages (from cryptography==2.7->optimuspyspark->-r requirements.txt (line 1)) (1.14.4)\n",
            "Requirement already satisfied: asn1crypto>=0.21.0 in /root/.local/lib/python3.6/site-packages (from cryptography==2.7->optimuspyspark->-r requirements.txt (line 1)) (1.4.0)\n",
            "Requirement already satisfied: gast>=0.2.0 in /usr/local/lib/python3.6/dist-packages (from tensorflow==1.13.1->optimuspyspark->-r requirements.txt (line 1)) (0.3.3)\n",
            "Requirement already satisfied: absl-py>=0.1.6 in /usr/local/lib/python3.6/dist-packages (from tensorflow==1.13.1->optimuspyspark->-r requirements.txt (line 1)) (0.10.0)\n",
            "Requirement already satisfied: grpcio>=1.8.6 in /usr/local/lib/python3.6/dist-packages (from tensorflow==1.13.1->optimuspyspark->-r requirements.txt (line 1)) (1.32.0)\n",
            "Requirement already satisfied: termcolor>=1.1.0 in /usr/local/lib/python3.6/dist-packages (from tensorflow==1.13.1->optimuspyspark->-r requirements.txt (line 1)) (1.1.0)\n",
            "Requirement already satisfied: astor>=0.6.0 in /usr/local/lib/python3.6/dist-packages (from tensorflow==1.13.1->optimuspyspark->-r requirements.txt (line 1)) (0.8.1)\n",
            "Requirement already satisfied: keras-preprocessing>=1.0.5 in /usr/local/lib/python3.6/dist-packages (from tensorflow==1.13.1->optimuspyspark->-r requirements.txt (line 1)) (1.1.2)\n",
            "Requirement already satisfied: tensorboard<1.14.0,>=1.13.0 in /root/.local/lib/python3.6/site-packages (from tensorflow==1.13.1->optimuspyspark->-r requirements.txt (line 1)) (1.13.1)\n",
            "Requirement already satisfied: keras-applications>=1.0.6 in /root/.local/lib/python3.6/site-packages (from tensorflow==1.13.1->optimuspyspark->-r requirements.txt (line 1)) (1.0.8)\n",
            "Requirement already satisfied: protobuf>=3.6.1 in /usr/local/lib/python3.6/dist-packages (from tensorflow==1.13.1->optimuspyspark->-r requirements.txt (line 1)) (3.12.4)\n",
            "Requirement already satisfied: wheel>=0.26 in /usr/local/lib/python3.6/dist-packages (from tensorflow==1.13.1->optimuspyspark->-r requirements.txt (line 1)) (0.36.2)\n",
            "Requirement already satisfied: tensorflow-estimator<1.14.0rc0,>=1.13.0 in /root/.local/lib/python3.6/site-packages (from tensorflow==1.13.1->optimuspyspark->-r requirements.txt (line 1)) (1.13.0)\n",
            "Requirement already satisfied: py4j==0.10.7 in /root/.local/lib/python3.6/site-packages (from pyspark==2.4.1->optimuspyspark->-r requirements.txt (line 1)) (0.10.7)\n",
            "Requirement already satisfied: wrapt<2,>=1 in /usr/local/lib/python3.6/dist-packages (from deprecated==1.2.5->optimuspyspark->-r requirements.txt (line 1)) (1.12.1)\n",
            "Requirement already satisfied: h5py in /usr/local/lib/python3.6/dist-packages (from keras==2.2.4->optimuspyspark->-r requirements.txt (line 1)) (2.10.0)\n",
            "Requirement already satisfied: pyyaml in /usr/local/lib/python3.6/dist-packages (from keras==2.2.4->optimuspyspark->-r requirements.txt (line 1)) (3.13)\n",
            "Requirement already satisfied: kiwisolver>=1.0.1 in /usr/local/lib/python3.6/dist-packages (from matplotlib==3.0.3->optimuspyspark->-r requirements.txt (line 1)) (1.3.1)\n",
            "Requirement already satisfied: cycler>=0.10 in /usr/local/lib/python3.6/dist-packages (from matplotlib==3.0.3->optimuspyspark->-r requirements.txt (line 1)) (0.10.0)\n",
            "Requirement already satisfied: patsy>=0.4.0 in /usr/local/lib/python3.6/dist-packages (from statsmodels==0.10.1->optimuspyspark->-r requirements.txt (line 1)) (0.5.1)\n",
            "Requirement already satisfied: importlib-metadata; python_version < \"3.8\" in /usr/local/lib/python3.6/dist-packages (from jsonpickle>=1.0->deepdiff==4.0.6->optimuspyspark->-r requirements.txt (line 1)) (3.3.0)\n",
            "Requirement already satisfied: vine<5.0.0a1,>=1.1.3 in /root/.local/lib/python3.6/site-packages (from amqp<3.0,>=2.5.0->kombu==4.6.1->optimuspyspark->-r requirements.txt (line 1)) (1.3.0)\n",
            "Requirement already satisfied: wcwidth in /usr/local/lib/python3.6/dist-packages (from prompt-toolkit<2.1.0,>=2.0.0->ipython==7.5.0->optimuspyspark->-r requirements.txt (line 1)) (0.2.5)\n",
            "Requirement already satisfied: parso<0.9.0,>=0.8.0 in /usr/local/lib/python3.6/dist-packages (from jedi>=0.10->ipython==7.5.0->optimuspyspark->-r requirements.txt (line 1)) (0.8.1)\n",
            "Requirement already satisfied: ptyprocess>=0.5 in /usr/local/lib/python3.6/dist-packages (from pexpect; sys_platform != \"win32\"->ipython==7.5.0->optimuspyspark->-r requirements.txt (line 1)) (0.7.0)\n",
            "Requirement already satisfied: ipython-genutils in /usr/local/lib/python3.6/dist-packages (from traitlets>=4.2->ipython==7.5.0->optimuspyspark->-r requirements.txt (line 1)) (0.2.0)\n",
            "Requirement already satisfied: pycparser in /usr/local/lib/python3.6/dist-packages (from cffi!=1.11.3,>=1.8->cryptography==2.7->optimuspyspark->-r requirements.txt (line 1)) (2.20)\n",
            "Requirement already satisfied: markdown>=2.6.8 in /usr/local/lib/python3.6/dist-packages (from tensorboard<1.14.0,>=1.13.0->tensorflow==1.13.1->optimuspyspark->-r requirements.txt (line 1)) (3.3.3)\n",
            "Requirement already satisfied: mock>=2.0.0 in /root/.local/lib/python3.6/site-packages (from tensorflow-estimator<1.14.0rc0,>=1.13.0->tensorflow==1.13.1->optimuspyspark->-r requirements.txt (line 1)) (4.0.3)\n",
            "Requirement already satisfied: zipp>=0.5 in /usr/local/lib/python3.6/dist-packages (from importlib-metadata; python_version < \"3.8\"->jsonpickle>=1.0->deepdiff==4.0.6->optimuspyspark->-r requirements.txt (line 1)) (3.4.0)\n"
          ],
          "name": "stdout"
        }
      ]
    },
    {
      "cell_type": "code",
      "metadata": {
        "colab": {
          "base_uri": "https://localhost:8080/"
        },
        "id": "oCzCV01Nh7BX",
        "outputId": "81066832-fc4b-4cec-82cd-06922d7df7e2"
      },
      "source": [
        "!pip install --upgrade --user -e git+https://github.com/twintproject/twint.git@origin/master#egg=twint"
      ],
      "execution_count": 1,
      "outputs": [
        {
          "output_type": "stream",
          "text": [
            "Obtaining twint from git+https://github.com/twintproject/twint.git@origin/master#egg=twint\n",
            "  Cloning https://github.com/twintproject/twint.git (to revision origin/master) to ./src/twint\n",
            "  Running command git clone -q https://github.com/twintproject/twint.git /content/src/twint\n",
            "\u001b[33m  WARNING: Did not find branch or tag 'origin/master', assuming revision or ref.\u001b[0m\n",
            "  Running command git checkout -q origin/master\n",
            "Requirement already satisfied, skipping upgrade: aiohttp in /root/.local/lib/python3.6/site-packages (from twint) (3.7.3)\n",
            "Requirement already satisfied, skipping upgrade: aiodns in /root/.local/lib/python3.6/site-packages (from twint) (2.0.0)\n",
            "Requirement already satisfied, skipping upgrade: beautifulsoup4 in /usr/local/lib/python3.6/dist-packages (from twint) (4.6.3)\n",
            "Requirement already satisfied, skipping upgrade: cchardet in /root/.local/lib/python3.6/site-packages (from twint) (2.1.7)\n",
            "Requirement already satisfied, skipping upgrade: dataclasses in /usr/local/lib/python3.6/dist-packages (from twint) (0.8)\n",
            "Requirement already satisfied, skipping upgrade: elasticsearch in /root/.local/lib/python3.6/site-packages (from twint) (7.10.1)\n",
            "Requirement already satisfied, skipping upgrade: pysocks in /usr/local/lib/python3.6/dist-packages (from twint) (1.7.1)\n",
            "Requirement already satisfied, skipping upgrade: pandas in /usr/local/lib/python3.6/dist-packages (from twint) (1.1.5)\n",
            "Requirement already satisfied, skipping upgrade: aiohttp_socks in /root/.local/lib/python3.6/site-packages (from twint) (0.5.5)\n",
            "Requirement already satisfied, skipping upgrade: schedule in /root/.local/lib/python3.6/site-packages (from twint) (0.6.0)\n",
            "Requirement already satisfied, skipping upgrade: geopy in /usr/local/lib/python3.6/dist-packages (from twint) (1.17.0)\n",
            "Collecting fake-useragent\n",
            "  Downloading https://files.pythonhosted.org/packages/d1/79/af647635d6968e2deb57a208d309f6069d31cb138066d7e821e575112a80/fake-useragent-0.1.11.tar.gz\n",
            "Collecting googletransx\n",
            "  Downloading https://files.pythonhosted.org/packages/27/e1/77cd530afec7944d40c5bdd260bcc111be4012b045c82d4e3ffec90b2a42/googletransx-2.4.2.tar.gz\n",
            "Requirement already satisfied, skipping upgrade: idna-ssl>=1.0; python_version < \"3.7\" in /root/.local/lib/python3.6/site-packages (from aiohttp->twint) (1.1.0)\n",
            "Requirement already satisfied, skipping upgrade: typing-extensions>=3.6.5 in /usr/local/lib/python3.6/dist-packages (from aiohttp->twint) (3.7.4.3)\n",
            "Requirement already satisfied, skipping upgrade: chardet<4.0,>=2.0 in /usr/local/lib/python3.6/dist-packages (from aiohttp->twint) (3.0.4)\n",
            "Requirement already satisfied, skipping upgrade: attrs>=17.3.0 in /usr/local/lib/python3.6/dist-packages (from aiohttp->twint) (20.3.0)\n",
            "Requirement already satisfied, skipping upgrade: yarl<2.0,>=1.0 in /root/.local/lib/python3.6/site-packages (from aiohttp->twint) (1.6.3)\n",
            "Requirement already satisfied, skipping upgrade: multidict<7.0,>=4.5 in /root/.local/lib/python3.6/site-packages (from aiohttp->twint) (5.1.0)\n",
            "Requirement already satisfied, skipping upgrade: async-timeout<4.0,>=3.0 in /root/.local/lib/python3.6/site-packages (from aiohttp->twint) (3.0.1)\n",
            "Requirement already satisfied, skipping upgrade: pycares>=3.0.0 in /root/.local/lib/python3.6/site-packages (from aiodns->twint) (3.1.1)\n",
            "Requirement already satisfied, skipping upgrade: typing; python_version < \"3.7\" in /root/.local/lib/python3.6/site-packages (from aiodns->twint) (3.7.4.3)\n",
            "Requirement already satisfied, skipping upgrade: certifi in /usr/local/lib/python3.6/dist-packages (from elasticsearch->twint) (2020.12.5)\n",
            "Requirement already satisfied, skipping upgrade: urllib3<2,>=1.21.1 in /usr/local/lib/python3.6/dist-packages (from elasticsearch->twint) (1.24.3)\n",
            "Requirement already satisfied, skipping upgrade: pytz>=2017.2 in /usr/local/lib/python3.6/dist-packages (from pandas->twint) (2018.9)\n",
            "Requirement already satisfied, skipping upgrade: numpy>=1.15.4 in /root/.local/lib/python3.6/site-packages (from pandas->twint) (1.17.2)\n",
            "Requirement already satisfied, skipping upgrade: python-dateutil>=2.7.3 in /usr/local/lib/python3.6/dist-packages (from pandas->twint) (2.8.1)\n",
            "Requirement already satisfied, skipping upgrade: python-socks[asyncio]>=1.0.1 in /root/.local/lib/python3.6/site-packages (from aiohttp_socks->twint) (1.2.0)\n",
            "Requirement already satisfied, skipping upgrade: geographiclib<2,>=1.49 in /usr/local/lib/python3.6/dist-packages (from geopy->twint) (1.50)\n",
            "Requirement already satisfied, skipping upgrade: requests in /root/.local/lib/python3.6/site-packages (from googletransx->twint) (2.20.0)\n",
            "Requirement already satisfied, skipping upgrade: idna>=2.0 in /root/.local/lib/python3.6/site-packages (from idna-ssl>=1.0; python_version < \"3.7\"->aiohttp->twint) (2.7)\n",
            "Requirement already satisfied, skipping upgrade: cffi>=1.5.0 in /usr/local/lib/python3.6/dist-packages (from pycares>=3.0.0->aiodns->twint) (1.14.4)\n",
            "Requirement already satisfied, skipping upgrade: six>=1.5 in /usr/local/lib/python3.6/dist-packages (from python-dateutil>=2.7.3->pandas->twint) (1.15.0)\n",
            "Requirement already satisfied, skipping upgrade: pycparser in /usr/local/lib/python3.6/dist-packages (from cffi>=1.5.0->pycares>=3.0.0->aiodns->twint) (2.20)\n",
            "Building wheels for collected packages: fake-useragent, googletransx\n",
            "  Building wheel for fake-useragent (setup.py) ... \u001b[?25l\u001b[?25hdone\n",
            "  Created wheel for fake-useragent: filename=fake_useragent-0.1.11-cp36-none-any.whl size=13485 sha256=3bba3a8df74e334654549ba214e552ed81d991913fbb1407e5e995257f4d394d\n",
            "  Stored in directory: /root/.cache/pip/wheels/5e/63/09/d1dc15179f175357d3f5c00cbffbac37f9e8690d80545143ff\n",
            "  Building wheel for googletransx (setup.py) ... \u001b[?25l\u001b[?25hdone\n",
            "  Created wheel for googletransx: filename=googletransx-2.4.2-cp36-none-any.whl size=15971 sha256=890b92a5c667e325d2b8804d4e29d816493673106f8588789d1011aeba430976\n",
            "  Stored in directory: /root/.cache/pip/wheels/04/63/5f/75e7e94eb62517946116a783e4cd8970c4789c990bbc732616\n",
            "Successfully built fake-useragent googletransx\n",
            "Installing collected packages: fake-useragent, googletransx, twint\n",
            "  Running setup.py develop for twint\n",
            "Successfully installed fake-useragent-0.1.11 googletransx-2.4.2 twint\n"
          ],
          "name": "stdout"
        }
      ]
    },
    {
      "cell_type": "code",
      "metadata": {
        "id": "2Ynugnh3iJxj"
      },
      "source": [
        "!mv src/twint .\n",
        "!rm -r src"
      ],
      "execution_count": 2,
      "outputs": []
    },
    {
      "cell_type": "code",
      "metadata": {
        "id": "YTPOuuHYiOSJ"
      },
      "source": [
        "%load_ext autoreload\n",
        "%autoreload 2\n",
        "import sys\n",
        "sys.path.append(\"twint/\")"
      ],
      "execution_count": 3,
      "outputs": []
    },
    {
      "cell_type": "code",
      "metadata": {
        "id": "4OoyUkTYiRXq"
      },
      "source": [
        "import twint"
      ],
      "execution_count": 4,
      "outputs": []
    },
    {
      "cell_type": "code",
      "metadata": {
        "colab": {
          "base_uri": "https://localhost:8080/"
        },
        "id": "oWiHunLmiUaP",
        "outputId": "1c19a75c-5d32-40d5-d5ef-d31f45d7640c"
      },
      "source": [
        "from optimus import Optimus\n",
        "op = Optimus()"
      ],
      "execution_count": 5,
      "outputs": [
        {
          "output_type": "stream",
          "text": [
            "/content\n"
          ],
          "name": "stdout"
        },
        {
          "output_type": "stream",
          "text": [
            "/root/.local/lib/python3.6/site-packages/statsmodels/tools/_testing.py:19: FutureWarning: pandas.util.testing is deprecated. Use the functions in the public API at pandas.testing instead.\n",
            "  import pandas.util.testing as tm\n"
          ],
          "name": "stderr"
        }
      ]
    },
    {
      "cell_type": "code",
      "metadata": {
        "id": "neUSmiNsiZyQ"
      },
      "source": [
        "# Set up TWINT config\n",
        "c = twint.Config()"
      ],
      "execution_count": 42,
      "outputs": []
    },
    {
      "cell_type": "code",
      "metadata": {
        "id": "oEWWlFTdie6M"
      },
      "source": [
        "# Solve compatibility issues with notebooks and RunTime errors.\n",
        "import nest_asyncio\n",
        "nest_asyncio.apply()"
      ],
      "execution_count": 43,
      "outputs": []
    },
    {
      "cell_type": "code",
      "metadata": {
        "id": "3rI8t0iRiha0"
      },
      "source": [
        "c.Search = \"feeling OR live\"\n",
        "# Custom output format\n",
        "c.Format = \"{username} | {tweet}\"\n",
        "c.Until = '2019-12-31'\n",
        "c.Since = '2019-12-01'\n",
        "c.Lang=\"en\"\n",
        "c.Limit = 1\n",
        "c.Pandas = True"
      ],
      "execution_count": 45,
      "outputs": []
    },
    {
      "cell_type": "code",
      "metadata": {
        "colab": {
          "base_uri": "https://localhost:8080/"
        },
        "id": "t0WJjy2ajSV0",
        "outputId": "9033089d-46a7-40ed-d67f-a8e642567a03"
      },
      "source": [
        "twint.run.Search(c)"
      ],
      "execution_count": 46,
      "outputs": [
        {
          "output_type": "stream",
          "text": [
            "youkillmyangel | it feels so strange to know i started the decade being obsessed with one direction and feeling at home while investing my time on those babies\n",
            "trahl1904 | @immatrip94 Oh I know dont worry Hate dallas I live in the midwest so all I here is \"Bla bla dallas good\" and its terrible 😂\n",
            "Shantelle_JJR | Clacton-On-Sea Live Weather: 00:00 AM Temp: 4.2C RH: 94% Wind:0.0mph NW Rain:  0.0 Pressure: 1031.3mb Falling slowly. #Clacton #Essex\n",
            "BogOtter | Got an absolutely incredible present today from Moogletart honoring Snapples, who we lost in 2019, and welcoming Fizzgig. Feeling very grateful for the amazing people in my life.   My reaction:   https://t.co/SxTqYJyNmg  https://t.co/g67DISDYHH\n",
            "NadelTV_Youtube | Sieh dir meine Übertragung von meiner PlayStation 4 an! #PS4live (Fortnite)  live at  https://t.co/HxQj5aVVNW\n",
            "nvjydblood | @_mydearbbh Yeahhhh.. live stream is real 😭\n",
            "brooklynn_l2 | @kerstynbethke I would loveeee to live in NYC!\n",
            "jkbruleigh | Ok you all know I don’t approve of having phones out when watching ~*poetic cinema*~ but @TrixieDelights and I are about to watch Cats and I’m gonna have to live tweet it  If only so you know we haven’t lost our minds\n",
            "19_as_ | 真ちゃんはLIVEではあまり泣かないって言ってたけど、オーラスでは涙拭ってたよ。  きっと、これはメッセージだったんだよね  https://t.co/IfpItCnZcJ\n",
            "PortalTracklist | @ohliv_ia What a Feeling podia ser a junção de gerações! A pegada Fleetwood Mac podia chamar atenção dos mais velhos e mesmo assim nada. Coloca injustiçado nisso!\n",
            "jollyswagman1 | If Americans, middle class, poor or homeless made a list of their needs and priorities for 2020 and beyond, who by their consistent voting record, could help them live a more hopeful and rewarding life? Many already know the answer. Bernie. That's what his goal has always been.\n",
            "abeemilk | @kitthendery se um dia rolar espero que passemos mal/choremos juntas kkkk Aff, deixa ele fazer live. Depois reclamam que o idol não tem rede social e quando tem não aproveitam o fato de ele querer se aproximar e compartilhar um pouco do dia a dia dele. É muito fofo da parte do Ten fazer isso\n",
            "Mystikstorm1754 | @1RealMir I'm stuck in PA and live in WV help me get home please $blackrose2222\n",
            "besoindecou | I’m feeling ignorant today\n",
            "star_shouta | @shouta0811aoi 充実した1年になったみたいで良かったですଘ(੭ˊ꒳​ˋ)੭✧ 私は今年だけで2回もLIVEに行けたので満足してます😍😍 来年はもっとしょーたんに会いに行きますね😘 来年も充実した1年を過ごしてください(*´³`*) ㄘゅ💕\n",
            "AAntyteista | @ColeWolfsson If you doing it properly,and know enough about those people, then yes, it may work like this. Otherwise it will most certainly work opposite. Do you think telling people they are \"a waste of oxygen\" is a good way to moralize? Who are we to tell others how they should live anyway?\n",
            "angeloproyty | ¡Mira la transmisión de mi PlayStation 4! #PS4live (Fortnite)  live at  https://t.co/bWx1rn0jio\n",
            "LarryLNichols | If you're feeling like The LORD has abandoned you, please take time to honestly evaluate how much time you're spending alone w/ HIM in quiet, undisturbed, HEART to HEART PRAYER &amp; daily reading HIS WORD; The Bible. In our relationships w/ GOD &amp; JESUS - it isn't THEM who walk away!\n",
            "anthpollock | First time seeing #Lexx Season 1, episode 1 so I’m gonna live tweet my reactions. And if the show is as bad as the choice of font for the opening credits - then we’re in trouble!\n",
            "purnya2 | @RadDoodCoolTude stay still and consume that'll make you sick but at least you'll gain weight  Here I am moving and skipping meals feeling sick but losing weight\n",
            "JakeAkers10 | Check out my broadcast from my PlayStation 4! #PS4live (Cuisine Royale)  live at  https://t.co/wDDuL6Okfy\n",
            "JWButta | My sister asked me to stop by the drug store and pick her up some hairspray and I was like \"we don't even live in Baltimore.\"  https://t.co/SRz5bvgTHz\n",
            "NoochNaggy | @RipTidess I’m so glad he’s doing Live From Here now. It just means we get more music than we otherwise would and with a larger scope of genres and musicians\n",
            "DaGamer215 | Check out my broadcast from my PlayStation 4! #PS4live (Apex Legends)  live at  https://t.co/xSPlJhMIjK\n",
            "twicewives | As of on the last of the 2019, my goal for next year is to go to atleast one of TWICE concert. And see the 1975 live. Both of which I’ve been trying to go since past few years but could not go due work and school! #twice #the1975 if you stan these two we can friends 🤙🏻\n",
            "nateh8syou | I’m feeling a ton better. I think I’m gonna set up and stream tonight around 10pm EST. Regular stream schedule will be posted soon\n",
            "Carla_SHA_2 | That’s not good 😬 holiday destination 200km from where I live 😥  https://t.co/QOkMHTUcat\n",
            "SadBoyGloomyTTV | I’m still live! Come hang out and watch me fail miserable! 🥀  (Twitch in bio)\n",
            "fitnesgothqueen | I hate feeling like this i hate feeling love. I hate that its your face i wake up to. I hate it that i can remember your voice, your hands and warmth. I just want my memories to be wiped and my heart to stop..\n",
            "revyoungskim | @IndianaMike75 @HarrellRyan1 Anyone, public or private, Black or White, Yellow or Red, legal or illegal, African or European, who doesn't love, honor, respect and obey the spirit of America, One Christian Nation under One God Jesus, doesn't deserve to live on the land of America. LOVE AMERICA or leave it!\n",
            "miwa301030 | @Ri01300507 りーすけさん😊 まだ会えてないですねー！ 来年こそは会えますかねー？ ぜひ会ってください！！ 来年もいっぱいLIVE行って、いっぱいLACCOにパワー貰いたいですね！ 来年もよろしくお願いします！ よいお年をー😊\n",
            "monetoto | Oil painting  portrait day 3　[LIVE]--  Déformer &amp; Abstract &amp; Expressionism  https://t.co/x1k1f727kp @YouTubeさんから\n",
            "rosalez_anthony | Ang sarap sa feeling pag sinasabayan ka ng jowa mo maglaro ng ml💖\n",
            "pea_gravel | Check out my broadcast from my PlayStation 4! #PS4live (Dishonored® Definitive Edition)  live at  https://t.co/f94phWGtPg\n",
            "KaraaMariee22 | Overwhelmed with a feeling of gratitude as I reflect on the 2019 season. So ready for 2020 and the start of a new decade. More growth to come..  #OnePride 🦁💙 📸 @MikeFerdinande @ Ford Field  https://t.co/LfyxLea5Z0\n",
            "RasoXoshnaw | @nahrainrawandzi Happy birthday nahrain 🎊🎊🎉 may all ur wishes become true, inshallah you'll live for 220 more years 😁 may u always live in happiness,may God always away from any misery &amp; unhappiness. May u always be successful. I wish ya all the best dude 🍻🌷💕\n",
            "SCREAMIN_Agyeei | Ugh I hate when a dude act so clingy and I’ve already told them I’m not feeling them. So cringe.\n",
            "BBSRadio | 🔴 LIVE PODCAST: BBS Radio Station 1 on @Spreaker  https://t.co/4W5Ua8sMQR\n",
            "analog_amber | @IneloquentGirl You're too kind, Genevieve. 😉😂 I need to get on it, though, I'm going to make an \"Analog Amber\" shirt for the next #GCP live!\n",
            "fatfunkyfruit | I have a good feeling of what's in store for my future\n",
            "TravMac7997 | @jayrashad83 @Coach_Rick57 @Phenom_Hoops You not the only one Cuz! I got a walking Tool Box! Proven winner, Champ, MVP but people prefer gas &amp; dunks. From da live streams to da “reporters”! We gonna make it out tho. Can’t stop Destiny! #FamilyTies We leaving that quiet mess in 2019.. Upp’n it from here on out! #OnMe 💯\n",
            "SloppysGtaMods | Check out my broadcast from my PlayStation 4! #PS4live (Fortnite)  live at  https://t.co/I7eesDc3Lg\n",
            "guyzlkeme | @decker_freeman @realDonaldTrump @MickMulvaneyOMB @AmbJohnBolton WHY WOULD U SAY, “CHOKE ON THAT”? That statement u made is a PERFECT example of US citizens (U &amp; me BOTH) having a civil conversation. While U R sitting in church next time, remember that wish. I have stage 4 cancer &amp; wasn’t supposed to live this long. UR keeping the US divided!\n",
            "sharesroyal | Come and see Hu〽️BLe_Leel🌚🦉's LIVE in #BIGOLIVE    https://t.co/Fj9QbLgtb3  https://t.co/Rjto5YZoFy\n",
            "toxicshelly | I'm not feeling anything lately! Nothing sounds fun or worthwhile.\n",
            "FairmontEmpress | After the holidays, we all need some time to relax and be able head into the New Year feeling recharged. ⁣ ⁣ Our Suites and Specialty Rooms are just the place to do so. ⁣  ⁣Book your suite escape here👉  https://t.co/p8ijJTNyXI  📷: @samhorine ⁣ #fairmonthotels #suitelife  https://t.co/IiCvbeWDMG\n",
            "r_graus | @angelgirl1077 If you live in a society, you have to abide by society's rules.\n",
            "JonTurnerEdD | @MissouriState now offers all of our graduate educational leadership classes using Zoom streaming technology.  Take classes live from home! Check out Prepare For School Leadership Now  https://t.co/bFRhh9TJ7p\n",
            "hwangville | perguntaram pro ten \"pq você está fazendo uma live se você não pergunta nada\". depois o ten falou \"eu só queria encontrar todos vocês\" e encerrou a live. mano, o ten é uma pessoa tão incrível, como vocês falam isso pra ele??? ele se importa tanto com a gente  https://t.co/2XlnhUl4L2\n",
            "JeyzusYt | Check out my broadcast from my PlayStation 4! #PS4live (The Last of Us™ Remastered)  live at  https://t.co/eqs5H53yta\n",
            "carpediemmgt | Now Playing On Carpe Diem Live Radio YNG Kizzy ft Kells &amp; Qween Kharma - Ride #seedamoment  #musicizworldwide\n",
            "Burgah_mcr | Live broadcasting community  https://t.co/MMW2DFWDg9  https://t.co/NoegWNYGTv\n",
            "RerinKin | @YuaXIII lol! i remember that from Inuyasha and Ookami i'm feeling VERY old now!\n",
            "Trisarahjtops | Feeling left out because everyone in my new town has all these traditional family names and nobody even tries to pronounce my cursed unspeakable name bestowed upon me by a powerful witch\n",
            "wg8nY89HJV6Bwft | 『大晦日に自由人の歌と雑談🍱』- Layla♬⋆*さんのMixChannel LIVEに参加しよう！ #ミクチャ  https://t.co/mtIdNLgAyA\n",
            "surfline | Outside! It's getting big on the North Shore of Oahu #Hawaii as XL swell fills in -- get the latest on the #surf, watch #Pipeline live, and more in the #SwellAlert:  https://t.co/JfYMNrM41E  https://t.co/oXLkNsg1Yi\n",
            "g_sr | Siracusa maltempo #live #protezionecivile  https://t.co/FWhdJegRSA\n",
            "Hbishiki | @okitanoniisan i was vagetweeting all of you !! Can't believe you had the audacity of answering!! heh thank you i really appreciate 🥺🥺🥺💕 i was feeling a bit down about my art lately but seeing y'all say such nice things about it unprompted made me go 😳😳❣\n",
            "WTOKTV | We are live! Join us for coverage of today's top stories. Watch here:  https://t.co/P7a6WQPW0q  https://t.co/MEFX0pGpqm\n",
            "18_wheeeler | If you want to tell me anything before 2020, do it before 145 PM tomorrow. FSU plays at 2 and I have a feeling they're going to let me down one more time this decade.\n",
            "ponnyan22 | 何泊すんねんお前って荷物で東京向かいます、これ+あゆバック持ってるけど1泊2日です🤗 LIVEってなんでこんな荷物多くなるんかね？？私だけかね？？笑 新幹線で寝て髪も顔もしっかり作って16時頃会場に着く目安で💪 楽しみすぎる〜  https://t.co/5DXpnBG5u9\n",
            "mendesinsxane | quiero escuchar el live in buenos aires, pero voy a llorar y no quiero\n",
            "ChrisLongKSTP | Coming up on @KSTP - we’re live from Tampa with a *massive* group of #Gophers fans who are making the most of #OutbackBowl week.  You’ll feel warmer just by watching!  https://t.co/E7dfjdSG4N\n",
            "artnyarn | They end up becoming close friends despite their differences. Werewolves don't live forever, though, but Leonard stays in contact with and helps Simon's (grand)children wherever he can 🥺\n",
            "fastlanezax1 | Don’t put yo feeling in nothing u can’t control. Get a bankroll &amp; keep it goin fuck that other shit\n",
            "cecimtz_ | Ese feeling cuando piensas en alguien y al minuto te manda mensaje 👌\n",
            "oppresseddingy | @NudaleKawonu 🥺 shipping is hella expensive, and I live with 7 others..\n",
            "DanStacey390 | If people were to live a day in my life prehaps i might be better understood\n",
            "Laid2Rest_ttv | Hey all! Going live right now on #ApexLegends . We will be trying to climb up the ranked ladder! Come check it out!  https://t.co/JRVOQYOGKS\n",
            "Bossdiva71 | Live broadcasting community  https://t.co/kqF1f8k0O2  https://t.co/k51smTA37B\n",
            "SkempLAWD | Check out my broadcast from my PlayStation 4! #PS4live (Call of Duty®: Modern Warfare®)  live at  https://t.co/E91i1GO25p\n",
            "gJzt5aVPrdKp2RM | @ayumi_0512_live 検索より失礼します。 良ければ教えて欲しいです。\n",
            "myicekale | @krypto___klepto @Debicas50 @cryptosthanos I wanted solar panels so I can make use of the sun in powering the nearby village close to where I live\n",
            "xXxMiSsYxXx1 | @kurtfearnley I have torn feeling towards the fireworks display in Sydney Of course we could all complain about the money that's spent to put on the show ,but Also we shouldn't surrender , feeling positive that money will be raised for Aid in Sydney's biggest money spinner\n",
            "seancarlson | 2.) In Tallinn, @LittleZeus gave marzipan another shot and concluded that the next time she's not feeling well, she'll simply follow historical precedent and devour a dose or two. (@bondandthomas)  https://t.co/TzjwOdxGze\n",
            "_WhitY__ | @urgaakR6 envoi le live ?\n",
            "BagVa4 | ¡Echa un vistazo a mi transmisión desde mi PlayStation 4! #PS4live (Fortnite)  live at  https://t.co/66kMb5NwX3\n",
            "Pegasus12164 | Just because I live in Arizona, let be known we have temps in zero range, cold weather and snow.\n",
            "dmck1957 | @kinsellawarren Mmm. Not only the gravely ill. People who feel overwhelmed with life's circumstances just want to \"get thru\" the holidays. Be kind to each other, and reach out for help if feeling overwhelmed.\n",
            "NewLooneyTune | Sometimes I’ve been feeling anxious that my heart feels like it’s about to pop out my chest. My body starts shaking and I have no control over my own mindset\n",
            "LinesGamess | Just went live! Come hang out and have fun with me  https://t.co/2HFFKeveZi\n",
            "massheromass74 | @nao_massmass ありがとう💛  こちらこそ🥰仲良くしてくれてありがとう〜🙌🏻💜なおちゃんと沢山お話出来て💗LIVEにもご一緒できて本当に素敵な1年だった〜また来年もよろしくお願いします💚 まっすーに早く会いたいね🥺💛\n",
            "BrownHoops | McKenna Dale knocks down the triple! Bears have hit 10-21 3PT (47.6%)!  End 3Q | USF 51, Brown 47  Watch Live:  https://t.co/BnyC9yaedX  #GoBruno #IvyHoops  https://t.co/ihLhxsc280\n",
            "allardkarev | and I'm a shadow of a ghost It's feeling as if somebody has taken host babe, I don't wanna make a scene but I get self-destructive and it's driving you away It's driving you away piece by piece @nemesisvajseli\n",
            "hurryuphem | @jura_live ワールドフリッパーおすすめです\n",
            "andytaylor6 | Important note from being here live: she rules\n",
            "jiminspinkjuul | ‼️Korea Storytime‼️  my old science teacher used to teach and live in korea. he didn’t know korean very fluently so one time he was taking a taxi and he used extremely informal language and he had no idea and the taxi driver slap the absolute shit outta him.   should do more?\n",
            "WA_Bomber | Attempted ice skating at the Rockerfella rink and avoided breaking my ankles. Still feeling sore though.  https://t.co/xl7ZLKHHNJ\n",
            "la_malaaa | @hailpeezy me announcing my reason to live 😂\n",
            "real_cntrvrsy | @randyportillo60 Stop feeling sorry for yourself already, let’s get money\n",
            "Ri_Wee | my mom is on the phone with his mom and she's super aware of how fucked up he is in the head and apparently there's even more to it that i had no fucking clue about ?? oh god the shit i overheard them talking about has me FEELING ACTUAL DREAD\n",
            "david_milarch | If you live in northern Michigan you will need to know this tonight!  https://t.co/QRTlXrJI0e\n",
            "OutsideDog | @arttavana Bro why don’t you go back to making a difference in the world- like live tweeting your acid trips. That was revolutionary and will surely change the world in a positive way.\n",
            "buffalocentric | @dazzo716 I don't think that gentleman could live without his Cable tv, flip phone or microwave so I call bullshit.\n",
            "groovy_nights | Eagles - Peaceful easy feeling  https://t.co/7FWr0U1IY5 via @YouTube\n",
            "ttvbigd | Check out my broadcast from my PlayStation 4! #PS4live (Fortnite)  live at  https://t.co/lssOYrfqTO\n",
            "Vatroh | Live w/ @yamsbot @BeachHead_, bouta hit pred soon so come thru! Live till sun rise. 👀⛅️   https://t.co/q4CnNbdPzy  https://t.co/IhYCkfscP2\n",
            "fenifur | @TanyaAGT Funnily enough I had a drop of tea tree in too! Thyme is meant to be good for strep A though. I’m currently in too much pain to talk or swallow even after 4 each of nurofen and panadol, so am drooling into tissues and praying I wake up feeling better 😆\n",
            "majimekun3_ | PlayStation 4からブロードキャストを始めました！ #PS4live (BIOHAZARD RE:2 Z Version)  live at  https://t.co/LBKuFrfPqn\n",
            "Eduardo61189391 | @melanylolee Posta simmmmm, vc cantando na live foi incrível, não tenha vergonha do seu talento que é maravilhoso.♥️\n"
          ],
          "name": "stdout"
        }
      ]
    },
    {
      "cell_type": "code",
      "metadata": {
        "id": "r5ISoxU21W0x"
      },
      "source": [
        ""
      ],
      "execution_count": null,
      "outputs": []
    },
    {
      "cell_type": "code",
      "metadata": {
        "id": "-L-bj052oXbU"
      },
      "source": [
        "Tweets_df = twint.storage.panda.Tweets_df"
      ],
      "execution_count": 52,
      "outputs": []
    },
    {
      "cell_type": "code",
      "metadata": {
        "id": "LaBHJEhA1f8T"
      },
      "source": [
        ""
      ],
      "execution_count": null,
      "outputs": []
    },
    {
      "cell_type": "code",
      "metadata": {
        "colab": {
          "base_uri": "https://localhost:8080/",
          "height": 564
        },
        "id": "ua9fuTvgq4gV",
        "outputId": "829887f9-fe94-41bf-b124-99e8c37ab33a"
      },
      "source": [
        "Tweets_df.head()"
      ],
      "execution_count": 53,
      "outputs": [
        {
          "output_type": "execute_result",
          "data": {
            "text/html": [
              "<div>\n",
              "<style scoped>\n",
              "    .dataframe tbody tr th:only-of-type {\n",
              "        vertical-align: middle;\n",
              "    }\n",
              "\n",
              "    .dataframe tbody tr th {\n",
              "        vertical-align: top;\n",
              "    }\n",
              "\n",
              "    .dataframe thead th {\n",
              "        text-align: right;\n",
              "    }\n",
              "</style>\n",
              "<table border=\"1\" class=\"dataframe\">\n",
              "  <thead>\n",
              "    <tr style=\"text-align: right;\">\n",
              "      <th></th>\n",
              "      <th>id</th>\n",
              "      <th>conversation_id</th>\n",
              "      <th>created_at</th>\n",
              "      <th>date</th>\n",
              "      <th>timezone</th>\n",
              "      <th>place</th>\n",
              "      <th>tweet</th>\n",
              "      <th>language</th>\n",
              "      <th>hashtags</th>\n",
              "      <th>cashtags</th>\n",
              "      <th>user_id</th>\n",
              "      <th>user_id_str</th>\n",
              "      <th>username</th>\n",
              "      <th>name</th>\n",
              "      <th>day</th>\n",
              "      <th>hour</th>\n",
              "      <th>link</th>\n",
              "      <th>urls</th>\n",
              "      <th>photos</th>\n",
              "      <th>video</th>\n",
              "      <th>thumbnail</th>\n",
              "      <th>retweet</th>\n",
              "      <th>nlikes</th>\n",
              "      <th>nreplies</th>\n",
              "      <th>nretweets</th>\n",
              "      <th>quote_url</th>\n",
              "      <th>search</th>\n",
              "      <th>near</th>\n",
              "      <th>geo</th>\n",
              "      <th>source</th>\n",
              "      <th>user_rt_id</th>\n",
              "      <th>user_rt</th>\n",
              "      <th>retweet_id</th>\n",
              "      <th>reply_to</th>\n",
              "      <th>retweet_date</th>\n",
              "      <th>translate</th>\n",
              "      <th>trans_src</th>\n",
              "      <th>trans_dest</th>\n",
              "    </tr>\n",
              "  </thead>\n",
              "  <tbody>\n",
              "    <tr>\n",
              "      <th>0</th>\n",
              "      <td>1211799123990581248</td>\n",
              "      <td>1211799123990581248</td>\n",
              "      <td>1.577750e+12</td>\n",
              "      <td>2019-12-30 23:59:59</td>\n",
              "      <td>+0000</td>\n",
              "      <td></td>\n",
              "      <td>it feels so strange to know i started the deca...</td>\n",
              "      <td>en</td>\n",
              "      <td>[]</td>\n",
              "      <td>[]</td>\n",
              "      <td>1210277334638637062</td>\n",
              "      <td>1210277334638637062</td>\n",
              "      <td>youkillmyangel</td>\n",
              "      <td>carina is unfuckwitable</td>\n",
              "      <td>1</td>\n",
              "      <td>23</td>\n",
              "      <td>https://twitter.com/youkillmyangel/status/1211...</td>\n",
              "      <td>[]</td>\n",
              "      <td>[]</td>\n",
              "      <td>0</td>\n",
              "      <td></td>\n",
              "      <td>False</td>\n",
              "      <td>0</td>\n",
              "      <td>1</td>\n",
              "      <td>0</td>\n",
              "      <td></td>\n",
              "      <td>feeling OR live</td>\n",
              "      <td></td>\n",
              "      <td></td>\n",
              "      <td></td>\n",
              "      <td></td>\n",
              "      <td></td>\n",
              "      <td></td>\n",
              "      <td>[]</td>\n",
              "      <td></td>\n",
              "      <td></td>\n",
              "      <td></td>\n",
              "      <td></td>\n",
              "    </tr>\n",
              "    <tr>\n",
              "      <th>1</th>\n",
              "      <td>1211799123554226176</td>\n",
              "      <td>1211796998585757697</td>\n",
              "      <td>1.577750e+12</td>\n",
              "      <td>2019-12-30 23:59:59</td>\n",
              "      <td>+0000</td>\n",
              "      <td></td>\n",
              "      <td>@immatrip94 Oh I know dont worry Hate dallas I...</td>\n",
              "      <td>en</td>\n",
              "      <td>[]</td>\n",
              "      <td>[]</td>\n",
              "      <td>1103038160911556613</td>\n",
              "      <td>1103038160911556613</td>\n",
              "      <td>trahl1904</td>\n",
              "      <td>Trahl1904</td>\n",
              "      <td>1</td>\n",
              "      <td>23</td>\n",
              "      <td>https://twitter.com/trahl1904/status/121179912...</td>\n",
              "      <td>[]</td>\n",
              "      <td>[]</td>\n",
              "      <td>0</td>\n",
              "      <td></td>\n",
              "      <td>False</td>\n",
              "      <td>1</td>\n",
              "      <td>1</td>\n",
              "      <td>0</td>\n",
              "      <td></td>\n",
              "      <td>feeling OR live</td>\n",
              "      <td></td>\n",
              "      <td></td>\n",
              "      <td></td>\n",
              "      <td></td>\n",
              "      <td></td>\n",
              "      <td></td>\n",
              "      <td>[{'screen_name': 'immatrip94', 'name': 'Anothe...</td>\n",
              "      <td></td>\n",
              "      <td></td>\n",
              "      <td></td>\n",
              "      <td></td>\n",
              "    </tr>\n",
              "    <tr>\n",
              "      <th>2</th>\n",
              "      <td>1211799123231424517</td>\n",
              "      <td>1211799123231424517</td>\n",
              "      <td>1.577750e+12</td>\n",
              "      <td>2019-12-30 23:59:59</td>\n",
              "      <td>+0000</td>\n",
              "      <td></td>\n",
              "      <td>Clacton-On-Sea Live Weather: 00:00 AM Temp: 4....</td>\n",
              "      <td>en</td>\n",
              "      <td>[clacton, essex]</td>\n",
              "      <td>[]</td>\n",
              "      <td>92112055</td>\n",
              "      <td>92112055</td>\n",
              "      <td>Shantelle_JJR</td>\n",
              "      <td>Shantelle Robinson</td>\n",
              "      <td>1</td>\n",
              "      <td>23</td>\n",
              "      <td>https://twitter.com/Shantelle_JJR/status/12117...</td>\n",
              "      <td>[]</td>\n",
              "      <td>[]</td>\n",
              "      <td>0</td>\n",
              "      <td></td>\n",
              "      <td>False</td>\n",
              "      <td>0</td>\n",
              "      <td>0</td>\n",
              "      <td>0</td>\n",
              "      <td></td>\n",
              "      <td>feeling OR live</td>\n",
              "      <td></td>\n",
              "      <td></td>\n",
              "      <td></td>\n",
              "      <td></td>\n",
              "      <td></td>\n",
              "      <td></td>\n",
              "      <td>[]</td>\n",
              "      <td></td>\n",
              "      <td></td>\n",
              "      <td></td>\n",
              "      <td></td>\n",
              "    </tr>\n",
              "    <tr>\n",
              "      <th>3</th>\n",
              "      <td>1211799122870767618</td>\n",
              "      <td>1211799122870767618</td>\n",
              "      <td>1.577750e+12</td>\n",
              "      <td>2019-12-30 23:59:59</td>\n",
              "      <td>+0000</td>\n",
              "      <td></td>\n",
              "      <td>Got an absolutely incredible present today fro...</td>\n",
              "      <td>en</td>\n",
              "      <td>[]</td>\n",
              "      <td>[]</td>\n",
              "      <td>231931886</td>\n",
              "      <td>231931886</td>\n",
              "      <td>BogOtter</td>\n",
              "      <td>Bog Otter</td>\n",
              "      <td>1</td>\n",
              "      <td>23</td>\n",
              "      <td>https://twitter.com/BogOtter/status/1211799122...</td>\n",
              "      <td>[https://www.twitch.tv/videos/528626390]</td>\n",
              "      <td>[https://pbs.twimg.com/media/ENEs3GAWwAYmtjy.jpg]</td>\n",
              "      <td>1</td>\n",
              "      <td>https://pbs.twimg.com/media/ENEs3GAWwAYmtjy.jpg</td>\n",
              "      <td>False</td>\n",
              "      <td>85</td>\n",
              "      <td>19</td>\n",
              "      <td>13</td>\n",
              "      <td></td>\n",
              "      <td>feeling OR live</td>\n",
              "      <td></td>\n",
              "      <td></td>\n",
              "      <td></td>\n",
              "      <td></td>\n",
              "      <td></td>\n",
              "      <td></td>\n",
              "      <td>[]</td>\n",
              "      <td></td>\n",
              "      <td></td>\n",
              "      <td></td>\n",
              "      <td></td>\n",
              "    </tr>\n",
              "    <tr>\n",
              "      <th>4</th>\n",
              "      <td>1211799121318821888</td>\n",
              "      <td>1211799121318821888</td>\n",
              "      <td>1.577750e+12</td>\n",
              "      <td>2019-12-30 23:59:59</td>\n",
              "      <td>+0000</td>\n",
              "      <td></td>\n",
              "      <td>Sieh dir meine Übertragung von meiner PlayStat...</td>\n",
              "      <td>de</td>\n",
              "      <td>[ps4live]</td>\n",
              "      <td>[]</td>\n",
              "      <td>900098335805190145</td>\n",
              "      <td>900098335805190145</td>\n",
              "      <td>NadelTV_Youtube</td>\n",
              "      <td>NadelTV</td>\n",
              "      <td>1</td>\n",
              "      <td>23</td>\n",
              "      <td>https://twitter.com/NadelTV_Youtube/status/121...</td>\n",
              "      <td>[https://youtu.be/Qtn3di-fnvw]</td>\n",
              "      <td>[]</td>\n",
              "      <td>0</td>\n",
              "      <td></td>\n",
              "      <td>False</td>\n",
              "      <td>0</td>\n",
              "      <td>0</td>\n",
              "      <td>0</td>\n",
              "      <td></td>\n",
              "      <td>feeling OR live</td>\n",
              "      <td></td>\n",
              "      <td></td>\n",
              "      <td></td>\n",
              "      <td></td>\n",
              "      <td></td>\n",
              "      <td></td>\n",
              "      <td>[]</td>\n",
              "      <td></td>\n",
              "      <td></td>\n",
              "      <td></td>\n",
              "      <td></td>\n",
              "    </tr>\n",
              "  </tbody>\n",
              "</table>\n",
              "</div>"
            ],
            "text/plain": [
              "                    id      conversation_id  ...  trans_src trans_dest\n",
              "0  1211799123990581248  1211799123990581248  ...                      \n",
              "1  1211799123554226176  1211796998585757697  ...                      \n",
              "2  1211799123231424517  1211799123231424517  ...                      \n",
              "3  1211799122870767618  1211799122870767618  ...                      \n",
              "4  1211799121318821888  1211799121318821888  ...                      \n",
              "\n",
              "[5 rows x 38 columns]"
            ]
          },
          "metadata": {
            "tags": []
          },
          "execution_count": 53
        }
      ]
    },
    {
      "cell_type": "code",
      "metadata": {
        "id": "DppwfGJHrDtP"
      },
      "source": [
        "Tweets_before = Tweets_df[['date', 'tweet', 'user_id', 'username']]"
      ],
      "execution_count": 56,
      "outputs": []
    },
    {
      "cell_type": "code",
      "metadata": {
        "colab": {
          "base_uri": "https://localhost:8080/",
          "height": 204
        },
        "id": "LuMNbqQwsNhe",
        "outputId": "7db28027-61cc-45d8-c78a-a6f1c257c5e5"
      },
      "source": [
        "Tweets_before.head()"
      ],
      "execution_count": 57,
      "outputs": [
        {
          "output_type": "execute_result",
          "data": {
            "text/html": [
              "<div>\n",
              "<style scoped>\n",
              "    .dataframe tbody tr th:only-of-type {\n",
              "        vertical-align: middle;\n",
              "    }\n",
              "\n",
              "    .dataframe tbody tr th {\n",
              "        vertical-align: top;\n",
              "    }\n",
              "\n",
              "    .dataframe thead th {\n",
              "        text-align: right;\n",
              "    }\n",
              "</style>\n",
              "<table border=\"1\" class=\"dataframe\">\n",
              "  <thead>\n",
              "    <tr style=\"text-align: right;\">\n",
              "      <th></th>\n",
              "      <th>date</th>\n",
              "      <th>tweet</th>\n",
              "      <th>user_id</th>\n",
              "      <th>username</th>\n",
              "    </tr>\n",
              "  </thead>\n",
              "  <tbody>\n",
              "    <tr>\n",
              "      <th>0</th>\n",
              "      <td>2019-12-30 23:59:59</td>\n",
              "      <td>it feels so strange to know i started the deca...</td>\n",
              "      <td>1210277334638637062</td>\n",
              "      <td>youkillmyangel</td>\n",
              "    </tr>\n",
              "    <tr>\n",
              "      <th>1</th>\n",
              "      <td>2019-12-30 23:59:59</td>\n",
              "      <td>@immatrip94 Oh I know dont worry Hate dallas I...</td>\n",
              "      <td>1103038160911556613</td>\n",
              "      <td>trahl1904</td>\n",
              "    </tr>\n",
              "    <tr>\n",
              "      <th>2</th>\n",
              "      <td>2019-12-30 23:59:59</td>\n",
              "      <td>Clacton-On-Sea Live Weather: 00:00 AM Temp: 4....</td>\n",
              "      <td>92112055</td>\n",
              "      <td>Shantelle_JJR</td>\n",
              "    </tr>\n",
              "    <tr>\n",
              "      <th>3</th>\n",
              "      <td>2019-12-30 23:59:59</td>\n",
              "      <td>Got an absolutely incredible present today fro...</td>\n",
              "      <td>231931886</td>\n",
              "      <td>BogOtter</td>\n",
              "    </tr>\n",
              "    <tr>\n",
              "      <th>4</th>\n",
              "      <td>2019-12-30 23:59:59</td>\n",
              "      <td>Sieh dir meine Übertragung von meiner PlayStat...</td>\n",
              "      <td>900098335805190145</td>\n",
              "      <td>NadelTV_Youtube</td>\n",
              "    </tr>\n",
              "  </tbody>\n",
              "</table>\n",
              "</div>"
            ],
            "text/plain": [
              "                  date  ...         username\n",
              "0  2019-12-30 23:59:59  ...   youkillmyangel\n",
              "1  2019-12-30 23:59:59  ...        trahl1904\n",
              "2  2019-12-30 23:59:59  ...    Shantelle_JJR\n",
              "3  2019-12-30 23:59:59  ...         BogOtter\n",
              "4  2019-12-30 23:59:59  ...  NadelTV_Youtube\n",
              "\n",
              "[5 rows x 4 columns]"
            ]
          },
          "metadata": {
            "tags": []
          },
          "execution_count": 57
        }
      ]
    },
    {
      "cell_type": "code",
      "metadata": {
        "colab": {
          "base_uri": "https://localhost:8080/"
        },
        "id": "Yy6pG0T9sRMx",
        "outputId": "9302528f-3abc-46f7-f50b-b497b70cd167"
      },
      "source": [
        "Tweets_before.shape"
      ],
      "execution_count": 58,
      "outputs": [
        {
          "output_type": "execute_result",
          "data": {
            "text/plain": [
              "(100, 4)"
            ]
          },
          "metadata": {
            "tags": []
          },
          "execution_count": 58
        }
      ]
    },
    {
      "cell_type": "code",
      "metadata": {
        "colab": {
          "base_uri": "https://localhost:8080/"
        },
        "id": "VclcmGGIt5Ca",
        "outputId": "0affc459-0994-4716-fc18-d2418b5ee1b3"
      },
      "source": [
        "Tweets_df.shape"
      ],
      "execution_count": 71,
      "outputs": [
        {
          "output_type": "execute_result",
          "data": {
            "text/plain": [
              "(100, 38)"
            ]
          },
          "metadata": {
            "tags": []
          },
          "execution_count": 71
        }
      ]
    },
    {
      "cell_type": "code",
      "metadata": {
        "colab": {
          "base_uri": "https://localhost:8080/",
          "height": 37
        },
        "id": "asapr-jqt_LH",
        "outputId": "b149ac0e-6138-4384-fe5a-b1f6d25aca8a"
      },
      "source": [
        "import string\n",
        "string.punctuation"
      ],
      "execution_count": 72,
      "outputs": [
        {
          "output_type": "execute_result",
          "data": {
            "application/vnd.google.colaboratory.intrinsic+json": {
              "type": "string"
            },
            "text/plain": [
              "'!\"#$%&\\'()*+,-./:;<=>?@[\\\\]^_`{|}~'"
            ]
          },
          "metadata": {
            "tags": []
          },
          "execution_count": 72
        }
      ]
    },
    {
      "cell_type": "code",
      "metadata": {
        "colab": {
          "base_uri": "https://localhost:8080/"
        },
        "id": "_hq7MznIvNAz",
        "outputId": "77ba1732-a0c7-46b2-eb91-597a588eb90e"
      },
      "source": [
        "for char in string.punctuation:\n",
        "    Tweets_before['tweet'] = Tweets_before['tweet'].str.replace(char, '')\n"
      ],
      "execution_count": 74,
      "outputs": [
        {
          "output_type": "stream",
          "text": [
            "\n",
            "A value is trying to be set on a copy of a slice from a DataFrame.\n",
            "Try using .loc[row_indexer,col_indexer] = value instead\n",
            "\n",
            "See the caveats in the documentation: https://pandas.pydata.org/pandas-docs/stable/user_guide/indexing.html#returning-a-view-versus-a-copy\n"
          ],
          "name": "stderr"
        }
      ]
    },
    {
      "cell_type": "code",
      "metadata": {
        "colab": {
          "base_uri": "https://localhost:8080/",
          "height": 419
        },
        "id": "xc6ybzSBvwKb",
        "outputId": "5163b1c5-261a-4806-9902-355ec261e75a"
      },
      "source": [
        "Tweets_before"
      ],
      "execution_count": 75,
      "outputs": [
        {
          "output_type": "execute_result",
          "data": {
            "text/html": [
              "<div>\n",
              "<style scoped>\n",
              "    .dataframe tbody tr th:only-of-type {\n",
              "        vertical-align: middle;\n",
              "    }\n",
              "\n",
              "    .dataframe tbody tr th {\n",
              "        vertical-align: top;\n",
              "    }\n",
              "\n",
              "    .dataframe thead th {\n",
              "        text-align: right;\n",
              "    }\n",
              "</style>\n",
              "<table border=\"1\" class=\"dataframe\">\n",
              "  <thead>\n",
              "    <tr style=\"text-align: right;\">\n",
              "      <th></th>\n",
              "      <th>date</th>\n",
              "      <th>tweet</th>\n",
              "      <th>user_id</th>\n",
              "      <th>username</th>\n",
              "    </tr>\n",
              "  </thead>\n",
              "  <tbody>\n",
              "    <tr>\n",
              "      <th>0</th>\n",
              "      <td>2019-12-30 23:59:59</td>\n",
              "      <td>it feels so strange to know i started the deca...</td>\n",
              "      <td>1210277334638637062</td>\n",
              "      <td>youkillmyangel</td>\n",
              "    </tr>\n",
              "    <tr>\n",
              "      <th>1</th>\n",
              "      <td>2019-12-30 23:59:59</td>\n",
              "      <td>immatrip94 Oh I know dont worry Hate dallas I ...</td>\n",
              "      <td>1103038160911556613</td>\n",
              "      <td>trahl1904</td>\n",
              "    </tr>\n",
              "    <tr>\n",
              "      <th>2</th>\n",
              "      <td>2019-12-30 23:59:59</td>\n",
              "      <td>ClactonOnSea Live Weather 0000 AM Temp 42C RH ...</td>\n",
              "      <td>92112055</td>\n",
              "      <td>Shantelle_JJR</td>\n",
              "    </tr>\n",
              "    <tr>\n",
              "      <th>3</th>\n",
              "      <td>2019-12-30 23:59:59</td>\n",
              "      <td>Got an absolutely incredible present today fro...</td>\n",
              "      <td>231931886</td>\n",
              "      <td>BogOtter</td>\n",
              "    </tr>\n",
              "    <tr>\n",
              "      <th>4</th>\n",
              "      <td>2019-12-30 23:59:59</td>\n",
              "      <td>Sieh dir meine Übertragung von meiner PlayStat...</td>\n",
              "      <td>900098335805190145</td>\n",
              "      <td>NadelTV_Youtube</td>\n",
              "    </tr>\n",
              "    <tr>\n",
              "      <th>...</th>\n",
              "      <td>...</td>\n",
              "      <td>...</td>\n",
              "      <td>...</td>\n",
              "      <td>...</td>\n",
              "    </tr>\n",
              "    <tr>\n",
              "      <th>95</th>\n",
              "      <td>2019-12-30 23:59:41</td>\n",
              "      <td>Check out my broadcast from my PlayStation 4 P...</td>\n",
              "      <td>1185291878725382144</td>\n",
              "      <td>ttvbigd</td>\n",
              "    </tr>\n",
              "    <tr>\n",
              "      <th>96</th>\n",
              "      <td>2019-12-30 23:59:41</td>\n",
              "      <td>Live w yamsbot BeachHead bouta hit pred soon s...</td>\n",
              "      <td>753037564039294976</td>\n",
              "      <td>Vatroh</td>\n",
              "    </tr>\n",
              "    <tr>\n",
              "      <th>97</th>\n",
              "      <td>2019-12-30 23:59:41</td>\n",
              "      <td>TanyaAGT Funnily enough I had a drop of tea tr...</td>\n",
              "      <td>115070532</td>\n",
              "      <td>fenifur</td>\n",
              "    </tr>\n",
              "    <tr>\n",
              "      <th>98</th>\n",
              "      <td>2019-12-30 23:59:41</td>\n",
              "      <td>PlayStation 4からブロードキャストを始めました！ PS4live BIOHAZA...</td>\n",
              "      <td>1866058856</td>\n",
              "      <td>majimekun3_</td>\n",
              "    </tr>\n",
              "    <tr>\n",
              "      <th>99</th>\n",
              "      <td>2019-12-30 23:59:40</td>\n",
              "      <td>melanylolee Posta simmmmm vc cantando na live ...</td>\n",
              "      <td>1140756466204381185</td>\n",
              "      <td>Eduardo61189391</td>\n",
              "    </tr>\n",
              "  </tbody>\n",
              "</table>\n",
              "<p>100 rows × 4 columns</p>\n",
              "</div>"
            ],
            "text/plain": [
              "                   date  ...         username\n",
              "0   2019-12-30 23:59:59  ...   youkillmyangel\n",
              "1   2019-12-30 23:59:59  ...        trahl1904\n",
              "2   2019-12-30 23:59:59  ...    Shantelle_JJR\n",
              "3   2019-12-30 23:59:59  ...         BogOtter\n",
              "4   2019-12-30 23:59:59  ...  NadelTV_Youtube\n",
              "..                  ...  ...              ...\n",
              "95  2019-12-30 23:59:41  ...          ttvbigd\n",
              "96  2019-12-30 23:59:41  ...           Vatroh\n",
              "97  2019-12-30 23:59:41  ...          fenifur\n",
              "98  2019-12-30 23:59:41  ...      majimekun3_\n",
              "99  2019-12-30 23:59:40  ...  Eduardo61189391\n",
              "\n",
              "[100 rows x 4 columns]"
            ]
          },
          "metadata": {
            "tags": []
          },
          "execution_count": 75
        }
      ]
    },
    {
      "cell_type": "code",
      "metadata": {
        "id": "gL6IXpBmv0_L"
      },
      "source": [
        "tweets2 = Tweets_before['tweet'].tolist()"
      ],
      "execution_count": 76,
      "outputs": []
    },
    {
      "cell_type": "code",
      "metadata": {
        "id": "SXHvSuh21_EH"
      },
      "source": [
        ""
      ],
      "execution_count": null,
      "outputs": []
    },
    {
      "cell_type": "code",
      "metadata": {
        "colab": {
          "base_uri": "https://localhost:8080/"
        },
        "id": "uemOXF2CwWSf",
        "outputId": "ff88d768-0ba8-4755-a146-d7066b681bf6"
      },
      "source": [
        "tweets2[:2]"
      ],
      "execution_count": 77,
      "outputs": [
        {
          "output_type": "execute_result",
          "data": {
            "text/plain": [
              "['it feels so strange to know i started the decade being obsessed with one direction and feeling at home while investing my time on those babies',\n",
              " 'immatrip94 Oh I know dont worry Hate dallas I live in the midwest so all I here is Bla bla dallas good and its terrible 😂']"
            ]
          },
          "metadata": {
            "tags": []
          },
          "execution_count": 77
        }
      ]
    },
    {
      "cell_type": "code",
      "metadata": {
        "id": "DNZ5uCQxwfn6"
      },
      "source": [
        "from textblob import TextBlob\n",
        "from IPython.display import Markdown, display"
      ],
      "execution_count": 78,
      "outputs": []
    },
    {
      "cell_type": "code",
      "metadata": {
        "colab": {
          "base_uri": "https://localhost:8080/",
          "height": 1000
        },
        "id": "g0_CQQU2wkG6",
        "outputId": "b877c952-20af-476d-f3b3-8492ce6a6221"
      },
      "source": [
        "# Pretty printing the result\n",
        "def printmd(string, color=None):\n",
        "    colorstr = \"<span style='color:{}'>{}</span>\".format(color, string)\n",
        "    display(Markdown(colorstr))\n",
        "\n",
        "for tweet in tweets2:\n",
        "    print(tweet)\n",
        "    analysis = TextBlob(tweet)\n",
        "    print(analysis.sentiment)\n",
        "    if analysis.sentiment[0]>0:\n",
        "        printmd('Positive', color=\"green\")\n",
        "    elif analysis.sentiment[0]<0:\n",
        "        printmd('Negative', color=\"red\")\n",
        "    else:\n",
        "        printmd(\"No result\", color=\"grey\")\n",
        "        print(\"\")"
      ],
      "execution_count": 79,
      "outputs": [
        {
          "output_type": "stream",
          "text": [
            "it feels so strange to know i started the decade being obsessed with one direction and feeling at home while investing my time on those babies\n",
            "Sentiment(polarity=-0.275, subjectivity=0.575)\n"
          ],
          "name": "stdout"
        },
        {
          "output_type": "display_data",
          "data": {
            "text/markdown": "<span style='color:red'>Negative</span>",
            "text/plain": [
              "<IPython.core.display.Markdown object>"
            ]
          },
          "metadata": {
            "tags": []
          }
        },
        {
          "output_type": "stream",
          "text": [
            "immatrip94 Oh I know dont worry Hate dallas I live in the midwest so all I here is Bla bla dallas good and its terrible 😂\n",
            "Sentiment(polarity=-0.24090909090909093, subjectivity=0.75)\n"
          ],
          "name": "stdout"
        },
        {
          "output_type": "display_data",
          "data": {
            "text/markdown": "<span style='color:red'>Negative</span>",
            "text/plain": [
              "<IPython.core.display.Markdown object>"
            ]
          },
          "metadata": {
            "tags": []
          }
        },
        {
          "output_type": "stream",
          "text": [
            "ClactonOnSea Live Weather 0000 AM Temp 42C RH 94 Wind00mph NW Rain  00 Pressure 10313mb Falling slowly Clacton Essex\n",
            "Sentiment(polarity=-0.08181818181818185, subjectivity=0.44999999999999996)\n"
          ],
          "name": "stdout"
        },
        {
          "output_type": "display_data",
          "data": {
            "text/markdown": "<span style='color:red'>Negative</span>",
            "text/plain": [
              "<IPython.core.display.Markdown object>"
            ]
          },
          "metadata": {
            "tags": []
          }
        },
        {
          "output_type": "stream",
          "text": [
            "Got an absolutely incredible present today from Moogletart honoring Snapples who we lost in 2019 and welcoming Fizzgig Feeling very grateful for the amazing people in my life   My reaction   httpstcoSxTqYJyNmg  httpstcog67DISDYHH\n",
            "Sentiment(polarity=0.42500000000000004, subjectivity=0.525)\n"
          ],
          "name": "stdout"
        },
        {
          "output_type": "display_data",
          "data": {
            "text/markdown": "<span style='color:green'>Positive</span>",
            "text/plain": [
              "<IPython.core.display.Markdown object>"
            ]
          },
          "metadata": {
            "tags": []
          }
        },
        {
          "output_type": "stream",
          "text": [
            "Sieh dir meine Übertragung von meiner PlayStation 4 an PS4live Fortnite  live at  httpstcoHxQj5aVVNW\n",
            "Sentiment(polarity=0.13636363636363635, subjectivity=0.5)\n"
          ],
          "name": "stdout"
        },
        {
          "output_type": "display_data",
          "data": {
            "text/markdown": "<span style='color:green'>Positive</span>",
            "text/plain": [
              "<IPython.core.display.Markdown object>"
            ]
          },
          "metadata": {
            "tags": []
          }
        },
        {
          "output_type": "stream",
          "text": [
            "mydearbbh Yeahhhh live stream is real 😭\n",
            "Sentiment(polarity=0.16818181818181818, subjectivity=0.4)\n"
          ],
          "name": "stdout"
        },
        {
          "output_type": "display_data",
          "data": {
            "text/markdown": "<span style='color:green'>Positive</span>",
            "text/plain": [
              "<IPython.core.display.Markdown object>"
            ]
          },
          "metadata": {
            "tags": []
          }
        },
        {
          "output_type": "stream",
          "text": [
            "kerstynbethke I would loveeee to live in NYC\n",
            "Sentiment(polarity=0.13636363636363635, subjectivity=0.5)\n"
          ],
          "name": "stdout"
        },
        {
          "output_type": "display_data",
          "data": {
            "text/markdown": "<span style='color:green'>Positive</span>",
            "text/plain": [
              "<IPython.core.display.Markdown object>"
            ]
          },
          "metadata": {
            "tags": []
          }
        },
        {
          "output_type": "stream",
          "text": [
            "Ok you all know I don’t approve of having phones out when watching poetic cinema but TrixieDelights and I are about to watch Cats and I’m gonna have to live tweet it  If only so you know we haven’t lost our minds\n",
            "Sentiment(polarity=0.25284090909090906, subjectivity=0.6875)\n"
          ],
          "name": "stdout"
        },
        {
          "output_type": "display_data",
          "data": {
            "text/markdown": "<span style='color:green'>Positive</span>",
            "text/plain": [
              "<IPython.core.display.Markdown object>"
            ]
          },
          "metadata": {
            "tags": []
          }
        },
        {
          "output_type": "stream",
          "text": [
            "真ちゃんはLIVEではあまり泣かないって言ってたけど、オーラスでは涙拭ってたよ。  きっと、これはメッセージだったんだよね  httpstcoIfpItCnZcJ\n",
            "Sentiment(polarity=0.0, subjectivity=0.0)\n"
          ],
          "name": "stdout"
        },
        {
          "output_type": "display_data",
          "data": {
            "text/markdown": "<span style='color:grey'>No result</span>",
            "text/plain": [
              "<IPython.core.display.Markdown object>"
            ]
          },
          "metadata": {
            "tags": []
          }
        },
        {
          "output_type": "stream",
          "text": [
            "\n",
            "ohlivia What a Feeling podia ser a junção de gerações A pegada Fleetwood Mac podia chamar atenção dos mais velhos e mesmo assim nada Coloca injustiçado nisso\n",
            "Sentiment(polarity=0.0, subjectivity=0.0)\n"
          ],
          "name": "stdout"
        },
        {
          "output_type": "display_data",
          "data": {
            "text/markdown": "<span style='color:grey'>No result</span>",
            "text/plain": [
              "<IPython.core.display.Markdown object>"
            ]
          },
          "metadata": {
            "tags": []
          }
        },
        {
          "output_type": "stream",
          "text": [
            "\n",
            "If Americans middle class poor or homeless made a list of their needs and priorities for 2020 and beyond who by their consistent voting record could help them live a more hopeful and rewarding life Many already know the answer Bernie Thats what his goal has always been\n",
            "Sentiment(polarity=0.21233766233766233, subjectivity=0.4785714285714286)\n"
          ],
          "name": "stdout"
        },
        {
          "output_type": "display_data",
          "data": {
            "text/markdown": "<span style='color:green'>Positive</span>",
            "text/plain": [
              "<IPython.core.display.Markdown object>"
            ]
          },
          "metadata": {
            "tags": []
          }
        },
        {
          "output_type": "stream",
          "text": [
            "kitthendery se um dia rolar espero que passemos malchoremos juntas kkkk Aff deixa ele fazer live Depois reclamam que o idol não tem rede social e quando tem não aproveitam o fato de ele querer se aproximar e compartilhar um pouco do dia a dia dele É muito fofo da parte do Ten fazer isso\n",
            "Sentiment(polarity=0.05656565656565656, subjectivity=0.18888888888888888)\n"
          ],
          "name": "stdout"
        },
        {
          "output_type": "display_data",
          "data": {
            "text/markdown": "<span style='color:green'>Positive</span>",
            "text/plain": [
              "<IPython.core.display.Markdown object>"
            ]
          },
          "metadata": {
            "tags": []
          }
        },
        {
          "output_type": "stream",
          "text": [
            "1RealMir Im stuck in PA and live in WV help me get home please blackrose2222\n",
            "Sentiment(polarity=0.13636363636363635, subjectivity=0.5)\n"
          ],
          "name": "stdout"
        },
        {
          "output_type": "display_data",
          "data": {
            "text/markdown": "<span style='color:green'>Positive</span>",
            "text/plain": [
              "<IPython.core.display.Markdown object>"
            ]
          },
          "metadata": {
            "tags": []
          }
        },
        {
          "output_type": "stream",
          "text": [
            "I’m feeling ignorant today\n",
            "Sentiment(polarity=0.0, subjectivity=0.0)\n"
          ],
          "name": "stdout"
        },
        {
          "output_type": "display_data",
          "data": {
            "text/markdown": "<span style='color:grey'>No result</span>",
            "text/plain": [
              "<IPython.core.display.Markdown object>"
            ]
          },
          "metadata": {
            "tags": []
          }
        },
        {
          "output_type": "stream",
          "text": [
            "\n",
            "shouta0811aoi 充実した1年になったみたいで良かったですଘ੭ˊ꒳​ˋ੭✧ 私は今年だけで2回もLIVEに行けたので満足してます😍😍 来年はもっとしょーたんに会いに行きますね😘 来年も充実した1年を過ごしてください´³ ㄘゅ💕\n",
            "Sentiment(polarity=0.0, subjectivity=0.0)\n"
          ],
          "name": "stdout"
        },
        {
          "output_type": "display_data",
          "data": {
            "text/markdown": "<span style='color:grey'>No result</span>",
            "text/plain": [
              "<IPython.core.display.Markdown object>"
            ]
          },
          "metadata": {
            "tags": []
          }
        },
        {
          "output_type": "stream",
          "text": [
            "\n",
            "ColeWolfsson If you doing it properlyand know enough about those people then yes it may work like this Otherwise it will most certainly work opposite Do you think telling people they are a waste of oxygen is a good way to moralize Who are we to tell others how they should live anyway\n",
            "Sentiment(polarity=0.19294990723562153, subjectivity=0.3816326530612245)\n"
          ],
          "name": "stdout"
        },
        {
          "output_type": "display_data",
          "data": {
            "text/markdown": "<span style='color:green'>Positive</span>",
            "text/plain": [
              "<IPython.core.display.Markdown object>"
            ]
          },
          "metadata": {
            "tags": []
          }
        },
        {
          "output_type": "stream",
          "text": [
            "¡Mira la transmisión de mi PlayStation 4 PS4live Fortnite  live at  httpstcobWx1rn0jio\n",
            "Sentiment(polarity=0.13636363636363635, subjectivity=0.5)\n"
          ],
          "name": "stdout"
        },
        {
          "output_type": "display_data",
          "data": {
            "text/markdown": "<span style='color:green'>Positive</span>",
            "text/plain": [
              "<IPython.core.display.Markdown object>"
            ]
          },
          "metadata": {
            "tags": []
          }
        },
        {
          "output_type": "stream",
          "text": [
            "If youre feeling like The LORD has abandoned you please take time to honestly evaluate how much time youre spending alone w HIM in quiet undisturbed HEART to HEART PRAYER amp daily reading HIS WORD The Bible In our relationships w GOD amp JESUS  it isnt THEM who walk away\n",
            "Sentiment(polarity=0.2, subjectivity=0.35833333333333334)\n"
          ],
          "name": "stdout"
        },
        {
          "output_type": "display_data",
          "data": {
            "text/markdown": "<span style='color:green'>Positive</span>",
            "text/plain": [
              "<IPython.core.display.Markdown object>"
            ]
          },
          "metadata": {
            "tags": []
          }
        },
        {
          "output_type": "stream",
          "text": [
            "First time seeing Lexx Season 1 episode 1 so I’m gonna live tweet my reactions And if the show is as bad as the choice of font for the opening credits  then we’re in trouble\n",
            "Sentiment(polarity=-0.12840909090909086, subjectivity=0.425)\n"
          ],
          "name": "stdout"
        },
        {
          "output_type": "display_data",
          "data": {
            "text/markdown": "<span style='color:red'>Negative</span>",
            "text/plain": [
              "<IPython.core.display.Markdown object>"
            ]
          },
          "metadata": {
            "tags": []
          }
        },
        {
          "output_type": "stream",
          "text": [
            "RadDoodCoolTude stay still and consume thatll make you sick but at least youll gain weight  Here I am moving and skipping meals feeling sick but losing weight\n",
            "Sentiment(polarity=-0.5761904761904763, subjectivity=0.7047619047619048)\n"
          ],
          "name": "stdout"
        },
        {
          "output_type": "display_data",
          "data": {
            "text/markdown": "<span style='color:red'>Negative</span>",
            "text/plain": [
              "<IPython.core.display.Markdown object>"
            ]
          },
          "metadata": {
            "tags": []
          }
        },
        {
          "output_type": "stream",
          "text": [
            "Check out my broadcast from my PlayStation 4 PS4live Cuisine Royale  live at  httpstcowDDuL6Okfy\n",
            "Sentiment(polarity=0.13636363636363635, subjectivity=0.5)\n"
          ],
          "name": "stdout"
        },
        {
          "output_type": "display_data",
          "data": {
            "text/markdown": "<span style='color:green'>Positive</span>",
            "text/plain": [
              "<IPython.core.display.Markdown object>"
            ]
          },
          "metadata": {
            "tags": []
          }
        },
        {
          "output_type": "stream",
          "text": [
            "My sister asked me to stop by the drug store and pick her up some hairspray and I was like we dont even live in Baltimore  httpstcoSRz5bvgTHz\n",
            "Sentiment(polarity=0.13636363636363635, subjectivity=0.5)\n"
          ],
          "name": "stdout"
        },
        {
          "output_type": "display_data",
          "data": {
            "text/markdown": "<span style='color:green'>Positive</span>",
            "text/plain": [
              "<IPython.core.display.Markdown object>"
            ]
          },
          "metadata": {
            "tags": []
          }
        },
        {
          "output_type": "stream",
          "text": [
            "RipTidess I’m so glad he’s doing Live From Here now It just means we get more music than we otherwise would and with a larger scope of genres and musicians\n",
            "Sentiment(polarity=0.28409090909090906, subjectivity=0.625)\n"
          ],
          "name": "stdout"
        },
        {
          "output_type": "display_data",
          "data": {
            "text/markdown": "<span style='color:green'>Positive</span>",
            "text/plain": [
              "<IPython.core.display.Markdown object>"
            ]
          },
          "metadata": {
            "tags": []
          }
        },
        {
          "output_type": "stream",
          "text": [
            "Check out my broadcast from my PlayStation 4 PS4live Apex Legends  live at  httpstcoxSPlJhMIjK\n",
            "Sentiment(polarity=0.13636363636363635, subjectivity=0.5)\n"
          ],
          "name": "stdout"
        },
        {
          "output_type": "display_data",
          "data": {
            "text/markdown": "<span style='color:green'>Positive</span>",
            "text/plain": [
              "<IPython.core.display.Markdown object>"
            ]
          },
          "metadata": {
            "tags": []
          }
        },
        {
          "output_type": "stream",
          "text": [
            "As of on the last of the 2019 my goal for next year is to go to atleast one of TWICE concert And see the 1975 live Both of which I’ve been trying to go since past few years but could not go due work and school twice the1975 if you stan these two we can friends 🤙🏻\n",
            "Sentiment(polarity=-0.0731060606060606, subjectivity=0.21527777777777776)\n"
          ],
          "name": "stdout"
        },
        {
          "output_type": "display_data",
          "data": {
            "text/markdown": "<span style='color:red'>Negative</span>",
            "text/plain": [
              "<IPython.core.display.Markdown object>"
            ]
          },
          "metadata": {
            "tags": []
          }
        },
        {
          "output_type": "stream",
          "text": [
            "I’m feeling a ton better I think I’m gonna set up and stream tonight around 10pm EST Regular stream schedule will be posted soon\n",
            "Sentiment(polarity=0.25, subjectivity=0.28846153846153844)\n"
          ],
          "name": "stdout"
        },
        {
          "output_type": "display_data",
          "data": {
            "text/markdown": "<span style='color:green'>Positive</span>",
            "text/plain": [
              "<IPython.core.display.Markdown object>"
            ]
          },
          "metadata": {
            "tags": []
          }
        },
        {
          "output_type": "stream",
          "text": [
            "That’s not good 😬 holiday destination 200km from where I live 😥  httpstcoQOkMHTUcat\n",
            "Sentiment(polarity=-0.10681818181818181, subjectivity=0.55)\n"
          ],
          "name": "stdout"
        },
        {
          "output_type": "display_data",
          "data": {
            "text/markdown": "<span style='color:red'>Negative</span>",
            "text/plain": [
              "<IPython.core.display.Markdown object>"
            ]
          },
          "metadata": {
            "tags": []
          }
        },
        {
          "output_type": "stream",
          "text": [
            "I’m still live Come hang out and watch me fail miserable 🥀  Twitch in bio\n",
            "Sentiment(polarity=-0.4545454545454546, subjectivity=0.6)\n"
          ],
          "name": "stdout"
        },
        {
          "output_type": "display_data",
          "data": {
            "text/markdown": "<span style='color:red'>Negative</span>",
            "text/plain": [
              "<IPython.core.display.Markdown object>"
            ]
          },
          "metadata": {
            "tags": []
          }
        },
        {
          "output_type": "stream",
          "text": [
            "I hate feeling like this i hate feeling love I hate that its your face i wake up to I hate it that i can remember your voice your hands and warmth I just want my memories to be wiped and my heart to stop\n",
            "Sentiment(polarity=-0.54, subjectivity=0.8400000000000001)\n"
          ],
          "name": "stdout"
        },
        {
          "output_type": "display_data",
          "data": {
            "text/markdown": "<span style='color:red'>Negative</span>",
            "text/plain": [
              "<IPython.core.display.Markdown object>"
            ]
          },
          "metadata": {
            "tags": []
          }
        },
        {
          "output_type": "stream",
          "text": [
            "IndianaMike75 HarrellRyan1 Anyone public or private Black or White Yellow or Red legal or illegal African or European who doesnt love honor respect and obey the spirit of America One Christian Nation under One God Jesus doesnt deserve to live on the land of America LOVE AMERICA or leave it\n",
            "Sentiment(polarity=0.047835497835497835, subjectivity=0.23392857142857143)\n"
          ],
          "name": "stdout"
        },
        {
          "output_type": "display_data",
          "data": {
            "text/markdown": "<span style='color:green'>Positive</span>",
            "text/plain": [
              "<IPython.core.display.Markdown object>"
            ]
          },
          "metadata": {
            "tags": []
          }
        },
        {
          "output_type": "stream",
          "text": [
            "Ri01300507 りーすけさん😊 まだ会えてないですねー！ 来年こそは会えますかねー？ ぜひ会ってください！！ 来年もいっぱいLIVE行って、いっぱいLACCOにパワー貰いたいですね！ 来年もよろしくお願いします！ よいお年をー😊\n",
            "Sentiment(polarity=0.0, subjectivity=0.0)\n"
          ],
          "name": "stdout"
        },
        {
          "output_type": "display_data",
          "data": {
            "text/markdown": "<span style='color:grey'>No result</span>",
            "text/plain": [
              "<IPython.core.display.Markdown object>"
            ]
          },
          "metadata": {
            "tags": []
          }
        },
        {
          "output_type": "stream",
          "text": [
            "\n",
            "Oil painting  portrait day 3　LIVE  Déformer amp Abstract amp Expressionism  httpstcox1k1f727kp YouTubeさんから\n",
            "Sentiment(polarity=0.13636363636363635, subjectivity=0.5)\n"
          ],
          "name": "stdout"
        },
        {
          "output_type": "display_data",
          "data": {
            "text/markdown": "<span style='color:green'>Positive</span>",
            "text/plain": [
              "<IPython.core.display.Markdown object>"
            ]
          },
          "metadata": {
            "tags": []
          }
        },
        {
          "output_type": "stream",
          "text": [
            "Ang sarap sa feeling pag sinasabayan ka ng jowa mo maglaro ng ml💖\n",
            "Sentiment(polarity=0.0, subjectivity=0.0)\n"
          ],
          "name": "stdout"
        },
        {
          "output_type": "display_data",
          "data": {
            "text/markdown": "<span style='color:grey'>No result</span>",
            "text/plain": [
              "<IPython.core.display.Markdown object>"
            ]
          },
          "metadata": {
            "tags": []
          }
        },
        {
          "output_type": "stream",
          "text": [
            "\n",
            "Check out my broadcast from my PlayStation 4 PS4live Dishonored® Definitive Edition  live at  httpstcof94phWGtPg\n",
            "Sentiment(polarity=0.13636363636363635, subjectivity=0.5)\n"
          ],
          "name": "stdout"
        },
        {
          "output_type": "display_data",
          "data": {
            "text/markdown": "<span style='color:green'>Positive</span>",
            "text/plain": [
              "<IPython.core.display.Markdown object>"
            ]
          },
          "metadata": {
            "tags": []
          }
        },
        {
          "output_type": "stream",
          "text": [
            "Overwhelmed with a feeling of gratitude as I reflect on the 2019 season So ready for 2020 and the start of a new decade More growth to come  OnePride 🦁💙 📸 MikeFerdinande  Ford Field  httpstcoLfyxLea5Z0\n",
            "Sentiment(polarity=0.2787878787878788, subjectivity=0.48484848484848486)\n"
          ],
          "name": "stdout"
        },
        {
          "output_type": "display_data",
          "data": {
            "text/markdown": "<span style='color:green'>Positive</span>",
            "text/plain": [
              "<IPython.core.display.Markdown object>"
            ]
          },
          "metadata": {
            "tags": []
          }
        },
        {
          "output_type": "stream",
          "text": [
            "nahrainrawandzi Happy birthday nahrain 🎊🎊🎉 may all ur wishes become true inshallah youll live for 220 more years 😁 may u always live in happinessmay God always away from any misery amp unhappiness May u always be successful I wish ya all the best dude 🍻🌷💕\n",
            "Sentiment(polarity=0.5246753246753246, subjectivity=0.6285714285714284)\n"
          ],
          "name": "stdout"
        },
        {
          "output_type": "display_data",
          "data": {
            "text/markdown": "<span style='color:green'>Positive</span>",
            "text/plain": [
              "<IPython.core.display.Markdown object>"
            ]
          },
          "metadata": {
            "tags": []
          }
        },
        {
          "output_type": "stream",
          "text": [
            "Ugh I hate when a dude act so clingy and I’ve already told them I’m not feeling them So cringe\n",
            "Sentiment(polarity=-0.8, subjectivity=0.9)\n"
          ],
          "name": "stdout"
        },
        {
          "output_type": "display_data",
          "data": {
            "text/markdown": "<span style='color:red'>Negative</span>",
            "text/plain": [
              "<IPython.core.display.Markdown object>"
            ]
          },
          "metadata": {
            "tags": []
          }
        },
        {
          "output_type": "stream",
          "text": [
            "🔴 LIVE PODCAST BBS Radio Station 1 on Spreaker  httpstco4W5Ua8sMQR\n",
            "Sentiment(polarity=0.13636363636363635, subjectivity=0.5)\n"
          ],
          "name": "stdout"
        },
        {
          "output_type": "display_data",
          "data": {
            "text/markdown": "<span style='color:green'>Positive</span>",
            "text/plain": [
              "<IPython.core.display.Markdown object>"
            ]
          },
          "metadata": {
            "tags": []
          }
        },
        {
          "output_type": "stream",
          "text": [
            "IneloquentGirl Youre too kind Genevieve 😉😂 I need to get on it though Im going to make an Analog Amber shirt for the next GCP live\n",
            "Sentiment(polarity=0.24545454545454545, subjectivity=0.4666666666666666)\n"
          ],
          "name": "stdout"
        },
        {
          "output_type": "display_data",
          "data": {
            "text/markdown": "<span style='color:green'>Positive</span>",
            "text/plain": [
              "<IPython.core.display.Markdown object>"
            ]
          },
          "metadata": {
            "tags": []
          }
        },
        {
          "output_type": "stream",
          "text": [
            "I have a good feeling of whats in store for my future\n",
            "Sentiment(polarity=0.35, subjectivity=0.36250000000000004)\n"
          ],
          "name": "stdout"
        },
        {
          "output_type": "display_data",
          "data": {
            "text/markdown": "<span style='color:green'>Positive</span>",
            "text/plain": [
              "<IPython.core.display.Markdown object>"
            ]
          },
          "metadata": {
            "tags": []
          }
        },
        {
          "output_type": "stream",
          "text": [
            "jayrashad83 CoachRick57 PhenomHoops You not the only one Cuz I got a walking Tool Box Proven winner Champ MVP but people prefer gas amp dunks From da live streams to da “reporters” We gonna make it out tho Can’t stop Destiny FamilyTies We leaving that quiet mess in 2019 Upp’n it from here on out OnMe 💯\n",
            "Sentiment(polarity=-0.009659090909090909, subjectivity=0.5020833333333333)\n"
          ],
          "name": "stdout"
        },
        {
          "output_type": "display_data",
          "data": {
            "text/markdown": "<span style='color:red'>Negative</span>",
            "text/plain": [
              "<IPython.core.display.Markdown object>"
            ]
          },
          "metadata": {
            "tags": []
          }
        },
        {
          "output_type": "stream",
          "text": [
            "Check out my broadcast from my PlayStation 4 PS4live Fortnite  live at  httpstcoI7eesDc3Lg\n",
            "Sentiment(polarity=0.13636363636363635, subjectivity=0.5)\n"
          ],
          "name": "stdout"
        },
        {
          "output_type": "display_data",
          "data": {
            "text/markdown": "<span style='color:green'>Positive</span>",
            "text/plain": [
              "<IPython.core.display.Markdown object>"
            ]
          },
          "metadata": {
            "tags": []
          }
        },
        {
          "output_type": "stream",
          "text": [
            "deckerfreeman realDonaldTrump MickMulvaneyOMB AmbJohnBolton WHY WOULD U SAY “CHOKE ON THAT” That statement u made is a PERFECT example of US citizens U amp me BOTH having a civil conversation While U R sitting in church next time remember that wish I have stage 4 cancer amp wasn’t supposed to live this long UR keeping the US divided\n",
            "Sentiment(polarity=0.27159090909090905, subjectivity=0.475)\n"
          ],
          "name": "stdout"
        },
        {
          "output_type": "display_data",
          "data": {
            "text/markdown": "<span style='color:green'>Positive</span>",
            "text/plain": [
              "<IPython.core.display.Markdown object>"
            ]
          },
          "metadata": {
            "tags": []
          }
        },
        {
          "output_type": "stream",
          "text": [
            "Come and see Hu〽️BLeLeel🌚🦉s LIVE in BIGOLIVE    httpstcoFj9QbLgtb3  httpstcoRjto5YZoFy\n",
            "Sentiment(polarity=0.13636363636363635, subjectivity=0.5)\n"
          ],
          "name": "stdout"
        },
        {
          "output_type": "display_data",
          "data": {
            "text/markdown": "<span style='color:green'>Positive</span>",
            "text/plain": [
              "<IPython.core.display.Markdown object>"
            ]
          },
          "metadata": {
            "tags": []
          }
        },
        {
          "output_type": "stream",
          "text": [
            "Im not feeling anything lately Nothing sounds fun or worthwhile\n",
            "Sentiment(polarity=0.16666666666666666, subjectivity=0.43333333333333335)\n"
          ],
          "name": "stdout"
        },
        {
          "output_type": "display_data",
          "data": {
            "text/markdown": "<span style='color:green'>Positive</span>",
            "text/plain": [
              "<IPython.core.display.Markdown object>"
            ]
          },
          "metadata": {
            "tags": []
          }
        },
        {
          "output_type": "stream",
          "text": [
            "After the holidays we all need some time to relax and be able head into the New Year feeling recharged ⁣ ⁣ Our Suites and Specialty Rooms are just the place to do so ⁣  ⁣Book your suite escape here👉  httpstcop8ijJTNyXI  📷 samhorine ⁣ fairmonthotels suitelife  httpstcoIiCvbeWDMG\n",
            "Sentiment(polarity=0.3181818181818182, subjectivity=0.5397727272727273)\n"
          ],
          "name": "stdout"
        },
        {
          "output_type": "display_data",
          "data": {
            "text/markdown": "<span style='color:green'>Positive</span>",
            "text/plain": [
              "<IPython.core.display.Markdown object>"
            ]
          },
          "metadata": {
            "tags": []
          }
        },
        {
          "output_type": "stream",
          "text": [
            "angelgirl1077 If you live in a society you have to abide by societys rules\n",
            "Sentiment(polarity=0.13636363636363635, subjectivity=0.5)\n"
          ],
          "name": "stdout"
        },
        {
          "output_type": "display_data",
          "data": {
            "text/markdown": "<span style='color:green'>Positive</span>",
            "text/plain": [
              "<IPython.core.display.Markdown object>"
            ]
          },
          "metadata": {
            "tags": []
          }
        },
        {
          "output_type": "stream",
          "text": [
            "MissouriState now offers all of our graduate educational leadership classes using Zoom streaming technology  Take classes live from home Check out Prepare For School Leadership Now  httpstcobFRhh9TJ7p\n",
            "Sentiment(polarity=0.1621212121212121, subjectivity=0.25)\n"
          ],
          "name": "stdout"
        },
        {
          "output_type": "display_data",
          "data": {
            "text/markdown": "<span style='color:green'>Positive</span>",
            "text/plain": [
              "<IPython.core.display.Markdown object>"
            ]
          },
          "metadata": {
            "tags": []
          }
        },
        {
          "output_type": "stream",
          "text": [
            "perguntaram pro ten pq você está fazendo uma live se você não pergunta nada depois o ten falou eu só queria encontrar todos vocês e encerrou a live mano o ten é uma pessoa tão incrível como vocês falam isso pra ele ele se importa tanto com a gente  httpstco2XlnhUl4L2\n",
            "Sentiment(polarity=0.05454545454545454, subjectivity=0.2)\n"
          ],
          "name": "stdout"
        },
        {
          "output_type": "display_data",
          "data": {
            "text/markdown": "<span style='color:green'>Positive</span>",
            "text/plain": [
              "<IPython.core.display.Markdown object>"
            ]
          },
          "metadata": {
            "tags": []
          }
        },
        {
          "output_type": "stream",
          "text": [
            "Check out my broadcast from my PlayStation 4 PS4live The Last of Us™ Remastered  live at  httpstcoeqs5H53yta\n",
            "Sentiment(polarity=0.06818181818181818, subjectivity=0.2833333333333333)\n"
          ],
          "name": "stdout"
        },
        {
          "output_type": "display_data",
          "data": {
            "text/markdown": "<span style='color:green'>Positive</span>",
            "text/plain": [
              "<IPython.core.display.Markdown object>"
            ]
          },
          "metadata": {
            "tags": []
          }
        },
        {
          "output_type": "stream",
          "text": [
            "Now Playing On Carpe Diem Live Radio YNG Kizzy ft Kells amp Qween Kharma  Ride seedamoment  musicizworldwide\n",
            "Sentiment(polarity=0.13636363636363635, subjectivity=0.5)\n"
          ],
          "name": "stdout"
        },
        {
          "output_type": "display_data",
          "data": {
            "text/markdown": "<span style='color:green'>Positive</span>",
            "text/plain": [
              "<IPython.core.display.Markdown object>"
            ]
          },
          "metadata": {
            "tags": []
          }
        },
        {
          "output_type": "stream",
          "text": [
            "Live broadcasting community  httpstcoMMW2DFWDg9  httpstcoNoegWNYGTv\n",
            "Sentiment(polarity=0.13636363636363635, subjectivity=0.5)\n"
          ],
          "name": "stdout"
        },
        {
          "output_type": "display_data",
          "data": {
            "text/markdown": "<span style='color:green'>Positive</span>",
            "text/plain": [
              "<IPython.core.display.Markdown object>"
            ]
          },
          "metadata": {
            "tags": []
          }
        },
        {
          "output_type": "stream",
          "text": [
            "YuaXIII lol i remember that from Inuyasha and Ookami im feeling VERY old now\n",
            "Sentiment(polarity=0.465, subjectivity=0.48)\n"
          ],
          "name": "stdout"
        },
        {
          "output_type": "display_data",
          "data": {
            "text/markdown": "<span style='color:green'>Positive</span>",
            "text/plain": [
              "<IPython.core.display.Markdown object>"
            ]
          },
          "metadata": {
            "tags": []
          }
        },
        {
          "output_type": "stream",
          "text": [
            "Feeling left out because everyone in my new town has all these traditional family names and nobody even tries to pronounce my cursed unspeakable name bestowed upon me by a powerful witch\n",
            "Sentiment(polarity=0.06727272727272726, subjectivity=0.5209090909090909)\n"
          ],
          "name": "stdout"
        },
        {
          "output_type": "display_data",
          "data": {
            "text/markdown": "<span style='color:green'>Positive</span>",
            "text/plain": [
              "<IPython.core.display.Markdown object>"
            ]
          },
          "metadata": {
            "tags": []
          }
        },
        {
          "output_type": "stream",
          "text": [
            "『大晦日に自由人の歌と雑談🍱』 Layla♬⋆さんのMixChannel LIVEに参加しよう！ ミクチャ  httpstcomtIdNLgAyA\n",
            "Sentiment(polarity=0.0, subjectivity=0.0)\n"
          ],
          "name": "stdout"
        },
        {
          "output_type": "display_data",
          "data": {
            "text/markdown": "<span style='color:grey'>No result</span>",
            "text/plain": [
              "<IPython.core.display.Markdown object>"
            ]
          },
          "metadata": {
            "tags": []
          }
        },
        {
          "output_type": "stream",
          "text": [
            "\n",
            "Outside Its getting big on the North Shore of Oahu Hawaii as XL swell fills in  get the latest on the surf watch Pipeline live and more in the SwellAlert  httpstcoJfYMNrM41E  httpstcooXLkNsg1Yi\n",
            "Sentiment(polarity=0.22727272727272724, subjectivity=0.41)\n"
          ],
          "name": "stdout"
        },
        {
          "output_type": "display_data",
          "data": {
            "text/markdown": "<span style='color:green'>Positive</span>",
            "text/plain": [
              "<IPython.core.display.Markdown object>"
            ]
          },
          "metadata": {
            "tags": []
          }
        },
        {
          "output_type": "stream",
          "text": [
            "Siracusa maltempo live protezionecivile  httpstcoFWhdJegRSA\n",
            "Sentiment(polarity=0.13636363636363635, subjectivity=0.5)\n"
          ],
          "name": "stdout"
        },
        {
          "output_type": "display_data",
          "data": {
            "text/markdown": "<span style='color:green'>Positive</span>",
            "text/plain": [
              "<IPython.core.display.Markdown object>"
            ]
          },
          "metadata": {
            "tags": []
          }
        },
        {
          "output_type": "stream",
          "text": [
            "okitanoniisan i was vagetweeting all of you  Cant believe you had the audacity of answering heh thank you i really appreciate 🥺🥺🥺💕 i was feeling a bit down about my art lately but seeing yall say such nice things about it unprompted made me go 😳😳❣\n",
            "Sentiment(polarity=0.06888888888888889, subjectivity=0.5177777777777778)\n"
          ],
          "name": "stdout"
        },
        {
          "output_type": "display_data",
          "data": {
            "text/markdown": "<span style='color:green'>Positive</span>",
            "text/plain": [
              "<IPython.core.display.Markdown object>"
            ]
          },
          "metadata": {
            "tags": []
          }
        },
        {
          "output_type": "stream",
          "text": [
            "We are live Join us for coverage of todays top stories Watch here  httpstcoP7a6WQPW0q  httpstcoMEFX0pGpqm\n",
            "Sentiment(polarity=0.3181818181818182, subjectivity=0.5)\n"
          ],
          "name": "stdout"
        },
        {
          "output_type": "display_data",
          "data": {
            "text/markdown": "<span style='color:green'>Positive</span>",
            "text/plain": [
              "<IPython.core.display.Markdown object>"
            ]
          },
          "metadata": {
            "tags": []
          }
        },
        {
          "output_type": "stream",
          "text": [
            "If you want to tell me anything before 2020 do it before 145 PM tomorrow FSU plays at 2 and I have a feeling theyre going to let me down one more time this decade\n",
            "Sentiment(polarity=0.17222222222222222, subjectivity=0.3944444444444445)\n"
          ],
          "name": "stdout"
        },
        {
          "output_type": "display_data",
          "data": {
            "text/markdown": "<span style='color:green'>Positive</span>",
            "text/plain": [
              "<IPython.core.display.Markdown object>"
            ]
          },
          "metadata": {
            "tags": []
          }
        },
        {
          "output_type": "stream",
          "text": [
            "何泊すんねんお前って荷物で東京向かいます、これあゆバック持ってるけど1泊2日です🤗 LIVEってなんでこんな荷物多くなるんかね？？私だけかね？？笑 新幹線で寝て髪も顔もしっかり作って16時頃会場に着く目安で💪 楽しみすぎる〜  httpstco5DXpnBG5u9\n",
            "Sentiment(polarity=0.0, subjectivity=0.0)\n"
          ],
          "name": "stdout"
        },
        {
          "output_type": "display_data",
          "data": {
            "text/markdown": "<span style='color:grey'>No result</span>",
            "text/plain": [
              "<IPython.core.display.Markdown object>"
            ]
          },
          "metadata": {
            "tags": []
          }
        },
        {
          "output_type": "stream",
          "text": [
            "\n",
            "quiero escuchar el live in buenos aires pero voy a llorar y no quiero\n",
            "Sentiment(polarity=0.13636363636363635, subjectivity=0.5)\n"
          ],
          "name": "stdout"
        },
        {
          "output_type": "display_data",
          "data": {
            "text/markdown": "<span style='color:green'>Positive</span>",
            "text/plain": [
              "<IPython.core.display.Markdown object>"
            ]
          },
          "metadata": {
            "tags": []
          }
        },
        {
          "output_type": "stream",
          "text": [
            "Coming up on KSTP  we’re live from Tampa with a massive group of Gophers fans who are making the most of OutbackBowl week  You’ll feel warmer just by watching  httpstcoE7dfjdSG4N\n",
            "Sentiment(polarity=0.21212121212121213, subjectivity=0.6666666666666666)\n"
          ],
          "name": "stdout"
        },
        {
          "output_type": "display_data",
          "data": {
            "text/markdown": "<span style='color:green'>Positive</span>",
            "text/plain": [
              "<IPython.core.display.Markdown object>"
            ]
          },
          "metadata": {
            "tags": []
          }
        },
        {
          "output_type": "stream",
          "text": [
            "They end up becoming close friends despite their differences Werewolves dont live forever though but Leonard stays in contact with and helps Simons grandchildren wherever he can 🥺\n",
            "Sentiment(polarity=0.2931818181818182, subjectivity=0.675)\n"
          ],
          "name": "stdout"
        },
        {
          "output_type": "display_data",
          "data": {
            "text/markdown": "<span style='color:green'>Positive</span>",
            "text/plain": [
              "<IPython.core.display.Markdown object>"
            ]
          },
          "metadata": {
            "tags": []
          }
        },
        {
          "output_type": "stream",
          "text": [
            "Don’t put yo feeling in nothing u can’t control Get a bankroll amp keep it goin fuck that other shit\n",
            "Sentiment(polarity=-0.2416666666666667, subjectivity=0.5916666666666667)\n"
          ],
          "name": "stdout"
        },
        {
          "output_type": "display_data",
          "data": {
            "text/markdown": "<span style='color:red'>Negative</span>",
            "text/plain": [
              "<IPython.core.display.Markdown object>"
            ]
          },
          "metadata": {
            "tags": []
          }
        },
        {
          "output_type": "stream",
          "text": [
            "Ese feeling cuando piensas en alguien y al minuto te manda mensaje 👌\n",
            "Sentiment(polarity=0.0, subjectivity=0.0)\n"
          ],
          "name": "stdout"
        },
        {
          "output_type": "display_data",
          "data": {
            "text/markdown": "<span style='color:grey'>No result</span>",
            "text/plain": [
              "<IPython.core.display.Markdown object>"
            ]
          },
          "metadata": {
            "tags": []
          }
        },
        {
          "output_type": "stream",
          "text": [
            "\n",
            "NudaleKawonu 🥺 shipping is hella expensive and I live with 7 others\n",
            "Sentiment(polarity=-0.18181818181818182, subjectivity=0.6)\n"
          ],
          "name": "stdout"
        },
        {
          "output_type": "display_data",
          "data": {
            "text/markdown": "<span style='color:red'>Negative</span>",
            "text/plain": [
              "<IPython.core.display.Markdown object>"
            ]
          },
          "metadata": {
            "tags": []
          }
        },
        {
          "output_type": "stream",
          "text": [
            "If people were to live a day in my life prehaps i might be better understood\n",
            "Sentiment(polarity=0.3181818181818182, subjectivity=0.5)\n"
          ],
          "name": "stdout"
        },
        {
          "output_type": "display_data",
          "data": {
            "text/markdown": "<span style='color:green'>Positive</span>",
            "text/plain": [
              "<IPython.core.display.Markdown object>"
            ]
          },
          "metadata": {
            "tags": []
          }
        },
        {
          "output_type": "stream",
          "text": [
            "Hey all Going live right now on ApexLegends  We will be trying to climb up the ranked ladder Come check it out  httpstcoJRVOQYOGKS\n",
            "Sentiment(polarity=0.21103896103896103, subjectivity=0.5178571428571428)\n"
          ],
          "name": "stdout"
        },
        {
          "output_type": "display_data",
          "data": {
            "text/markdown": "<span style='color:green'>Positive</span>",
            "text/plain": [
              "<IPython.core.display.Markdown object>"
            ]
          },
          "metadata": {
            "tags": []
          }
        },
        {
          "output_type": "stream",
          "text": [
            "Live broadcasting community  httpstcokqF1f8k0O2  httpstcok51smTA37B\n",
            "Sentiment(polarity=0.13636363636363635, subjectivity=0.5)\n"
          ],
          "name": "stdout"
        },
        {
          "output_type": "display_data",
          "data": {
            "text/markdown": "<span style='color:green'>Positive</span>",
            "text/plain": [
              "<IPython.core.display.Markdown object>"
            ]
          },
          "metadata": {
            "tags": []
          }
        },
        {
          "output_type": "stream",
          "text": [
            "Check out my broadcast from my PlayStation 4 PS4live Call of Duty® Modern Warfare®  live at  httpstcoE91i1GO25p\n",
            "Sentiment(polarity=0.16818181818181818, subjectivity=0.4)\n"
          ],
          "name": "stdout"
        },
        {
          "output_type": "display_data",
          "data": {
            "text/markdown": "<span style='color:green'>Positive</span>",
            "text/plain": [
              "<IPython.core.display.Markdown object>"
            ]
          },
          "metadata": {
            "tags": []
          }
        },
        {
          "output_type": "stream",
          "text": [
            "ayumi0512live 検索より失礼します。 良ければ教えて欲しいです。\n",
            "Sentiment(polarity=0.0, subjectivity=0.0)\n"
          ],
          "name": "stdout"
        },
        {
          "output_type": "display_data",
          "data": {
            "text/markdown": "<span style='color:grey'>No result</span>",
            "text/plain": [
              "<IPython.core.display.Markdown object>"
            ]
          },
          "metadata": {
            "tags": []
          }
        },
        {
          "output_type": "stream",
          "text": [
            "\n",
            "kryptoklepto Debicas50 cryptosthanos I wanted solar panels so I can make use of the sun in powering the nearby village close to where I live\n",
            "Sentiment(polarity=0.13636363636363635, subjectivity=0.5)\n"
          ],
          "name": "stdout"
        },
        {
          "output_type": "display_data",
          "data": {
            "text/markdown": "<span style='color:green'>Positive</span>",
            "text/plain": [
              "<IPython.core.display.Markdown object>"
            ]
          },
          "metadata": {
            "tags": []
          }
        },
        {
          "output_type": "stream",
          "text": [
            "kurtfearnley I have torn feeling towards the fireworks display in Sydney Of course we could all complain about the money thats spent to put on the show but Also we shouldnt surrender  feeling positive that money will be raised for Aid in Sydneys biggest money spinner\n",
            "Sentiment(polarity=0.06363636363636363, subjectivity=0.3227272727272727)\n"
          ],
          "name": "stdout"
        },
        {
          "output_type": "display_data",
          "data": {
            "text/markdown": "<span style='color:green'>Positive</span>",
            "text/plain": [
              "<IPython.core.display.Markdown object>"
            ]
          },
          "metadata": {
            "tags": []
          }
        },
        {
          "output_type": "stream",
          "text": [
            "2 In Tallinn LittleZeus gave marzipan another shot and concluded that the next time shes not feeling well shell simply follow historical precedent and devour a dose or two bondandthomas  httpstcoTzjwOdxGze\n",
            "Sentiment(polarity=0.0, subjectivity=0.11904761904761905)\n"
          ],
          "name": "stdout"
        },
        {
          "output_type": "display_data",
          "data": {
            "text/markdown": "<span style='color:grey'>No result</span>",
            "text/plain": [
              "<IPython.core.display.Markdown object>"
            ]
          },
          "metadata": {
            "tags": []
          }
        },
        {
          "output_type": "stream",
          "text": [
            "\n",
            "urgaakR6 envoi le live \n",
            "Sentiment(polarity=0.13636363636363635, subjectivity=0.5)\n"
          ],
          "name": "stdout"
        },
        {
          "output_type": "display_data",
          "data": {
            "text/markdown": "<span style='color:green'>Positive</span>",
            "text/plain": [
              "<IPython.core.display.Markdown object>"
            ]
          },
          "metadata": {
            "tags": []
          }
        },
        {
          "output_type": "stream",
          "text": [
            "¡Echa un vistazo a mi transmisión desde mi PlayStation 4 PS4live Fortnite  live at  httpstco66kMb5NwX3\n",
            "Sentiment(polarity=0.13636363636363635, subjectivity=0.5)\n"
          ],
          "name": "stdout"
        },
        {
          "output_type": "display_data",
          "data": {
            "text/markdown": "<span style='color:green'>Positive</span>",
            "text/plain": [
              "<IPython.core.display.Markdown object>"
            ]
          },
          "metadata": {
            "tags": []
          }
        },
        {
          "output_type": "stream",
          "text": [
            "Just because I live in Arizona let be known we have temps in zero range cold weather and snow\n",
            "Sentiment(polarity=-0.2318181818181818, subjectivity=0.75)\n"
          ],
          "name": "stdout"
        },
        {
          "output_type": "display_data",
          "data": {
            "text/markdown": "<span style='color:red'>Negative</span>",
            "text/plain": [
              "<IPython.core.display.Markdown object>"
            ]
          },
          "metadata": {
            "tags": []
          }
        },
        {
          "output_type": "stream",
          "text": [
            "kinsellawarren Mmm Not only the gravely ill People who feel overwhelmed with lifes circumstances just want to get thru the holidays Be kind to each other and reach out for help if feeling overwhelmed\n",
            "Sentiment(polarity=-0.0062500000000000056, subjectivity=0.81875)\n"
          ],
          "name": "stdout"
        },
        {
          "output_type": "display_data",
          "data": {
            "text/markdown": "<span style='color:red'>Negative</span>",
            "text/plain": [
              "<IPython.core.display.Markdown object>"
            ]
          },
          "metadata": {
            "tags": []
          }
        },
        {
          "output_type": "stream",
          "text": [
            "Sometimes I’ve been feeling anxious that my heart feels like it’s about to pop out my chest My body starts shaking and I have no control over my own mindset\n",
            "Sentiment(polarity=0.175, subjectivity=1.0)\n"
          ],
          "name": "stdout"
        },
        {
          "output_type": "display_data",
          "data": {
            "text/markdown": "<span style='color:green'>Positive</span>",
            "text/plain": [
              "<IPython.core.display.Markdown object>"
            ]
          },
          "metadata": {
            "tags": []
          }
        },
        {
          "output_type": "stream",
          "text": [
            "Just went live Come hang out and have fun with me  httpstco2HFFKeveZi\n",
            "Sentiment(polarity=0.21818181818181817, subjectivity=0.35)\n"
          ],
          "name": "stdout"
        },
        {
          "output_type": "display_data",
          "data": {
            "text/markdown": "<span style='color:green'>Positive</span>",
            "text/plain": [
              "<IPython.core.display.Markdown object>"
            ]
          },
          "metadata": {
            "tags": []
          }
        },
        {
          "output_type": "stream",
          "text": [
            "naomassmass ありがとう💛  こちらこそ🥰仲良くしてくれてありがとう〜🙌🏻💜なおちゃんと沢山お話出来て💗LIVEにもご一緒できて本当に素敵な1年だった〜また来年もよろしくお願いします💚 まっすーに早く会いたいね🥺💛\n",
            "Sentiment(polarity=0.0, subjectivity=0.0)\n"
          ],
          "name": "stdout"
        },
        {
          "output_type": "display_data",
          "data": {
            "text/markdown": "<span style='color:grey'>No result</span>",
            "text/plain": [
              "<IPython.core.display.Markdown object>"
            ]
          },
          "metadata": {
            "tags": []
          }
        },
        {
          "output_type": "stream",
          "text": [
            "\n",
            "McKenna Dale knocks down the triple Bears have hit 1021 3PT 476  End 3Q  USF 51 Brown 47  Watch Live  httpstcoBnyC9yaedX  GoBruno IvyHoops  httpstcoihLhxsc280\n",
            "Sentiment(polarity=-0.009595959595959616, subjectivity=0.3944444444444445)\n"
          ],
          "name": "stdout"
        },
        {
          "output_type": "display_data",
          "data": {
            "text/markdown": "<span style='color:red'>Negative</span>",
            "text/plain": [
              "<IPython.core.display.Markdown object>"
            ]
          },
          "metadata": {
            "tags": []
          }
        },
        {
          "output_type": "stream",
          "text": [
            "and Im a shadow of a ghost Its feeling as if somebody has taken host babe I dont wanna make a scene but I get selfdestructive and its driving you away Its driving you away piece by piece nemesisvajseli\n",
            "Sentiment(polarity=0.0, subjectivity=0.0)\n"
          ],
          "name": "stdout"
        },
        {
          "output_type": "display_data",
          "data": {
            "text/markdown": "<span style='color:grey'>No result</span>",
            "text/plain": [
              "<IPython.core.display.Markdown object>"
            ]
          },
          "metadata": {
            "tags": []
          }
        },
        {
          "output_type": "stream",
          "text": [
            "\n",
            "juralive ワールドフリッパーおすすめです\n",
            "Sentiment(polarity=0.0, subjectivity=0.0)\n"
          ],
          "name": "stdout"
        },
        {
          "output_type": "display_data",
          "data": {
            "text/markdown": "<span style='color:grey'>No result</span>",
            "text/plain": [
              "<IPython.core.display.Markdown object>"
            ]
          },
          "metadata": {
            "tags": []
          }
        },
        {
          "output_type": "stream",
          "text": [
            "\n",
            "Important note from being here live she rules\n",
            "Sentiment(polarity=0.2681818181818182, subjectivity=0.75)\n"
          ],
          "name": "stdout"
        },
        {
          "output_type": "display_data",
          "data": {
            "text/markdown": "<span style='color:green'>Positive</span>",
            "text/plain": [
              "<IPython.core.display.Markdown object>"
            ]
          },
          "metadata": {
            "tags": []
          }
        },
        {
          "output_type": "stream",
          "text": [
            "‼️Korea Storytime‼️  my old science teacher used to teach and live in korea he didn’t know korean very fluently so one time he was taking a taxi and he used extremely informal language and he had no idea and the taxi driver slap the absolute shit outta him   should do more\n",
            "Sentiment(polarity=0.11590909090909093, subjectivity=0.6)\n"
          ],
          "name": "stdout"
        },
        {
          "output_type": "display_data",
          "data": {
            "text/markdown": "<span style='color:green'>Positive</span>",
            "text/plain": [
              "<IPython.core.display.Markdown object>"
            ]
          },
          "metadata": {
            "tags": []
          }
        },
        {
          "output_type": "stream",
          "text": [
            "Attempted ice skating at the Rockerfella rink and avoided breaking my ankles Still feeling sore though  httpstcoxl7ZLKHHNJ\n",
            "Sentiment(polarity=0.0, subjectivity=0.0)\n"
          ],
          "name": "stdout"
        },
        {
          "output_type": "display_data",
          "data": {
            "text/markdown": "<span style='color:grey'>No result</span>",
            "text/plain": [
              "<IPython.core.display.Markdown object>"
            ]
          },
          "metadata": {
            "tags": []
          }
        },
        {
          "output_type": "stream",
          "text": [
            "\n",
            "hailpeezy me announcing my reason to live 😂\n",
            "Sentiment(polarity=0.13636363636363635, subjectivity=0.5)\n"
          ],
          "name": "stdout"
        },
        {
          "output_type": "display_data",
          "data": {
            "text/markdown": "<span style='color:green'>Positive</span>",
            "text/plain": [
              "<IPython.core.display.Markdown object>"
            ]
          },
          "metadata": {
            "tags": []
          }
        },
        {
          "output_type": "stream",
          "text": [
            "randyportillo60 Stop feeling sorry for yourself already let’s get money\n",
            "Sentiment(polarity=-0.5, subjectivity=1.0)\n"
          ],
          "name": "stdout"
        },
        {
          "output_type": "display_data",
          "data": {
            "text/markdown": "<span style='color:red'>Negative</span>",
            "text/plain": [
              "<IPython.core.display.Markdown object>"
            ]
          },
          "metadata": {
            "tags": []
          }
        },
        {
          "output_type": "stream",
          "text": [
            "my mom is on the phone with his mom and shes super aware of how fucked up he is in the head and apparently theres even more to it that i had no fucking clue about  oh god the shit i overheard them talking about has me FEELING ACTUAL DREAD\n",
            "Sentiment(polarity=0.07916666666666666, subjectivity=0.5208333333333333)\n"
          ],
          "name": "stdout"
        },
        {
          "output_type": "display_data",
          "data": {
            "text/markdown": "<span style='color:green'>Positive</span>",
            "text/plain": [
              "<IPython.core.display.Markdown object>"
            ]
          },
          "metadata": {
            "tags": []
          }
        },
        {
          "output_type": "stream",
          "text": [
            "If you live in northern Michigan you will need to know this tonight  httpstcoQRTlXrJI0e\n",
            "Sentiment(polarity=0.13636363636363635, subjectivity=0.5)\n"
          ],
          "name": "stdout"
        },
        {
          "output_type": "display_data",
          "data": {
            "text/markdown": "<span style='color:green'>Positive</span>",
            "text/plain": [
              "<IPython.core.display.Markdown object>"
            ]
          },
          "metadata": {
            "tags": []
          }
        },
        {
          "output_type": "stream",
          "text": [
            "arttavana Bro why don’t you go back to making a difference in the world like live tweeting your acid trips That was revolutionary and will surely change the world in a positive way\n",
            "Sentiment(polarity=0.2159090909090909, subjectivity=0.48358585858585856)\n"
          ],
          "name": "stdout"
        },
        {
          "output_type": "display_data",
          "data": {
            "text/markdown": "<span style='color:green'>Positive</span>",
            "text/plain": [
              "<IPython.core.display.Markdown object>"
            ]
          },
          "metadata": {
            "tags": []
          }
        },
        {
          "output_type": "stream",
          "text": [
            "dazzo716 I dont think that gentleman could live without his Cable tv flip phone or microwave so I call bullshit\n",
            "Sentiment(polarity=0.13636363636363635, subjectivity=0.5)\n"
          ],
          "name": "stdout"
        },
        {
          "output_type": "display_data",
          "data": {
            "text/markdown": "<span style='color:green'>Positive</span>",
            "text/plain": [
              "<IPython.core.display.Markdown object>"
            ]
          },
          "metadata": {
            "tags": []
          }
        },
        {
          "output_type": "stream",
          "text": [
            "Eagles  Peaceful easy feeling  httpstco7FWr0U1IY5 via YouTube\n",
            "Sentiment(polarity=0.3416666666666667, subjectivity=0.6666666666666667)\n"
          ],
          "name": "stdout"
        },
        {
          "output_type": "display_data",
          "data": {
            "text/markdown": "<span style='color:green'>Positive</span>",
            "text/plain": [
              "<IPython.core.display.Markdown object>"
            ]
          },
          "metadata": {
            "tags": []
          }
        },
        {
          "output_type": "stream",
          "text": [
            "Check out my broadcast from my PlayStation 4 PS4live Fortnite  live at  httpstcolssOYrfqTO\n",
            "Sentiment(polarity=0.13636363636363635, subjectivity=0.5)\n"
          ],
          "name": "stdout"
        },
        {
          "output_type": "display_data",
          "data": {
            "text/markdown": "<span style='color:green'>Positive</span>",
            "text/plain": [
              "<IPython.core.display.Markdown object>"
            ]
          },
          "metadata": {
            "tags": []
          }
        },
        {
          "output_type": "stream",
          "text": [
            "Live w yamsbot BeachHead bouta hit pred soon so come thru Live till sun rise 👀⛅️   httpstcoq4CnNbdPzy  httpstcoIhYCkfscP2\n",
            "Sentiment(polarity=0.13636363636363635, subjectivity=0.5)\n"
          ],
          "name": "stdout"
        },
        {
          "output_type": "display_data",
          "data": {
            "text/markdown": "<span style='color:green'>Positive</span>",
            "text/plain": [
              "<IPython.core.display.Markdown object>"
            ]
          },
          "metadata": {
            "tags": []
          }
        },
        {
          "output_type": "stream",
          "text": [
            "TanyaAGT Funnily enough I had a drop of tea tree in too Thyme is meant to be good for strep A though I’m currently in too much pain to talk or swallow even after 4 each of nurofen and panadol so am drooling into tissues and praying I wake up feeling better 😆\n",
            "Sentiment(polarity=0.27999999999999997, subjectivity=0.44000000000000006)\n"
          ],
          "name": "stdout"
        },
        {
          "output_type": "display_data",
          "data": {
            "text/markdown": "<span style='color:green'>Positive</span>",
            "text/plain": [
              "<IPython.core.display.Markdown object>"
            ]
          },
          "metadata": {
            "tags": []
          }
        },
        {
          "output_type": "stream",
          "text": [
            "PlayStation 4からブロードキャストを始めました！ PS4live BIOHAZARD RE2 Z Version  live at  httpstcoLBKuFrfPqn\n",
            "Sentiment(polarity=0.13636363636363635, subjectivity=0.5)\n"
          ],
          "name": "stdout"
        },
        {
          "output_type": "display_data",
          "data": {
            "text/markdown": "<span style='color:green'>Positive</span>",
            "text/plain": [
              "<IPython.core.display.Markdown object>"
            ]
          },
          "metadata": {
            "tags": []
          }
        },
        {
          "output_type": "stream",
          "text": [
            "melanylolee Posta simmmmm vc cantando na live foi incrível não tenha vergonha do seu talento que é maravilhoso♥️\n",
            "Sentiment(polarity=0.13636363636363635, subjectivity=0.5)\n"
          ],
          "name": "stdout"
        },
        {
          "output_type": "display_data",
          "data": {
            "text/markdown": "<span style='color:green'>Positive</span>",
            "text/plain": [
              "<IPython.core.display.Markdown object>"
            ]
          },
          "metadata": {
            "tags": []
          }
        }
      ]
    },
    {
      "cell_type": "code",
      "metadata": {
        "id": "3iayMzYUxDh1"
      },
      "source": [
        ""
      ],
      "execution_count": null,
      "outputs": []
    },
    {
      "cell_type": "code",
      "metadata": {
        "id": "iqPvE3-WyO2V"
      },
      "source": [
        "lst = []\n",
        "for tweet in tweets2:\n",
        "    analysis = TextBlob(tweet)\n",
        "    if analysis.sentiment[0]>0:\n",
        "        lst.append(1)\n",
        "    elif analysis.sentiment[0]<0:\n",
        "        lst.append(-1)\n",
        "    else:\n",
        "        lst.append(0)"
      ],
      "execution_count": 84,
      "outputs": []
    },
    {
      "cell_type": "code",
      "metadata": {
        "colab": {
          "base_uri": "https://localhost:8080/"
        },
        "id": "Faf6QZm7zX3f",
        "outputId": "54b86a70-1ba4-422c-9a5b-e9bbeadd827f"
      },
      "source": [
        "lst[:5]"
      ],
      "execution_count": 85,
      "outputs": [
        {
          "output_type": "execute_result",
          "data": {
            "text/plain": [
              "[-1, -1, -1, 1, 1]"
            ]
          },
          "metadata": {
            "tags": []
          },
          "execution_count": 85
        }
      ]
    },
    {
      "cell_type": "code",
      "metadata": {
        "colab": {
          "base_uri": "https://localhost:8080/"
        },
        "id": "ZyRGK5t_z6Vs",
        "outputId": "20547191-4c91-4123-d87e-aa7595a433e4"
      },
      "source": [
        "Tweets_before[\"Sentiments\"] = lst"
      ],
      "execution_count": 86,
      "outputs": [
        {
          "output_type": "stream",
          "text": [
            "\n",
            "A value is trying to be set on a copy of a slice from a DataFrame.\n",
            "Try using .loc[row_indexer,col_indexer] = value instead\n",
            "\n",
            "See the caveats in the documentation: https://pandas.pydata.org/pandas-docs/stable/user_guide/indexing.html#returning-a-view-versus-a-copy\n"
          ],
          "name": "stderr"
        }
      ]
    },
    {
      "cell_type": "code",
      "metadata": {
        "id": "bTL3DXJ22WXp"
      },
      "source": [
        ""
      ],
      "execution_count": null,
      "outputs": []
    },
    {
      "cell_type": "code",
      "metadata": {
        "colab": {
          "base_uri": "https://localhost:8080/",
          "height": 204
        },
        "id": "mWejyUtr0Lkr",
        "outputId": "9835a790-2070-4f82-b07a-a5903a130735"
      },
      "source": [
        "Tweets_before.head()"
      ],
      "execution_count": 87,
      "outputs": [
        {
          "output_type": "execute_result",
          "data": {
            "text/html": [
              "<div>\n",
              "<style scoped>\n",
              "    .dataframe tbody tr th:only-of-type {\n",
              "        vertical-align: middle;\n",
              "    }\n",
              "\n",
              "    .dataframe tbody tr th {\n",
              "        vertical-align: top;\n",
              "    }\n",
              "\n",
              "    .dataframe thead th {\n",
              "        text-align: right;\n",
              "    }\n",
              "</style>\n",
              "<table border=\"1\" class=\"dataframe\">\n",
              "  <thead>\n",
              "    <tr style=\"text-align: right;\">\n",
              "      <th></th>\n",
              "      <th>date</th>\n",
              "      <th>tweet</th>\n",
              "      <th>user_id</th>\n",
              "      <th>username</th>\n",
              "      <th>Sentiments</th>\n",
              "    </tr>\n",
              "  </thead>\n",
              "  <tbody>\n",
              "    <tr>\n",
              "      <th>0</th>\n",
              "      <td>2019-12-30 23:59:59</td>\n",
              "      <td>it feels so strange to know i started the deca...</td>\n",
              "      <td>1210277334638637062</td>\n",
              "      <td>youkillmyangel</td>\n",
              "      <td>-1</td>\n",
              "    </tr>\n",
              "    <tr>\n",
              "      <th>1</th>\n",
              "      <td>2019-12-30 23:59:59</td>\n",
              "      <td>immatrip94 Oh I know dont worry Hate dallas I ...</td>\n",
              "      <td>1103038160911556613</td>\n",
              "      <td>trahl1904</td>\n",
              "      <td>-1</td>\n",
              "    </tr>\n",
              "    <tr>\n",
              "      <th>2</th>\n",
              "      <td>2019-12-30 23:59:59</td>\n",
              "      <td>ClactonOnSea Live Weather 0000 AM Temp 42C RH ...</td>\n",
              "      <td>92112055</td>\n",
              "      <td>Shantelle_JJR</td>\n",
              "      <td>-1</td>\n",
              "    </tr>\n",
              "    <tr>\n",
              "      <th>3</th>\n",
              "      <td>2019-12-30 23:59:59</td>\n",
              "      <td>Got an absolutely incredible present today fro...</td>\n",
              "      <td>231931886</td>\n",
              "      <td>BogOtter</td>\n",
              "      <td>1</td>\n",
              "    </tr>\n",
              "    <tr>\n",
              "      <th>4</th>\n",
              "      <td>2019-12-30 23:59:59</td>\n",
              "      <td>Sieh dir meine Übertragung von meiner PlayStat...</td>\n",
              "      <td>900098335805190145</td>\n",
              "      <td>NadelTV_Youtube</td>\n",
              "      <td>1</td>\n",
              "    </tr>\n",
              "  </tbody>\n",
              "</table>\n",
              "</div>"
            ],
            "text/plain": [
              "                  date  ... Sentiments\n",
              "0  2019-12-30 23:59:59  ...         -1\n",
              "1  2019-12-30 23:59:59  ...         -1\n",
              "2  2019-12-30 23:59:59  ...         -1\n",
              "3  2019-12-30 23:59:59  ...          1\n",
              "4  2019-12-30 23:59:59  ...          1\n",
              "\n",
              "[5 rows x 5 columns]"
            ]
          },
          "metadata": {
            "tags": []
          },
          "execution_count": 87
        }
      ]
    },
    {
      "cell_type": "code",
      "metadata": {
        "id": "Y73B0Khz0cev"
      },
      "source": [
        "Tweets_before.to_csv('A.csv')"
      ],
      "execution_count": 90,
      "outputs": []
    },
    {
      "cell_type": "code",
      "metadata": {
        "id": "bJdHTtYY0-rN"
      },
      "source": [
        "d = twint.Config()"
      ],
      "execution_count": 91,
      "outputs": []
    },
    {
      "cell_type": "code",
      "metadata": {
        "id": "xckRXzkm1Efn"
      },
      "source": [
        "d.Search = \"feeling OR live\"\n",
        "# Custom output format\n",
        "d.Format = \"{username} | {tweet}\"\n",
        "d.Until = '2020-03-31'\n",
        "d.Since = '2020-03-01'\n",
        "d.Lang=\"en\"\n",
        "d.Limit = 1\n",
        "d.Pandas = True"
      ],
      "execution_count": 92,
      "outputs": []
    },
    {
      "cell_type": "code",
      "metadata": {
        "colab": {
          "base_uri": "https://localhost:8080/"
        },
        "id": "GnNd17I11Yki",
        "outputId": "ad16dbbc-f76f-4577-a4c2-9e04efc194e6"
      },
      "source": [
        "twint.run.Search(d)"
      ],
      "execution_count": 93,
      "outputs": [
        {
          "output_type": "stream",
          "text": [
            "kirstikoo | @TheRosie Chucked a whole chicken in mine this morning, shredded it and had amazin chicken and coleslaw \"burgers\" couldnae live without mine  https://t.co/CqiNF8Trd2\n",
            "Jessa | TOMORROW!!! I’m gonna go “LIVE” on Facebook &amp; Instagram for the first time ever!! So excited to play some songs &amp; chat with you guys💕 make sure to put it on your calendar &amp; follow me at @jessamusic on Facebook &amp; Instagram to watch the show :)  https://t.co/6rFCgAv9wG\n",
            "__adrianw__ | gente o matheus na live scrr KKKKKKKKKKKKKKKKKK\n",
            "MintChip04 | @ResultsMayGARY Nah live that shit\n",
            "UKAthletics | #BBN, you ready? It’s time for another episode of BBN Live presented by http://ecoachsports.com @ECoach. Tune in as @UKCoachLawson and @UKCoachSkinner sitdown with @Darren_Headrick and chat about sports and daily life. #WeAreUK.  https://t.co/iGXUvyivzA\n",
            "cutyqpink | You can watch videos on V LIVE.  https://t.co/j41M6hEQAc\n",
            "GuiGross10 | primeira música da live do MEK \"te assumi pro brasil\" ai fode com nois\n",
            "josezerosilva | O que eu quero é que o Bruninho me diga no fim de cada live, que vai correr tudo bem ♥️\n",
            "WasonLoki | @anabelzalazar69 Haz el live para todos 😭😭😭😭 como sos baby\n",
            "OleRog | @MinteeKneez At that number people will not have a place to live and go hungry..\n",
            "vodkandgrss | @JoakingBondoniG Wasabi.  TELEHIT LIVE BONDONI\n",
            "cxweak | feeling: small\n",
            "AaronsLimiteds | Check out my broadcast from my PlayStation 4! #PS4live (Fortnite)  live at  https://t.co/hGyGzGsXXL\n",
            "ManuelC12358498 | Come and see 🏆Spicy Emma's LIVE in #BIGOLIVE: Pk now!!🥰    https://t.co/KYhM94Y7JZ  https://t.co/13klCSa7Kz\n",
            "fubarbraedy | hey guys in light of the recent pandemic i’ll be live-streaming my farts 9pm EST 11pm PST #inthistogether\n",
            "ArmaGameplays | ¡Mira la transmisión de mi PlayStation 4! #PS4live (Fortnite)  live at  https://t.co/e5B6glrc8J\n",
            "MantasNick | Treasury Secretary Mnuchin believes that 1200 dollars should be fine for people to live off for the next several months.  He also believes his wife married him for his looks.  https://t.co/FbxwlzBGOR\n",
            "ItsTheBigTy1 | Check out my broadcast from my PlayStation 4! #PS4live (Call of Duty®: Modern Warfare®)  live at  https://t.co/M5FzbL0iAD\n",
            "Sephrit | With my computer gone I’ve had a lot of free time and I’m getting the feeling I haven’t had since high school or it could be sEaSoNaL dEpReSsIoN\n",
            "Zombieionism | “I know South Korea better than anybody” -Donald J trwrong.   *says close to 40 million people live in a city of about 10 million people (Seoul, South Korea)\n",
            "MonsterEnergyP5 | @FBI @FBIChicago @sophie_swaney @GovBillLee  this girl is getting into people hearts and harassing and will not stop in eads Tennessee feeling out stone county\n",
            "k0lax | We are now live for the night with a return to the skies! Drinkin and playing Ace Combat 7 with some Tarkov later :)  @CleanKreweGG    https://t.co/fzFTEKhG8a  https://t.co/2fDClW8HJk\n",
            "lauracomentou | Live Matheus e Kauan aaaaaa  https://t.co/Qerks1tO0r\n",
            "_yibopout | quiero que nos dé un live :(((\n",
            "ThemDems | @Teesa_Michele I wish it made me feel better. Unfortunately, it only leaves me feeling defeated. You can’t fix stupid. 💔  https://t.co/TvGQvEvhsF\n",
            "TylerOrbits | I’m not feeling blockberry at all with this bullcrap give my girls some freedom damn!!! THEY FINALLY WON A MUSIC SHOW for gods sake   #LOONASNSFREEDOM\n",
            "NOLABelle83 | @eyelinerandrose Are you feeling better?\n",
            "No_Leverage | LIVE! New to Tarkov learning how to raid   https://t.co/doaNeFvlAG   #twitch #TwitchStreamer #SmallStreamersConnect #smallstreamer #CallofDuty #fortniteseason2 #pubg #CallofDutyModernWarfare #callofdutyclips #xbox #twitchaffiliat #RoadToAffiliate #EscapeFromTarkov\n",
            "Deke_Dunn | @1LaDiLB I looove coming out here. Nobody ever here and be so quiet. Good part about the country lol. You live in a city?\n",
            "live_gon | ふむふむ。/「ウィンブルドン中止は決定」　ドイツ連盟副会長が明言―テニス：時事ドットコム  https://t.co/uUVUTBR1s0 via @jijicom\n",
            "AnaBeatrizNS | eu na live de Matheus e Kauan esperando quarta cadeira\n",
            "RobinMCouch | the teacher has zoom and conferences with the teacher everyday.  Problem the parents don't cant teach the children.  Most of them are to busy.  Teaching them is so easy and rewarding you live your life teaching them because they are with you all the time watching everything.\n",
            "Yanzin7L | Vim assistir live do Matheus e Kauan Mas cadê o Kauan?\n",
            "athirson_rocha | Hj tem alguma live de sertanejo ?\n",
            "nateslate | @ThatEricAlper More Than A Feeling - Boston\n",
            "gabibarrosk | a live do matheus e kauan só ta o kauan\n",
            "PoorQuentyn | We'll be live with Stannis v. Renly in half an hour!\n",
            "gresscurles | No :'c  TELEHIT LIVE BONDONI\n",
            "JosephPMathews | @daniscoville I definitely sent the feeling wheel to the 8 we used to talk about\n",
            "FaiysalAliKhan | @NarynTRosen @ImGreenGuru When was this? What can we do to prevent these sorts of things? I live in a snow leopard habitat\n",
            "zerobitchez | Shizzi remembering bangers he would have played for sarz during the Instagram live\n",
            "tomtomorrow | @CagedBirdsCafe because I live in a small nyc apartment and it's hard to keep chaos under control\n",
            "deestanz | im just gonna stare at these pics respectfully while waiting for her next ig live\n",
            "sushkapushka | @wbearkt @live_in_peac Я буду бан шинхеком\n",
            "Shiverwarp | @chipzel \"The most\" is so hard to answer. The first movie that came to my mind for evocative and beautiful though was \"Sunshine\". Beautiful scenes of spaceflight and really conjures that feeling of wonder at our solar system and universe. Just ignore the thriller portion.\n",
            "salmirage | There's now a 24hr channel that displays almost live stats on #covid19. USA has just passed France in number of deaths and will likely pass China within 12hrs.  Some states/cities still don't have #StayAtHome orders!! #CoronaUpdates #CoronavirusOutbreak #  https://t.co/HD3yLlBr3e\n",
            "wordnuvola | @naranjaricolor here's your word cloud :^) (sponsored by Walloop - Live Wallpapers  https://t.co/X9KNfYUf8q )  https://t.co/mgoHiGOeJG\n",
            "GressartClub | Vamooooos.   TELEHIT LIVE BONDONI\n",
            "aWard18x | @meagantandy IG Live! ❤\n",
            "77Serenade | @Yamiche than go live there.\n",
            "GabbiiNicole | Feeling rebellious. Might step outside in a minute.\n",
            "kevinyien | Entertainment observation: find myself laughing way less at Late Night shows without the laughter of the audience. And when I do laugh, it feels awkward (like laughing at live standup when no one else did).   FWIW - John Oliver is still killing it\n",
            "BrianGrantOrg | Join us every Friday in April for virtual happy hour! We're kicking things off this Friday, April 3 at 3pm PST with official Blazers @djogone who'll be spinning a set for us on Instagram Live. Follow us on Instagram to join us on Friday to #gethappy!  https://t.co/HUu7JbpmdS\n",
            "savedbyouu | Ahahahahahhahahah a melhor live da quarentena foi a do @JoseCasteloBra2\n",
            "FoxCahn | That feeling when your live stream gets hijacked by white supremacists.  https://t.co/3MaagHAt0T\n",
            "Mariticide_ | 🔴LIVE🔴 Come explore the new skill on @RuneScape with me! We will be digging up some history.  #twitch #MartyMilitia #archeology   https://t.co/MX1lCeUlgQ  https://t.co/CHvWHmSDbo\n",
            "HebertKya | Confira minha transmissão do meu PlayStation 4! #PS4live (Call of Duty®: Modern Warfare®)  live at  https://t.co/i0C3otrcuB\n",
            "NayTeixeira6 | ai matheus e kauan essa live ainda vai me matar.. 🥰\n",
            "keepinupwcarson | I be feeling like I’m getting better   Then everything be hitting all at once\n",
            "nyankorichu | PlayStation 4からブロードキャストを始めました！ #PS4live (モンスターハンターワールド：アイスボーン) 今日も色々なクエストやりま～す♪調査やイベント★ live at  https://t.co/bueYO8ldsb\n",
            "Fistar0 | 17 Liveで楽しいライブ配信を見つけたよ！遊びに行こう！  https://t.co/gitOytkOe2\n",
            "twitwisavages | DMW crew after Sarz x Shizzi IG Live face-off  https://t.co/nRPgSIt764\n",
            "aztiramazul19 | @JoaquinBondoni #JoaquinBondoni  TELEHIT LIVE BONDONI\n",
            "Jkowcu | Hope people might now elevate thoughts of those who are gravely ill, who are detained, those who are trapped, who live in fear, who don't have enough to get by, the chance to see those they love, or don't feel love at all. Permanently. And come out fighting for the better world.\n",
            "Monacan_Angel | Come and see Mr.Maveric🌀's LIVE in #BIGOLIVE: It's my Happy birthday    https://t.co/SYETmAcHpX  https://t.co/uje1f56ZAz\n",
            "RegadasFernando | Essa live do Matheus vai acabar comigo\n",
            "AlyssonARSB | Metallica: Live in Paris, France - September 8, 2017  https://t.co/88SM0MLCTU via @YouTube\n",
            "afterthings | Até na  live do niall isso pqp chatisseeeeee  https://t.co/CCNF8hKovf\n",
            "Juliaraza1 | Agora só a live do Jorge e Mateus é capaz de unir o Twitter novamente\n",
            "SC_GrandCanyon | Grand Canyon just announced its first case of COVID-19. People live in close quarters in the small community of Park Employees and Havasupai Tribal members and their families. Travel is difficult for many. Northern…  https://t.co/1MAQdm2fJO\n",
            "sftmart | @Bondonifly @AnnRg_3 TELEHIT LIVE BONDONI\n",
            "TaranakiCD | The daily COVID-19 press conference has been delayed by half an hour and will be live at 1:30pm.\n",
            "leeibsports1 | Now playing Utiliities by DONVILLE DAVIS! Listen live here:  https://t.co/DtGOAS2kuj\n",
            "hbwniallh | ffjlefk my Indonesian fellas how are we feeling? 🤪  https://t.co/r1P1Pc21oO\n",
            "darkknightjpn1 | 『シェア⭕️目標25,000pt.』- yukinya. 【🍾🌹】さんのMixChannel LIVEに参加しよう！ #ミクチャ  https://t.co/6NzMvmiIpt\n",
            "DjTgro | DJ Tgro - live via  https://t.co/jCSxAcKV5X  https://t.co/bP0ZMzhzCi\n",
            "lleandrinhooo | Cadê essa live do menos é mais\n",
            "IndieBandGuru | IBG drew up a Virtual Tip Jar template for all musicians doing Live Streams to use. Get it FREE at  https://t.co/Qbgo13l2WK #livestream #Periscope #livemusic\n",
            "BravinYuri | Happy Birthday @Jennyswits. May You live long enough to see your dreams come true.😊\n",
            "felixcartal | i'm live with @lights in 1hr on my instagram! who's tuning in?   https://t.co/jyuDeY4MYa\n",
            "vodkandgrss | @JoakingBondoniG Hall of Fame.  TELEHIT LIVE BONDONI\n",
            "ErikGriffin | COD WARZONE SOLO Part8 #ErikGriffinGaming (live)  https://t.co/Fje6v9rpkX via @YouTube\n",
            "MRealmenard | Come and see catieeelala's LIVE in #BIGOLIVE:      https://t.co/w7Bb7TEGMB  https://t.co/7Ypf07Fulb\n",
            "afurokoharu | おはモモトゥリ〜🍑🌲🤗🤗 今日は連休最終日😣 今日も引きこもりだな！ BiSのLIVE動画見よ🥰🥰 っということで皆さん良いち○ぽを🍄🍒🌰🐿💃💃💃💩🌲🌲🌲🌲👶🦕🐒  https://t.co/ZUHSMywfC4\n",
            "sadtortillachip | Feeling accomplished today :-)\n",
            "SerenCSG | A second play for this anthemic masterpiece!  7. @ApolloNashMusic 'Lone Warrior' (@EllipticalSun) LIVE PREMIERE:  https://t.co/pyeGSxQxrJ #AphelionRadio  https://t.co/pHCr7pUk8E\n",
            "beatrizcarvalhb | @danii_leao_ que horas começa a live?\n",
            "Oliva94454097 | Vámonos al live!!!! TELEHIT LIVE BONDONI\n",
            "mo_Al_Raik | \"Allahumma bismika amuutu wa ahyaa\". O Allah (SWT)! With your name I die and I live. Recite this Dua every night before you sleep.\n",
            "drigosb7 | Entrando em live!  https://t.co/Gt04m4KN8o\n",
            "piercrilu | \"Eric Clapton - Wonderful Tonight (Official Live Video)\"  https://t.co/30KJ2JRxt6\n",
            "_nayg | Matheus td perdido na live, mas o bichinho canta demais kkkj ❤️\n",
            "HabaneroTaylor | Sooo day one of doing 50 push-ups a day and it was bad (wasn’t really feeling good today had a headache that would be there for a couple hours then leave but didn’t want to miss push-ups today) (there is no video it was too long but just know I can’t feel my arms)\n",
            "xacex92twitch | Check out my broadcast from my PlayStation 4! #PS4live (The Forest)  live at  https://t.co/R3WDvxh3Wl\n",
            "megarockradio | Now Playing: Warrant - Perfect Request music LIVE right now at  https://t.co/uC9G8vwcH5\n",
            "sc_thaiss | Em plena segunda uma live de M&amp;K, quem disse q o coração aguenta🤧\n",
            "BridgetteWEWS | @oliviafecteau Richie still hanging out in the live truck outside your house for hours confusing all the neighbors?\n",
            "StrangeGress | Bien, todos juiciosos en el live, quién pregunte mamadas me lo madreo.  TELEHIT LIVE JOACO\n",
            "imginagarcia | Check out my broadcast from my PlayStation 4! #PS4live (Tom Clancy's Rainbow Six® Siege)  live at  https://t.co/y0Q8g8f0WQ\n",
            "samtobbie | The IG live thing make sense sha\n"
          ],
          "name": "stdout"
        }
      ]
    },
    {
      "cell_type": "code",
      "metadata": {
        "id": "Nt-6eceF1hcQ"
      },
      "source": [
        "Tweets_df = twint.storage.panda.Tweets_df"
      ],
      "execution_count": 95,
      "outputs": []
    },
    {
      "cell_type": "code",
      "metadata": {
        "id": "4NUgDtcC1l2r"
      },
      "source": [
        "Tweets_after = Tweets_df[['date', 'tweet', 'user_id', 'username']]"
      ],
      "execution_count": 96,
      "outputs": []
    },
    {
      "cell_type": "code",
      "metadata": {
        "colab": {
          "base_uri": "https://localhost:8080/",
          "height": 204
        },
        "id": "VY683izv1smG",
        "outputId": "5abe8bbd-aec7-4b2e-c331-425e4c7791c7"
      },
      "source": [
        "Tweets_after.head()"
      ],
      "execution_count": 97,
      "outputs": [
        {
          "output_type": "execute_result",
          "data": {
            "text/html": [
              "<div>\n",
              "<style scoped>\n",
              "    .dataframe tbody tr th:only-of-type {\n",
              "        vertical-align: middle;\n",
              "    }\n",
              "\n",
              "    .dataframe tbody tr th {\n",
              "        vertical-align: top;\n",
              "    }\n",
              "\n",
              "    .dataframe thead th {\n",
              "        text-align: right;\n",
              "    }\n",
              "</style>\n",
              "<table border=\"1\" class=\"dataframe\">\n",
              "  <thead>\n",
              "    <tr style=\"text-align: right;\">\n",
              "      <th></th>\n",
              "      <th>date</th>\n",
              "      <th>tweet</th>\n",
              "      <th>user_id</th>\n",
              "      <th>username</th>\n",
              "    </tr>\n",
              "  </thead>\n",
              "  <tbody>\n",
              "    <tr>\n",
              "      <th>0</th>\n",
              "      <td>2020-03-30 23:59:59</td>\n",
              "      <td>@TheRosie Chucked a whole chicken in mine this...</td>\n",
              "      <td>213699902</td>\n",
              "      <td>kirstikoo</td>\n",
              "    </tr>\n",
              "    <tr>\n",
              "      <th>1</th>\n",
              "      <td>2020-03-30 23:59:59</td>\n",
              "      <td>TOMORROW!!! I’m gonna go “LIVE” on Facebook &amp;a...</td>\n",
              "      <td>212963561</td>\n",
              "      <td>Jessa</td>\n",
              "    </tr>\n",
              "    <tr>\n",
              "      <th>2</th>\n",
              "      <td>2020-03-30 23:59:59</td>\n",
              "      <td>gente o matheus na live scrr KKKKKKKKKKKKKKKKKK</td>\n",
              "      <td>1078786132081606656</td>\n",
              "      <td>__adrianw__</td>\n",
              "    </tr>\n",
              "    <tr>\n",
              "      <th>3</th>\n",
              "      <td>2020-03-30 23:59:59</td>\n",
              "      <td>@ResultsMayGARY Nah live that shit</td>\n",
              "      <td>118949501</td>\n",
              "      <td>MintChip04</td>\n",
              "    </tr>\n",
              "    <tr>\n",
              "      <th>4</th>\n",
              "      <td>2020-03-30 23:59:59</td>\n",
              "      <td>#BBN, you ready? It’s time for another episode...</td>\n",
              "      <td>24929053</td>\n",
              "      <td>UKAthletics</td>\n",
              "    </tr>\n",
              "  </tbody>\n",
              "</table>\n",
              "</div>"
            ],
            "text/plain": [
              "                  date  ...     username\n",
              "0  2020-03-30 23:59:59  ...    kirstikoo\n",
              "1  2020-03-30 23:59:59  ...        Jessa\n",
              "2  2020-03-30 23:59:59  ...  __adrianw__\n",
              "3  2020-03-30 23:59:59  ...   MintChip04\n",
              "4  2020-03-30 23:59:59  ...  UKAthletics\n",
              "\n",
              "[5 rows x 4 columns]"
            ]
          },
          "metadata": {
            "tags": []
          },
          "execution_count": 97
        }
      ]
    },
    {
      "cell_type": "code",
      "metadata": {
        "colab": {
          "base_uri": "https://localhost:8080/"
        },
        "id": "O81WHJNk1wES",
        "outputId": "cca1a8ea-b132-445f-ab32-baf5b75cd299"
      },
      "source": [
        "for char in string.punctuation:\n",
        "    Tweets_after['tweet'] = Tweets_after['tweet'].str.replace(char, '')"
      ],
      "execution_count": 98,
      "outputs": [
        {
          "output_type": "stream",
          "text": [
            "\n",
            "A value is trying to be set on a copy of a slice from a DataFrame.\n",
            "Try using .loc[row_indexer,col_indexer] = value instead\n",
            "\n",
            "See the caveats in the documentation: https://pandas.pydata.org/pandas-docs/stable/user_guide/indexing.html#returning-a-view-versus-a-copy\n"
          ],
          "name": "stderr"
        }
      ]
    },
    {
      "cell_type": "code",
      "metadata": {
        "id": "GxqUh50u2AHv"
      },
      "source": [
        "tweets3 = Tweets_after['tweet'].tolist()"
      ],
      "execution_count": 99,
      "outputs": []
    },
    {
      "cell_type": "code",
      "metadata": {
        "id": "KNpZTaZE2H3S"
      },
      "source": [
        "lst2 = []\n",
        "for tweet in tweets3:\n",
        "    analysis = TextBlob(tweet)\n",
        "    if analysis.sentiment[0]>0:\n",
        "        lst2.append(1)\n",
        "    elif analysis.sentiment[0]<0:\n",
        "        lst2.append(-1)\n",
        "    else:\n",
        "        lst2.append(0)"
      ],
      "execution_count": 100,
      "outputs": []
    },
    {
      "cell_type": "code",
      "metadata": {
        "colab": {
          "base_uri": "https://localhost:8080/"
        },
        "id": "LLwVcdyB2Nfe",
        "outputId": "5c603c2a-304d-46aa-d922-7ee12dcf2ff1"
      },
      "source": [
        "lst2[:5]"
      ],
      "execution_count": 101,
      "outputs": [
        {
          "output_type": "execute_result",
          "data": {
            "text/plain": [
              "[-1, 1, 1, -1, 1]"
            ]
          },
          "metadata": {
            "tags": []
          },
          "execution_count": 101
        }
      ]
    },
    {
      "cell_type": "code",
      "metadata": {
        "colab": {
          "base_uri": "https://localhost:8080/"
        },
        "id": "9JmDtCfU2XVu",
        "outputId": "03a22ef0-5d61-482d-8615-af07808fcbc5"
      },
      "source": [
        "Tweets_after[\"Sentiments\"] = lst2"
      ],
      "execution_count": 102,
      "outputs": [
        {
          "output_type": "stream",
          "text": [
            "\n",
            "A value is trying to be set on a copy of a slice from a DataFrame.\n",
            "Try using .loc[row_indexer,col_indexer] = value instead\n",
            "\n",
            "See the caveats in the documentation: https://pandas.pydata.org/pandas-docs/stable/user_guide/indexing.html#returning-a-view-versus-a-copy\n"
          ],
          "name": "stderr"
        }
      ]
    },
    {
      "cell_type": "code",
      "metadata": {
        "colab": {
          "base_uri": "https://localhost:8080/",
          "height": 204
        },
        "id": "0mi50VCq2ZkU",
        "outputId": "af010796-27be-4e0a-a4be-6ce323744445"
      },
      "source": [
        "Tweets_after.head()"
      ],
      "execution_count": 103,
      "outputs": [
        {
          "output_type": "execute_result",
          "data": {
            "text/html": [
              "<div>\n",
              "<style scoped>\n",
              "    .dataframe tbody tr th:only-of-type {\n",
              "        vertical-align: middle;\n",
              "    }\n",
              "\n",
              "    .dataframe tbody tr th {\n",
              "        vertical-align: top;\n",
              "    }\n",
              "\n",
              "    .dataframe thead th {\n",
              "        text-align: right;\n",
              "    }\n",
              "</style>\n",
              "<table border=\"1\" class=\"dataframe\">\n",
              "  <thead>\n",
              "    <tr style=\"text-align: right;\">\n",
              "      <th></th>\n",
              "      <th>date</th>\n",
              "      <th>tweet</th>\n",
              "      <th>user_id</th>\n",
              "      <th>username</th>\n",
              "      <th>Sentiments</th>\n",
              "    </tr>\n",
              "  </thead>\n",
              "  <tbody>\n",
              "    <tr>\n",
              "      <th>0</th>\n",
              "      <td>2020-03-30 23:59:59</td>\n",
              "      <td>TheRosie Chucked a whole chicken in mine this ...</td>\n",
              "      <td>213699902</td>\n",
              "      <td>kirstikoo</td>\n",
              "      <td>-1</td>\n",
              "    </tr>\n",
              "    <tr>\n",
              "      <th>1</th>\n",
              "      <td>2020-03-30 23:59:59</td>\n",
              "      <td>TOMORROW I’m gonna go “LIVE” on Facebook amp I...</td>\n",
              "      <td>212963561</td>\n",
              "      <td>Jessa</td>\n",
              "      <td>1</td>\n",
              "    </tr>\n",
              "    <tr>\n",
              "      <th>2</th>\n",
              "      <td>2020-03-30 23:59:59</td>\n",
              "      <td>gente o matheus na live scrr KKKKKKKKKKKKKKKKKK</td>\n",
              "      <td>1078786132081606656</td>\n",
              "      <td>__adrianw__</td>\n",
              "      <td>1</td>\n",
              "    </tr>\n",
              "    <tr>\n",
              "      <th>3</th>\n",
              "      <td>2020-03-30 23:59:59</td>\n",
              "      <td>ResultsMayGARY Nah live that shit</td>\n",
              "      <td>118949501</td>\n",
              "      <td>MintChip04</td>\n",
              "      <td>-1</td>\n",
              "    </tr>\n",
              "    <tr>\n",
              "      <th>4</th>\n",
              "      <td>2020-03-30 23:59:59</td>\n",
              "      <td>BBN you ready It’s time for another episode of...</td>\n",
              "      <td>24929053</td>\n",
              "      <td>UKAthletics</td>\n",
              "      <td>1</td>\n",
              "    </tr>\n",
              "  </tbody>\n",
              "</table>\n",
              "</div>"
            ],
            "text/plain": [
              "                  date  ... Sentiments\n",
              "0  2020-03-30 23:59:59  ...         -1\n",
              "1  2020-03-30 23:59:59  ...          1\n",
              "2  2020-03-30 23:59:59  ...          1\n",
              "3  2020-03-30 23:59:59  ...         -1\n",
              "4  2020-03-30 23:59:59  ...          1\n",
              "\n",
              "[5 rows x 5 columns]"
            ]
          },
          "metadata": {
            "tags": []
          },
          "execution_count": 103
        }
      ]
    },
    {
      "cell_type": "code",
      "metadata": {
        "id": "LZCFhWlA2gft"
      },
      "source": [
        "Tweets_after.to_csv('C.csv')"
      ],
      "execution_count": 105,
      "outputs": []
    },
    {
      "cell_type": "code",
      "metadata": {
        "id": "gbMOHWZJ3lQe"
      },
      "source": [
        "import seaborn as sns\n"
      ],
      "execution_count": 107,
      "outputs": []
    },
    {
      "cell_type": "code",
      "metadata": {
        "colab": {
          "base_uri": "https://localhost:8080/",
          "height": 300
        },
        "id": "8cKnyd9x3xk3",
        "outputId": "63ac6dd2-6b68-4cca-cfea-c7b2fbf73d4d"
      },
      "source": [
        "sns.distplot(Tweets_after['Sentiments'])\n"
      ],
      "execution_count": 110,
      "outputs": [
        {
          "output_type": "execute_result",
          "data": {
            "text/plain": [
              "<matplotlib.axes._subplots.AxesSubplot at 0x7f3b7490fe10>"
            ]
          },
          "metadata": {
            "tags": []
          },
          "execution_count": 110
        },
        {
          "output_type": "display_data",
          "data": {
            "image/png": "[encoded data removed]",
            "text/plain": [
              "<Figure size 432x288 with 1 Axes>"
            ]
          },
          "metadata": {
            "tags": [],
            "needs_background": "light"
          }
        }
      ]
    },
    {
      "cell_type": "code",
      "metadata": {
        "colab": {
          "base_uri": "https://localhost:8080/",
          "height": 300
        },
        "id": "oeLnm5wC37J8",
        "outputId": "07291f89-b656-402e-ad6f-7efebef3367f"
      },
      "source": [
        "sns.distplot(Tweets_before['Sentiments'])"
      ],
      "execution_count": 111,
      "outputs": [
        {
          "output_type": "execute_result",
          "data": {
            "text/plain": [
              "<matplotlib.axes._subplots.AxesSubplot at 0x7f3b748d37f0>"
            ]
          },
          "metadata": {
            "tags": []
          },
          "execution_count": 111
        },
        {
          "output_type": "display_data",
          "data": {
            "image/png": "[encoded data removed]",
            "text/plain": [
              "<Figure size 432x288 with 1 Axes>"
            ]
          },
          "metadata": {
            "tags": [],
            "needs_background": "light"
          }
        }
      ]
    }
  ]
}